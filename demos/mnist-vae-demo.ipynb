{
 "cells": [
  {
   "cell_type": "markdown",
   "metadata": {},
   "source": [
    "# mnist vae\n",
    "\n",
    "- using vae_designer, custom_vae and vae_fast_train\n",
    "- testing these new modules' functionality\n",
    "- demonstrating how these modules can be appled to "
   ]
  },
  {
   "cell_type": "code",
   "execution_count": null,
   "metadata": {
    "ExecuteTime": {
     "end_time": "2019-12-14T10:46:02.961358Z",
     "start_time": "2019-12-14T10:46:02.956831Z"
    }
   },
   "outputs": [],
   "source": [
    "import sys\n",
    "sys.path.append('../modules')"
   ]
  },
  {
   "cell_type": "code",
   "execution_count": 2,
   "metadata": {
    "ExecuteTime": {
     "end_time": "2019-12-14T10:46:03.747936Z",
     "start_time": "2019-12-14T10:46:03.179733Z"
    }
   },
   "outputs": [],
   "source": [
    "from vae_designer import VAEDesigner\n",
    "from custom_vae import conv_sampler, get_vae_and_opt"
   ]
  },
  {
   "cell_type": "code",
   "execution_count": 3,
   "metadata": {
    "ExecuteTime": {
     "end_time": "2019-12-14T10:46:04.019418Z",
     "start_time": "2019-12-14T10:46:03.750814Z"
    }
   },
   "outputs": [],
   "source": [
    "%reload_ext autoreload\n",
    "%autoreload 2\n",
    "%matplotlib inline"
   ]
  },
  {
   "cell_type": "markdown",
   "metadata": {},
   "source": [
    "## Design VAE using vae-designer"
   ]
  },
  {
   "cell_type": "code",
   "execution_count": 24,
   "metadata": {
    "ExecuteTime": {
     "end_time": "2019-12-14T11:07:48.248784Z",
     "start_time": "2019-12-14T11:07:47.962224Z"
    }
   },
   "outputs": [
    {
     "data": {
      "application/vnd.jupyter.widget-view+json": {
       "model_id": "24b79dc8b2fb4fc98c0b634ae627a6cd",
       "version_major": 2,
       "version_minor": 0
      },
      "text/plain": [
       "VBox(children=(HBox(children=(Button(description='ADD LAYER', style=ButtonStyle()), Button(description='REMOVE…"
      ]
     },
     "metadata": {},
     "output_type": "display_data"
    }
   ],
   "source": [
    "des = VAEDesigner(num_layers=3, input_shape=(3, 28, 28), downsize=True, paddings=(0, 1, 0))"
   ]
  },
  {
   "cell_type": "code",
   "execution_count": 29,
   "metadata": {
    "ExecuteTime": {
     "end_time": "2019-12-14T11:10:44.481260Z",
     "start_time": "2019-12-14T11:10:44.008665Z"
    }
   },
   "outputs": [
    {
     "data": {
      "application/vnd.jupyter.widget-view+json": {
       "model_id": "a77ab0cc8bb845ffb3d1578fcb76fbfc",
       "version_major": 2,
       "version_minor": 0
      },
      "text/plain": [
       "VBox(children=(HBox(children=(Button(description='ADD LAYER', style=ButtonStyle()), Button(description='REMOVE…"
      ]
     },
     "metadata": {},
     "output_type": "display_data"
    }
   ],
   "source": [
    "des = VAEDesigner(num_layers=3, input_shape=(64, 2, 2), downsize=False, paddings=(0, 1, 0))"
   ]
  },
  {
   "cell_type": "markdown",
   "metadata": {},
   "source": [
    "## Populate design dict"
   ]
  },
  {
   "cell_type": "code",
   "execution_count": null,
   "metadata": {},
   "outputs": [],
   "source": [
    "VAE_MNIST = {\n",
    "    'down_sampler': conv_sampler(\n",
    "        in_channels=17, \n",
    "        layer_num=2, \n",
    "        kernel_nums=(16, 32, 64), \n",
    "        kernel_sizes=(4, 4, 4), \n",
    "        strides=(2, 2, 2), \n",
    "        paddings=(0, 0, 0),\n",
    "        final_activation=nn.LeakyReLU(0.2),\n",
    "        up_sample=False,\n",
    "        output_type='OrderedDict'\n",
    "    ),\n",
    "    'up_sampler': conv_sampler(\n",
    "        in_channels=64, \n",
    "        layer_num=3, \n",
    "        kernel_nums=(128, 64, 17), \n",
    "        kernel_sizes=(4, 4, 4), \n",
    "        strides=(1, 2, 2), \n",
    "        paddings=(0, 1, 1),\n",
    "        final_activation=nn.Sigmoid(),\n",
    "        up_sample=True,\n",
    "        output_type='OrderedDict'\n",
    "    ),\n",
    "    'h_dim': 64*2*2,\n",
    "    'z_dim': 3,\n",
    "}"
   ]
  },
  {
   "cell_type": "code",
   "execution_count": null,
   "metadata": {},
   "outputs": [],
   "source": []
  },
  {
   "cell_type": "code",
   "execution_count": null,
   "metadata": {},
   "outputs": [],
   "source": []
  }
 ],
 "metadata": {
  "kernelspec": {
   "display_name": "Python 3",
   "language": "python",
   "name": "python3"
  },
  "language_info": {
   "codemirror_mode": {
    "name": "ipython",
    "version": 3
   },
   "file_extension": ".py",
   "mimetype": "text/x-python",
   "name": "python",
   "nbconvert_exporter": "python",
   "pygments_lexer": "ipython3",
   "version": "3.6.9"
  },
  "toc": {
   "base_numbering": 1,
   "nav_menu": {},
   "number_sections": false,
   "sideBar": true,
   "skip_h1_title": false,
   "title_cell": "Table of Contents",
   "title_sidebar": "Contents",
   "toc_cell": false,
   "toc_position": {},
   "toc_section_display": true,
   "toc_window_display": true
  }
 },
 "nbformat": 4,
 "nbformat_minor": 2
}
