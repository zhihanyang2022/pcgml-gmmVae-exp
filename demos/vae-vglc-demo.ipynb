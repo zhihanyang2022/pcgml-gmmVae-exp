{
 "cells": [
  {
   "cell_type": "code",
   "execution_count": 121,
   "metadata": {
    "ExecuteTime": {
     "end_time": "2019-12-19T12:01:09.623863Z",
     "start_time": "2019-12-19T12:01:09.551252Z"
    }
   },
   "outputs": [],
   "source": [
    "global_params = {\n",
    "    'current_game':'smba',\n",
    "    'dev':'cpu',\n",
    "    'smba_chunks_json_fpath':'../data/smbWithPath-allLevels-chunks-int.json',\n",
    "    'kia_chunks_json_fpath':'../data/kiWithPath-allLevels-chunks-int.json'\n",
    "}"
   ]
  },
  {
   "cell_type": "code",
   "execution_count": 105,
   "metadata": {
    "ExecuteTime": {
     "end_time": "2019-12-19T11:54:52.763885Z",
     "start_time": "2019-12-19T11:54:52.734476Z"
    }
   },
   "outputs": [],
   "source": [
    "import numpy as np\n",
    "import torch"
   ]
  },
  {
   "cell_type": "code",
   "execution_count": 109,
   "metadata": {
    "ExecuteTime": {
     "end_time": "2019-12-19T11:58:35.493233Z",
     "start_time": "2019-12-19T11:58:35.454662Z"
    },
    "code_folding": [
     0
    ]
   },
   "outputs": [],
   "source": [
    "def log_progress(sequence, every=None, size=None, name='Items'):\n",
    "    from ipywidgets import IntProgress, HTML, VBox\n",
    "    from IPython.display import display\n",
    "\n",
    "    is_iterator = False\n",
    "    if size is None:\n",
    "        try:\n",
    "            size = len(sequence)\n",
    "        except TypeError:\n",
    "            is_iterator = True\n",
    "    if size is not None:\n",
    "        if every is None:\n",
    "            if size <= 200:\n",
    "                every = 1\n",
    "            else:\n",
    "                every = int(size / 200)     # every 0.5%\n",
    "    else:\n",
    "        assert every is not None, 'sequence is iterator, set every'\n",
    "\n",
    "    if is_iterator:\n",
    "        progress = IntProgress(min=0, max=1, value=1)\n",
    "        progress.bar_style = 'info'\n",
    "    else:\n",
    "        progress = IntProgress(min=0, max=size, value=0)\n",
    "    label = HTML()\n",
    "    box = VBox(children=[label, progress])\n",
    "    display(box)\n",
    "\n",
    "    index = 0\n",
    "    try:\n",
    "        for index, record in enumerate(sequence, 1):\n",
    "            if index == 1 or index % every == 0:\n",
    "                if is_iterator:\n",
    "                    label.value = '{name}: {index} / ?'.format(\n",
    "                        name=name,\n",
    "                        index=index\n",
    "                    )\n",
    "                else:\n",
    "                    progress.value = index\n",
    "                    label.value = u'{name}: {index} / {size}'.format(\n",
    "                        name=name,\n",
    "                        index=index,\n",
    "                        size=size\n",
    "                    )\n",
    "            yield record\n",
    "    except:\n",
    "        progress.bar_style = 'danger'\n",
    "        raise\n",
    "    else:\n",
    "        progress.bar_style = 'success'\n",
    "        progress.value = index\n",
    "        label.value = \"{name}: {index}\".format(\n",
    "            name=name,\n",
    "            index=str(index or '?')\n",
    "        )"
   ]
  },
  {
   "cell_type": "markdown",
   "metadata": {},
   "source": [
    "## Get vae and its optimizer"
   ]
  },
  {
   "cell_type": "code",
   "execution_count": 125,
   "metadata": {
    "ExecuteTime": {
     "end_time": "2019-12-19T12:03:40.322900Z",
     "start_time": "2019-12-19T12:03:40.188013Z"
    }
   },
   "outputs": [],
   "source": [
    "%reload_ext autoreload\n",
    "%autoreload 2\n",
    "%matplotlib inline"
   ]
  },
  {
   "cell_type": "code",
   "execution_count": 126,
   "metadata": {
    "ExecuteTime": {
     "end_time": "2019-12-19T12:03:40.685216Z",
     "start_time": "2019-12-19T12:03:40.550217Z"
    }
   },
   "outputs": [],
   "source": [
    "import sys\n",
    "sys.path.append('../modules')"
   ]
  },
  {
   "cell_type": "code",
   "execution_count": 127,
   "metadata": {
    "ExecuteTime": {
     "end_time": "2019-12-19T12:03:41.073758Z",
     "start_time": "2019-12-19T12:03:40.925881Z"
    }
   },
   "outputs": [],
   "source": [
    "if global_params['current_game'] == 'smba':\n",
    "    enc_input_shape = (12, 16, 16)\n",
    "    dec_input_shape = (64, 1, 1)\n",
    "elif global_params['current_game'] == 'kia':\n",
    "    enc_input_shape = (7, 16, 16)\n",
    "    dec_input_shape = (64, 1, 1)"
   ]
  },
  {
   "cell_type": "code",
   "execution_count": 128,
   "metadata": {
    "ExecuteTime": {
     "end_time": "2019-12-19T12:03:42.876691Z",
     "start_time": "2019-12-19T12:03:42.761926Z"
    }
   },
   "outputs": [],
   "source": [
    "from vae_designer import VAEDesigner\n",
    "from custom_vae import VAEDesign"
   ]
  },
  {
   "cell_type": "code",
   "execution_count": 136,
   "metadata": {
    "ExecuteTime": {
     "end_time": "2019-12-19T12:05:04.500414Z",
     "start_time": "2019-12-19T12:05:04.373740Z"
    }
   },
   "outputs": [],
   "source": [
    "designing = False"
   ]
  },
  {
   "cell_type": "code",
   "execution_count": 130,
   "metadata": {
    "ExecuteTime": {
     "end_time": "2019-12-19T12:03:43.987666Z",
     "start_time": "2019-12-19T12:03:43.488683Z"
    }
   },
   "outputs": [
    {
     "data": {
      "application/vnd.jupyter.widget-view+json": {
       "model_id": "0aa099a208b5418988ee4148ecef93c5",
       "version_major": 2,
       "version_minor": 0
      },
      "text/plain": [
       "VBox(children=(HBox(children=(Label(value='DOWNSAMPLING MODE'),)), HBox(children=(Button(description='ADD LAYE…"
      ]
     },
     "metadata": {},
     "output_type": "display_data"
    }
   ],
   "source": [
    "if designing:\n",
    "    enc_designer = VAEDesigner(input_shape=enc_input_shape, num_layers=3, up_sample=False)"
   ]
  },
  {
   "cell_type": "code",
   "execution_count": 131,
   "metadata": {
    "ExecuteTime": {
     "end_time": "2019-12-19T12:04:00.336796Z",
     "start_time": "2019-12-19T12:03:59.835153Z"
    }
   },
   "outputs": [
    {
     "data": {
      "application/vnd.jupyter.widget-view+json": {
       "model_id": "1a52451d551b409981eb67ae9f2b6ad9",
       "version_major": 2,
       "version_minor": 0
      },
      "text/plain": [
       "VBox(children=(HBox(children=(Label(value='UPSAMPLING MODE'),)), HBox(children=(Button(description='ADD LAYER'…"
      ]
     },
     "metadata": {},
     "output_type": "display_data"
    }
   ],
   "source": [
    "if designing:\n",
    "    dec_designer = VAEDesigner(input_shape=dec_input_shape, num_layers=3, up_sample=True)"
   ]
  },
  {
   "cell_type": "code",
   "execution_count": 132,
   "metadata": {
    "ExecuteTime": {
     "end_time": "2019-12-19T12:04:18.335544Z",
     "start_time": "2019-12-19T12:04:18.212892Z"
    }
   },
   "outputs": [],
   "source": [
    "if designing:\n",
    "    vae_design = VAEDesign(\n",
    "        down_sampler_design=enc_designer.design, \n",
    "        up_sampler_design=dec_designer.design, \n",
    "        h_dim=64, \n",
    "        z_dim=32, \n",
    "        unflatten_out_shape=(64, 1, 1)\n",
    "    )"
   ]
  },
  {
   "cell_type": "code",
   "execution_count": 135,
   "metadata": {
    "ExecuteTime": {
     "end_time": "2019-12-19T12:04:50.048796Z",
     "start_time": "2019-12-19T12:04:49.917703Z"
    }
   },
   "outputs": [],
   "source": [
    "if designing:\n",
    "    current_game = global_params['current_game']\n",
    "    vae_design.save_as_json(f'designs/pcgml_gmmvae_{current_game}.json')"
   ]
  },
  {
   "cell_type": "code",
   "execution_count": 137,
   "metadata": {
    "ExecuteTime": {
     "end_time": "2019-12-19T12:05:08.771097Z",
     "start_time": "2019-12-19T12:05:08.648348Z"
    }
   },
   "outputs": [],
   "source": [
    "from functools import partial\n",
    "from custom_vae import get_vae_and_opt"
   ]
  },
  {
   "cell_type": "code",
   "execution_count": 138,
   "metadata": {
    "ExecuteTime": {
     "end_time": "2019-12-19T12:05:08.969314Z",
     "start_time": "2019-12-19T12:05:08.786349Z"
    }
   },
   "outputs": [
    {
     "name": "stdout",
     "output_type": "stream",
     "text": [
      "Get a trainable VAE and its optimizer.\n"
     ]
    }
   ],
   "source": [
    "print(get_vae_and_opt.__doc__)"
   ]
  },
  {
   "cell_type": "markdown",
   "metadata": {},
   "source": [
    "In the box below, we obtain the single function to conveniently get a trainable VAE and its optimizer from the design json."
   ]
  },
  {
   "cell_type": "code",
   "execution_count": 141,
   "metadata": {
    "ExecuteTime": {
     "end_time": "2019-12-19T12:05:34.407613Z",
     "start_time": "2019-12-19T12:05:34.238663Z"
    }
   },
   "outputs": [],
   "source": [
    "current_game = global_params['current_game']\n",
    "get_vae_and_opt_gmmvae = partial(\n",
    "    get_vae_and_opt, \n",
    "    design_json_fpath=f'designs/pcgml_gmmvae_{current_game}.json',\n",
    "    dev=global_params['dev'],\n",
    ")"
   ]
  },
  {
   "cell_type": "markdown",
   "metadata": {},
   "source": [
    "## Get dataloader"
   ]
  },
  {
   "cell_type": "code",
   "execution_count": 142,
   "metadata": {
    "ExecuteTime": {
     "end_time": "2019-12-19T12:05:39.849572Z",
     "start_time": "2019-12-19T12:05:39.736486Z"
    }
   },
   "outputs": [],
   "source": [
    "from vglc_with_path_encodings import array_from_json, array_to_image"
   ]
  },
  {
   "cell_type": "code",
   "execution_count": 143,
   "metadata": {
    "ExecuteTime": {
     "end_time": "2019-12-19T12:05:40.397484Z",
     "start_time": "2019-12-19T12:05:39.936074Z"
    }
   },
   "outputs": [
    {
     "name": "stdout",
     "output_type": "stream",
     "text": [
      "2698 chunks loaded from ../data/smbWithPath-allLevels-chunks-int.json.\n"
     ]
    }
   ],
   "source": [
    "if global_params['current_game'] == 'smba':\n",
    "    np_int_chunks = array_from_json(global_params['smba_chunks_json_fpath'])\n",
    "elif global_params['current_game'] == 'kia':\n",
    "    np_int_chunks = array_from_json(global_params['kia_chunks_json_fpath'])"
   ]
  },
  {
   "cell_type": "code",
   "execution_count": 144,
   "metadata": {
    "ExecuteTime": {
     "end_time": "2019-12-19T12:05:40.557847Z",
     "start_time": "2019-12-19T12:05:40.401693Z"
    }
   },
   "outputs": [],
   "source": [
    "from fast_train import DataPipeline"
   ]
  },
  {
   "cell_type": "code",
   "execution_count": 145,
   "metadata": {
    "ExecuteTime": {
     "end_time": "2019-12-19T12:05:40.770952Z",
     "start_time": "2019-12-19T12:05:40.626570Z"
    }
   },
   "outputs": [
    {
     "name": "stdout",
     "output_type": "stream",
     "text": [
      "\n",
      "        Convert an array of 2d arrays of integers to a WrappedDataLoader that can be used to train a binary VAE.\n",
      "        A binary VAE is a VAE that takes in and outputs one-hot encoded arrays.\n",
      "        \n",
      "        :param np_int_imgs: an array of 2d arrays of integers, shape: (bs, height, width)\n",
      "        :param bs: batch_size\n",
      "        :param shuffle: whether training examples and targets are shuffled, True for training, False for validation\n",
      "        :return a WrappedDataLoader instance that can be used directly for training a binary VAE\n",
      "        \n"
     ]
    }
   ],
   "source": [
    "print(DataPipeline.pcgml_gmmvae.__doc__)"
   ]
  },
  {
   "cell_type": "code",
   "execution_count": 146,
   "metadata": {
    "ExecuteTime": {
     "end_time": "2019-12-19T12:05:41.158848Z",
     "start_time": "2019-12-19T12:05:40.844688Z"
    }
   },
   "outputs": [],
   "source": [
    "train_dl = DataPipeline.pcgml_gmmvae(\n",
    "    np_int_chunks, \n",
    "    num_channels=len(np.unique(np_int_chunks)),\n",
    "    bs=64,\n",
    "    dev=global_params['dev']\n",
    ")"
   ]
  },
  {
   "cell_type": "markdown",
   "metadata": {},
   "source": [
    "## Get loss functions"
   ]
  },
  {
   "cell_type": "code",
   "execution_count": 147,
   "metadata": {
    "ExecuteTime": {
     "end_time": "2019-12-19T12:05:41.324909Z",
     "start_time": "2019-12-19T12:05:41.173858Z"
    }
   },
   "outputs": [],
   "source": [
    "from fast_train import Loss"
   ]
  },
  {
   "cell_type": "code",
   "execution_count": 148,
   "metadata": {
    "ExecuteTime": {
     "end_time": "2019-12-19T12:05:41.529314Z",
     "start_time": "2019-12-19T12:05:41.387650Z"
    }
   },
   "outputs": [],
   "source": [
    "loss = Loss.bce_kld_total"
   ]
  },
  {
   "cell_type": "markdown",
   "metadata": {},
   "source": [
    "## Integrate dataloader, model, loss and optimizer using Learner"
   ]
  },
  {
   "cell_type": "code",
   "execution_count": 149,
   "metadata": {
    "ExecuteTime": {
     "end_time": "2019-12-19T12:05:41.893986Z",
     "start_time": "2019-12-19T12:05:41.759995Z"
    }
   },
   "outputs": [],
   "source": [
    "from learner import Learner"
   ]
  },
  {
   "cell_type": "code",
   "execution_count": 150,
   "metadata": {
    "ExecuteTime": {
     "end_time": "2019-12-19T12:05:42.051805Z",
     "start_time": "2019-12-19T12:05:41.909071Z"
    }
   },
   "outputs": [],
   "source": [
    "def get_new_learner():\n",
    "    model, opt = get_vae_and_opt_gmmvae()\n",
    "    return Learner(train_data=train_dl, model=model, loss=loss, optim=opt)"
   ]
  },
  {
   "cell_type": "markdown",
   "metadata": {},
   "source": [
    "## Train"
   ]
  },
  {
   "cell_type": "code",
   "execution_count": 151,
   "metadata": {
    "ExecuteTime": {
     "end_time": "2019-12-19T12:05:42.620406Z",
     "start_time": "2019-12-19T12:05:42.507995Z"
    }
   },
   "outputs": [],
   "source": [
    "from generic_callbacks import *"
   ]
  },
  {
   "cell_type": "code",
   "execution_count": 152,
   "metadata": {
    "ExecuteTime": {
     "end_time": "2019-12-19T12:05:43.079952Z",
     "start_time": "2019-12-19T12:05:42.959120Z"
    }
   },
   "outputs": [],
   "source": [
    "class GenLogger(Callback):\n",
    "    \"\"\"Visualize generated arrays for generative models.\"\"\"\n",
    "    _order=1\n",
    "    \n",
    "    def __init__(self, gen_name:str, group:str):\n",
    "        self.gen_name = gen_name\n",
    "        self.group = group\n",
    "\n",
    "    def on_epoch_end(self):\n",
    "        \n",
    "        torch_binary_imgs = self.sd[self.gen_name]\n",
    "        np_binary_imgs = torch_binary_imgs.numpy()\n",
    "        np_int_imgs = np.argmax(np_binary_imgs, axis=1)\n",
    "        pil_imgs = array_to_image(np_int_imgs, game=global_params['current_game'][:-1])\n",
    "        np_rgb_imgs = np.array([np.array(im) for im in pil_imgs])\n",
    "        torch_rgb_imgs = torch.from_numpy(np_rgb_imgs)\n",
    "        \n",
    "        self.sd['writer'].add_images(\n",
    "            f'{self.group}/{self.gen_name}', \n",
    "            torch_rgb_imgs,\n",
    "            global_step=self.sd['epoch']\n",
    "        )"
   ]
  },
  {
   "cell_type": "code",
   "execution_count": 153,
   "metadata": {
    "ExecuteTime": {
     "end_time": "2019-12-19T12:05:43.654721Z",
     "start_time": "2019-12-19T12:05:43.534975Z"
    }
   },
   "outputs": [],
   "source": [
    "class VAETrainer(CallbackHandler):\n",
    "    \n",
    "    def __init__(self, learn, cbs):\n",
    "        self.learn = learn\n",
    "        self.cbs = cbs\n",
    "        \n",
    "    def train(self, num_epochs):\n",
    "        self.on_train_begin()  # create empty accumulators\n",
    "        for epoch in range(num_epochs):\n",
    "            self.on_epoch_begin()\n",
    "            for xb, yb in log_progress(self.learn.train_data, name=f'epoch: {epoch+1}'):\n",
    "                \n",
    "                self.on_batch_begin()\n",
    "                \n",
    "                recon, mu, logvar = self.learn.model(xb)\n",
    "                \n",
    "                self.on_loss_begin()\n",
    "              \n",
    "                loss, bce, kld = self.learn.loss(recon, yb, mu, logvar)\n",
    "                loss, bce, kld = loss / recon.size(0), bce / recon.size(0), kld / (recon.size(0) * 64)\n",
    "                \n",
    "                self.on_backward_begin()\n",
    "                loss.backward()\n",
    "                self.on_backward_end()\n",
    "                self.learn.optim.step()\n",
    "                self.on_step_end()\n",
    "                \n",
    "                self.sd.update({\n",
    "                    'model':self.learn.model,\n",
    "                    'epoch':epoch+1, \n",
    "                    'batch_size':int(xb.size(0)), \n",
    "                    'loss_b':float(loss), \n",
    "                    'bce_b':float(bce), \n",
    "                    'kld_b':float(kld)\n",
    "                })\n",
    "                \n",
    "                self.on_batch_end()\n",
    "                \n",
    "            self.sd.update({'orgs': xb, 'recons': recon})\n",
    "                \n",
    "            gens = self.learn.model.generate(n=5)\n",
    "            self.sd.update({'gens':gens})\n",
    "            \n",
    "            self.on_epoch_end()  # calculate average loss per example, visualize metrics, perform validation if required\n",
    "        self.on_train_end()  # close tensorboard writer, output csv of metrics"
   ]
  },
  {
   "cell_type": "code",
   "execution_count": 156,
   "metadata": {
    "ExecuteTime": {
     "end_time": "2019-12-19T12:05:53.155502Z",
     "start_time": "2019-12-19T12:05:52.986058Z"
    }
   },
   "outputs": [],
   "source": [
    "exp_name = 'pcgml_gmmvae'\n",
    "trial = 1\n",
    "overwrite_vis = True\n",
    "overwrite_csv = True\n",
    "overwrite_pth = True\n",
    "debugger_on = False\n",
    "\n",
    "learner = get_new_learner()\n",
    "\n",
    "vae_cbs = [\n",
    "    TensorboardCreator(log_dir=f'runs/{exp_name}/{trial}', overwrite=overwrite_vis),  # automatically mkdir\n",
    "    MetricLogger(metric_name='loss', group='train', on_tensorboard=True),\n",
    "    MetricLogger(metric_name='bce', group='train', on_tensorboard=True),\n",
    "    MetricLogger(metric_name='kld', group='train', on_tensorboard=True),\n",
    "    MetricsPrinter(metrics_to_print=['last_loss', 'last_bce', 'last_kld']),\n",
    "    MetricsSaver(metrics_to_save=['losss', 'bces', 'klds'], csv_path=f'training_csv/{exp_name}/{trial}.csv', overwrite=overwrite_csv),\n",
    "    GenLogger(gen_name='orgs', group='group1'),\n",
    "    GenLogger(gen_name='recons', group='group1'),\n",
    "    GenLogger(gen_name='gens', group='group1'),\n",
    "    ModelSaver(model_path=f'trained_models/{exp_name}/{trial}.pth', overwrite=overwrite_pth),\n",
    "    Debugger(on=debugger_on),\n",
    "]\n",
    "\n",
    "vae_trainer = VAETrainer(learn=learner, cbs=vae_cbs)"
   ]
  },
  {
   "cell_type": "code",
   "execution_count": null,
   "metadata": {
    "ExecuteTime": {
     "start_time": "2019-12-19T12:05:54.009Z"
    }
   },
   "outputs": [
    {
     "data": {
      "application/vnd.jupyter.widget-view+json": {
       "model_id": "7e077327a03441e8ad978cee16f03514",
       "version_major": 2,
       "version_minor": 0
      },
      "text/plain": [
       "VBox(children=(HTML(value=''), IntProgress(value=0, max=43)))"
      ]
     },
     "metadata": {},
     "output_type": "display_data"
    }
   ],
   "source": [
    "vae_trainer.train(num_epochs=10)"
   ]
  },
  {
   "cell_type": "code",
   "execution_count": null,
   "metadata": {},
   "outputs": [],
   "source": []
  },
  {
   "cell_type": "code",
   "execution_count": null,
   "metadata": {},
   "outputs": [],
   "source": []
  },
  {
   "cell_type": "code",
   "execution_count": null,
   "metadata": {},
   "outputs": [],
   "source": []
  },
  {
   "cell_type": "code",
   "execution_count": null,
   "metadata": {},
   "outputs": [],
   "source": []
  },
  {
   "cell_type": "code",
   "execution_count": null,
   "metadata": {},
   "outputs": [],
   "source": []
  },
  {
   "cell_type": "code",
   "execution_count": null,
   "metadata": {},
   "outputs": [],
   "source": []
  },
  {
   "cell_type": "code",
   "execution_count": null,
   "metadata": {},
   "outputs": [],
   "source": []
  },
  {
   "cell_type": "code",
   "execution_count": null,
   "metadata": {},
   "outputs": [],
   "source": []
  },
  {
   "cell_type": "code",
   "execution_count": null,
   "metadata": {},
   "outputs": [],
   "source": []
  },
  {
   "cell_type": "code",
   "execution_count": null,
   "metadata": {},
   "outputs": [],
   "source": []
  }
 ],
 "metadata": {
  "kernelspec": {
   "display_name": "Python 3",
   "language": "python",
   "name": "python3"
  },
  "language_info": {
   "codemirror_mode": {
    "name": "ipython",
    "version": 3
   },
   "file_extension": ".py",
   "mimetype": "text/x-python",
   "name": "python",
   "nbconvert_exporter": "python",
   "pygments_lexer": "ipython3",
   "version": "3.6.9"
  },
  "toc": {
   "base_numbering": 1,
   "nav_menu": {},
   "number_sections": false,
   "sideBar": true,
   "skip_h1_title": false,
   "title_cell": "Table of Contents",
   "title_sidebar": "Contents",
   "toc_cell": false,
   "toc_position": {},
   "toc_section_display": true,
   "toc_window_display": true
  }
 },
 "nbformat": 4,
 "nbformat_minor": 2
}
