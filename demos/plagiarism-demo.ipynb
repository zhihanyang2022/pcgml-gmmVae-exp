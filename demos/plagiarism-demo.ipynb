{
 "cells": [
  {
   "cell_type": "markdown",
   "metadata": {},
   "source": [
    "# Demo for \"plagiarism as selection criteria\""
   ]
  },
  {
   "cell_type": "code",
   "execution_count": 1,
   "metadata": {},
   "outputs": [],
   "source": [
    "import numpy as np"
   ]
  },
  {
   "cell_type": "code",
   "execution_count": 2,
   "metadata": {},
   "outputs": [],
   "source": [
    "class Distances():\n",
    "\n",
    "    @staticmethod\n",
    "    def euclidean(piece_1:np.array, piece_2:np.array)->float:\n",
    "        \"\"\"\n",
    "        Compute the euclidiean distance between two pieces.\n",
    "\n",
    "        Make sure that both pieces of binary encoded\n",
    "        \"\"\"\n",
    "        return np.sum(np.abs(piece_1 - piece_2))"
   ]
  },
  {
   "cell_type": "code",
   "execution_count": 49,
   "metadata": {},
   "outputs": [],
   "source": [
    "def find_max_plagiarism_for_one_piece(org:np.array, gens:np.array, distance_metric, org_index=None, self_test=False)->(np.array, float):\n",
    "    \"\"\"\n",
    "    Find the piece of generated content that most plagiarizes an original piece of content.\n",
    "    \n",
    "    :param org: an original piece of content, binary encoded\n",
    "    :param gens: an iterable of generated content, binary encoded\n",
    "    :return (an index, a piece of generated content, its plagiarism score)\n",
    "    \"\"\"\n",
    "    min_diff = np.inf\n",
    "    max_plagiarism_piece = None\n",
    "    \n",
    "    for gen_index, gen in enumerate(gens):\n",
    "        \n",
    "        if self_test and gen_index == org_index: pass\n",
    "        else:\n",
    "            diff = distance_metric(org, gen)\n",
    "            if diff < min_diff: \n",
    "                max_plagiarism_piece = gen\n",
    "                min_diff = diff\n",
    "    \n",
    "    return max_plagiarism_piece, min_diff"
   ]
  },
  {
   "cell_type": "code",
   "execution_count": 50,
   "metadata": {},
   "outputs": [],
   "source": [
    "def find_max_plagiarism_pair(orgs:np.array, gens:np.array, distance_metric, self_test=False)->(np.array, np.array, float):\n",
    "    \"\"\"\n",
    "    Find the pair with the highest amount of plagiarism.\n",
    "    \n",
    "    :param orgs: a corpus of original content, binary encoded\n",
    "    :param gens: a corpus of generated content, binary encoded\n",
    "    :return (a piece of original content, a piece of generated content)\n",
    "    \"\"\"\n",
    "    corpus_min_diff = np.inf\n",
    "    highest_plagiarism_pair = None\n",
    "    \n",
    "    for i, org in enumerate(orgs):\n",
    "        gen, min_diff = find_max_plagiarism_for_one_piece(org, gens, distance_metric=distance_metric, org_index=i, self_test=self_test)\n",
    "        if min_diff < corpus_min_diff: \n",
    "            highest_plagiarism_pair = (org, gen)\n",
    "            corpus_min_diff  = min_diff\n",
    "    \n",
    "    return (*highest_plagiarism_pair, corpus_min_diff)"
   ]
  },
  {
   "cell_type": "code",
   "execution_count": null,
   "metadata": {},
   "outputs": [],
   "source": []
  },
  {
   "cell_type": "code",
   "execution_count": null,
   "metadata": {},
   "outputs": [],
   "source": []
  },
  {
   "cell_type": "code",
   "execution_count": null,
   "metadata": {},
   "outputs": [],
   "source": []
  },
  {
   "cell_type": "code",
   "execution_count": null,
   "metadata": {},
   "outputs": [],
   "source": []
  },
  {
   "cell_type": "code",
   "execution_count": null,
   "metadata": {},
   "outputs": [],
   "source": []
  },
  {
   "cell_type": "code",
   "execution_count": null,
   "metadata": {},
   "outputs": [],
   "source": []
  },
  {
   "cell_type": "code",
   "execution_count": null,
   "metadata": {},
   "outputs": [],
   "source": []
  },
  {
   "cell_type": "code",
   "execution_count": null,
   "metadata": {},
   "outputs": [],
   "source": []
  },
  {
   "cell_type": "code",
   "execution_count": null,
   "metadata": {},
   "outputs": [],
   "source": []
  },
  {
   "cell_type": "code",
   "execution_count": null,
   "metadata": {},
   "outputs": [],
   "source": []
  },
  {
   "cell_type": "code",
   "execution_count": null,
   "metadata": {},
   "outputs": [],
   "source": []
  },
  {
   "cell_type": "code",
   "execution_count": null,
   "metadata": {},
   "outputs": [],
   "source": []
  },
  {
   "cell_type": "code",
   "execution_count": null,
   "metadata": {},
   "outputs": [],
   "source": []
  },
  {
   "cell_type": "code",
   "execution_count": null,
   "metadata": {},
   "outputs": [],
   "source": []
  },
  {
   "cell_type": "code",
   "execution_count": null,
   "metadata": {},
   "outputs": [],
   "source": []
  },
  {
   "cell_type": "code",
   "execution_count": null,
   "metadata": {},
   "outputs": [],
   "source": []
  },
  {
   "cell_type": "code",
   "execution_count": null,
   "metadata": {},
   "outputs": [],
   "source": []
  }
 ],
 "metadata": {
  "kernelspec": {
   "display_name": "Python 3",
   "language": "python",
   "name": "python3"
  },
  "language_info": {
   "codemirror_mode": {
    "name": "ipython",
    "version": 3
   },
   "file_extension": ".py",
   "mimetype": "text/x-python",
   "name": "python",
   "nbconvert_exporter": "python",
   "pygments_lexer": "ipython3",
   "version": "3.7.3"
  }
 },
 "nbformat": 4,
 "nbformat_minor": 2
}
