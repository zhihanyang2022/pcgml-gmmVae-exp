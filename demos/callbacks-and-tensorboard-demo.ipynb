{
 "cells": [
  {
   "cell_type": "code",
   "execution_count": 120,
   "metadata": {
    "ExecuteTime": {
     "end_time": "2019-12-16T11:00:10.269559Z",
     "start_time": "2019-12-16T11:00:10.263441Z"
    }
   },
   "outputs": [],
   "source": [
    "import numpy as np\n",
    "import torch\n",
    "import torchvision\n",
    "from torch.utils.tensorboard import SummaryWriter"
   ]
  },
  {
   "cell_type": "code",
   "execution_count": 1,
   "metadata": {
    "ExecuteTime": {
     "end_time": "2019-12-16T10:07:19.065862Z",
     "start_time": "2019-12-16T10:07:19.057690Z"
    }
   },
   "outputs": [],
   "source": [
    "class Callback(): pass"
   ]
  },
  {
   "cell_type": "markdown",
   "metadata": {},
   "source": [
    "## Experiments with `state_dict`"
   ]
  },
  {
   "cell_type": "code",
   "execution_count": 51,
   "metadata": {
    "ExecuteTime": {
     "end_time": "2019-12-16T10:32:26.498727Z",
     "start_time": "2019-12-16T10:32:26.493690Z"
    }
   },
   "outputs": [],
   "source": [
    "class Callback():\n",
    "    \n",
    "    state_dict = {}"
   ]
  },
  {
   "cell_type": "code",
   "execution_count": 62,
   "metadata": {
    "ExecuteTime": {
     "end_time": "2019-12-16T10:32:51.116112Z",
     "start_time": "2019-12-16T10:32:51.112358Z"
    }
   },
   "outputs": [],
   "source": [
    "class CallbackA(Callback): \n",
    "    \n",
    "    def print_state_dict(self):\n",
    "        print(self.state_dict)"
   ]
  },
  {
   "cell_type": "code",
   "execution_count": 63,
   "metadata": {
    "ExecuteTime": {
     "end_time": "2019-12-16T10:32:51.269188Z",
     "start_time": "2019-12-16T10:32:51.264121Z"
    }
   },
   "outputs": [],
   "source": [
    "class CallbackB(Callback): pass"
   ]
  },
  {
   "cell_type": "code",
   "execution_count": 64,
   "metadata": {
    "ExecuteTime": {
     "end_time": "2019-12-16T10:32:51.415195Z",
     "start_time": "2019-12-16T10:32:51.403349Z"
    }
   },
   "outputs": [
    {
     "data": {
      "text/plain": [
       "True"
      ]
     },
     "execution_count": 64,
     "metadata": {},
     "output_type": "execute_result"
    }
   ],
   "source": [
    "CallbackA.state_dict == CallbackB.state_dict"
   ]
  },
  {
   "cell_type": "code",
   "execution_count": 65,
   "metadata": {
    "ExecuteTime": {
     "end_time": "2019-12-16T10:32:51.539310Z",
     "start_time": "2019-12-16T10:32:51.534539Z"
    }
   },
   "outputs": [],
   "source": [
    "CallbackB.state_dict.update({'apple':1})"
   ]
  },
  {
   "cell_type": "markdown",
   "metadata": {},
   "source": [
    "When CallbackB makes a change to its state_dict, CallbackA also perceives that change!"
   ]
  },
  {
   "cell_type": "code",
   "execution_count": 66,
   "metadata": {
    "ExecuteTime": {
     "end_time": "2019-12-16T10:32:51.818436Z",
     "start_time": "2019-12-16T10:32:51.812939Z"
    }
   },
   "outputs": [
    {
     "data": {
      "text/plain": [
       "{'apple': 1, 'pear': 2}"
      ]
     },
     "execution_count": 66,
     "metadata": {},
     "output_type": "execute_result"
    }
   ],
   "source": [
    "CallbackA.state_dict"
   ]
  },
  {
   "cell_type": "code",
   "execution_count": 67,
   "metadata": {
    "ExecuteTime": {
     "end_time": "2019-12-16T10:32:51.955338Z",
     "start_time": "2019-12-16T10:32:51.951930Z"
    }
   },
   "outputs": [],
   "source": [
    "cb_a, cb_b = CallbackA(), CallbackB()"
   ]
  },
  {
   "cell_type": "code",
   "execution_count": 68,
   "metadata": {
    "ExecuteTime": {
     "end_time": "2019-12-16T10:32:52.101122Z",
     "start_time": "2019-12-16T10:32:52.097799Z"
    }
   },
   "outputs": [],
   "source": [
    "cb_a.state_dict.update({'pear':2})"
   ]
  },
  {
   "cell_type": "code",
   "execution_count": 69,
   "metadata": {
    "ExecuteTime": {
     "end_time": "2019-12-16T10:32:52.458367Z",
     "start_time": "2019-12-16T10:32:52.447756Z"
    }
   },
   "outputs": [
    {
     "name": "stdout",
     "output_type": "stream",
     "text": [
      "{'apple': 1, 'pear': 2}\n"
     ]
    }
   ],
   "source": [
    "cb_a.print_state_dict()"
   ]
  },
  {
   "cell_type": "code",
   "execution_count": 70,
   "metadata": {
    "ExecuteTime": {
     "end_time": "2019-12-16T10:32:52.907517Z",
     "start_time": "2019-12-16T10:32:52.897696Z"
    }
   },
   "outputs": [
    {
     "data": {
      "text/plain": [
       "{'apple': 1, 'pear': 2}"
      ]
     },
     "execution_count": 70,
     "metadata": {},
     "output_type": "execute_result"
    }
   ],
   "source": [
    "cb_b.state_dict"
   ]
  },
  {
   "cell_type": "code",
   "execution_count": 60,
   "metadata": {
    "ExecuteTime": {
     "end_time": "2019-12-16T10:32:32.507230Z",
     "start_time": "2019-12-16T10:32:32.498921Z"
    }
   },
   "outputs": [
    {
     "data": {
      "text/plain": [
       "{'apple': 1, 'pear': 2}"
      ]
     },
     "execution_count": 60,
     "metadata": {},
     "output_type": "execute_result"
    }
   ],
   "source": [
    "CallbackA.state_dict"
   ]
  },
  {
   "cell_type": "markdown",
   "metadata": {},
   "source": [
    "## Build callbacks and test them with tensorboard"
   ]
  },
  {
   "cell_type": "code",
   "execution_count": 203,
   "metadata": {
    "ExecuteTime": {
     "end_time": "2019-12-16T11:15:26.569257Z",
     "start_time": "2019-12-16T11:15:26.563590Z"
    },
    "code_folding": [
     0
    ]
   },
   "outputs": [],
   "source": [
    "class Callback(): \n",
    "    sd = {}\n",
    "    def on_train_begin(self): pass\n",
    "    def on_epoch_begin(self): pass\n",
    "    def on_batch_begin(self): pass\n",
    "    def on_loss_begin(self): pass\n",
    "    def on_backward_begin(self): pass\n",
    "    def on_backward_end(self): pass\n",
    "    def on_step_end(self): pass\n",
    "    def on_batch_end(self): pass\n",
    "    def on_epoch_end(self): pass\n",
    "    def on_train_end(self): pass"
   ]
  },
  {
   "cell_type": "code",
   "execution_count": 269,
   "metadata": {
    "ExecuteTime": {
     "end_time": "2019-12-16T11:41:25.908735Z",
     "start_time": "2019-12-16T11:41:25.896796Z"
    },
    "code_folding": []
   },
   "outputs": [],
   "source": [
    "class CallbackHandler(Callback): \n",
    "    \n",
    "    def __init__(self, cbs):\n",
    "        self.cbs = cbs\n",
    "    \n",
    "    def __call__(self, cb_category:str):\n",
    "        self.cbs = sorted(self.cbs, key=lambda cb : cb._order)\n",
    "        for cb in self.cbs: getattr(cb, cb_category)()\n",
    "    \n",
    "    def on_train_begin(self): self('on_train_begin')\n",
    "        \n",
    "    def on_epoch_begin(self): self('on_epoch_begin')\n",
    "    \n",
    "    def on_batch_begin(self): self('on_batch_begin')\n",
    "        \n",
    "    def on_loss_begin(self): self('on_loss_begin')\n",
    "        \n",
    "    def on_backward_begin(self): self('on_backward_begin')\n",
    "        \n",
    "    def on_backward_end(self): self('on_backward_end')\n",
    "        \n",
    "    def on_step_end(self): self('on_step_end')\n",
    "        \n",
    "    def on_batch_end(self): self('on_batch_end')\n",
    "    \n",
    "    def on_epoch_end(self): self('on_epoch_end')\n",
    "        \n",
    "    def on_train_end(self): self('on_train_end')"
   ]
  },
  {
   "cell_type": "code",
   "execution_count": 349,
   "metadata": {
    "ExecuteTime": {
     "end_time": "2019-12-16T12:19:40.351128Z",
     "start_time": "2019-12-16T12:19:40.343190Z"
    }
   },
   "outputs": [],
   "source": [
    "class TensorboardCreator(Callback):\n",
    "    _order=0\n",
    "    \n",
    "    def __init__(self, log_dir):\n",
    "        self.log_dir = log_dir\n",
    "        import os\n",
    "        assert not os.path.isdir(log_dir), AssertionError('log_dir already exists; try another one')\n",
    "    \n",
    "    def on_train_begin(self):\n",
    "        self.sd.update({'writer':SummaryWriter(log_dir=self.log_dir)})\n",
    "        \n",
    "    def on_train_end(self):\n",
    "        self.sd['writer'].flush()\n",
    "        self.sd['writer'].close()\n",
    "        del self.sd['writer']"
   ]
  },
  {
   "cell_type": "code",
   "execution_count": 350,
   "metadata": {
    "ExecuteTime": {
     "end_time": "2019-12-16T12:19:40.870679Z",
     "start_time": "2019-12-16T12:19:40.857940Z"
    }
   },
   "outputs": [],
   "source": [
    "class MetricLogger(Callback):\n",
    "    _order=1\n",
    "    \n",
    "    def __init__(self, metric_name:str, group:str, on_tensorboard:bool=False):\n",
    "        \n",
    "        self.metric_name = metric_name\n",
    "        self.group = group\n",
    "        self.on_tensorboard = on_tensorboard\n",
    "\n",
    "    def on_train_begin(self):\n",
    "        self.sd[f'last_{self.metric_name}'] = None\n",
    "        self.sd[f'{self.metric_name}s'] = []\n",
    "\n",
    "    def on_epoch_begin(self):\n",
    "        self.total = 0\n",
    "        self.num_examples = 0\n",
    "    \n",
    "    def on_batch_end(self):\n",
    "        self.total += self.sd[self.metric_name]\n",
    "        self.num_examples += self.sd['batch_size'] \n",
    "        \n",
    "    def on_epoch_end(self):\n",
    "        \n",
    "        last = self.total / self.num_examples\n",
    "        self.sd[f'last_{self.metric_name}'] = last\n",
    "        self.sd[f'{self.metric_name}s'].append(last)\n",
    "        \n",
    "        if self.on_tensorboard:\n",
    "            self.sd['writer'].add_scalar(\n",
    "                f'{self.group}/{self.metric_name}', \n",
    "                self.sd[f'last_{self.metric_name}'], \n",
    "                self.sd['epoch']\n",
    "            )"
   ]
  },
  {
   "cell_type": "code",
   "execution_count": 351,
   "metadata": {
    "ExecuteTime": {
     "end_time": "2019-12-16T12:19:41.053028Z",
     "start_time": "2019-12-16T12:19:41.044026Z"
    }
   },
   "outputs": [],
   "source": [
    "def fake_train(cb_handler):\n",
    "    cb_handler.on_train_begin()\n",
    "    for i in range(100):\n",
    "        cb_handler.on_epoch_begin()\n",
    "        for j in range(10):\n",
    "            cb_handler.on_batch_begin()\n",
    "            cb_handler.on_loss_begin()\n",
    "            cb_handler.sd.update({'epoch':i, 'batch_size':64, 'bce_loss':np.random.random()*64})\n",
    "            cb_handler.on_backward_begin()\n",
    "            cb_handler.on_backward_end()\n",
    "            cb_handler.on_step_end()\n",
    "            cb_handler.on_batch_end()\n",
    "        cb_handler.on_epoch_end()\n",
    "    cb_handler.on_train_end()"
   ]
  },
  {
   "cell_type": "code",
   "execution_count": 352,
   "metadata": {
    "ExecuteTime": {
     "end_time": "2019-12-16T12:19:41.445297Z",
     "start_time": "2019-12-16T12:19:41.442087Z"
    }
   },
   "outputs": [],
   "source": [
    "exp_name = 'testing_callbacks'\n",
    "trial = 1"
   ]
  },
  {
   "cell_type": "code",
   "execution_count": 353,
   "metadata": {
    "ExecuteTime": {
     "end_time": "2019-12-16T12:19:41.786078Z",
     "start_time": "2019-12-16T12:19:41.752745Z"
    }
   },
   "outputs": [
    {
     "ename": "AssertionError",
     "evalue": "log_dir already exists; try another one",
     "output_type": "error",
     "traceback": [
      "\u001b[0;31m---------------------------------------------------------------------------\u001b[0m",
      "\u001b[0;31mAssertionError\u001b[0m                            Traceback (most recent call last)",
      "\u001b[0;32m<ipython-input-353-5d50c168971a>\u001b[0m in \u001b[0;36m<module>\u001b[0;34m\u001b[0m\n\u001b[1;32m      1\u001b[0m cb_handler = CallbackHandler([\n\u001b[0;32m----> 2\u001b[0;31m     \u001b[0mTensorboardCreator\u001b[0m\u001b[0;34m(\u001b[0m\u001b[0mlog_dir\u001b[0m\u001b[0;34m=\u001b[0m\u001b[0;34mf'runs/{exp_name}/{trial}'\u001b[0m\u001b[0;34m)\u001b[0m\u001b[0;34m,\u001b[0m  \u001b[0;31m# automatically mkdir\u001b[0m\u001b[0;34m\u001b[0m\u001b[0;34m\u001b[0m\u001b[0m\n\u001b[0m\u001b[1;32m      3\u001b[0m     \u001b[0mMetricLogger\u001b[0m\u001b[0;34m(\u001b[0m\u001b[0mmetric_name\u001b[0m\u001b[0;34m=\u001b[0m\u001b[0;34m'bce_loss'\u001b[0m\u001b[0;34m,\u001b[0m \u001b[0mgroup\u001b[0m\u001b[0;34m=\u001b[0m\u001b[0;34m'train'\u001b[0m\u001b[0;34m,\u001b[0m \u001b[0mon_tensorboard\u001b[0m\u001b[0;34m=\u001b[0m\u001b[0;32mTrue\u001b[0m\u001b[0;34m)\u001b[0m\u001b[0;34m\u001b[0m\u001b[0;34m\u001b[0m\u001b[0m\n\u001b[1;32m      4\u001b[0m ])\n\u001b[1;32m      5\u001b[0m \u001b[0mfake_train\u001b[0m\u001b[0;34m(\u001b[0m\u001b[0mcb_handler\u001b[0m\u001b[0;34m)\u001b[0m\u001b[0;34m\u001b[0m\u001b[0;34m\u001b[0m\u001b[0m\n",
      "\u001b[0;32m<ipython-input-349-fa84e5aae8f4>\u001b[0m in \u001b[0;36m__init__\u001b[0;34m(self, log_dir)\u001b[0m\n\u001b[1;32m      5\u001b[0m         \u001b[0mself\u001b[0m\u001b[0;34m.\u001b[0m\u001b[0mlog_dir\u001b[0m \u001b[0;34m=\u001b[0m \u001b[0mlog_dir\u001b[0m\u001b[0;34m\u001b[0m\u001b[0;34m\u001b[0m\u001b[0m\n\u001b[1;32m      6\u001b[0m         \u001b[0;32mimport\u001b[0m \u001b[0mos\u001b[0m\u001b[0;34m\u001b[0m\u001b[0;34m\u001b[0m\u001b[0m\n\u001b[0;32m----> 7\u001b[0;31m         \u001b[0;32massert\u001b[0m \u001b[0;32mnot\u001b[0m \u001b[0mos\u001b[0m\u001b[0;34m.\u001b[0m\u001b[0mpath\u001b[0m\u001b[0;34m.\u001b[0m\u001b[0misdir\u001b[0m\u001b[0;34m(\u001b[0m\u001b[0mlog_dir\u001b[0m\u001b[0;34m)\u001b[0m\u001b[0;34m,\u001b[0m \u001b[0mAssertionError\u001b[0m\u001b[0;34m(\u001b[0m\u001b[0;34m'log_dir already exists; try another one'\u001b[0m\u001b[0;34m)\u001b[0m\u001b[0;34m\u001b[0m\u001b[0;34m\u001b[0m\u001b[0m\n\u001b[0m\u001b[1;32m      8\u001b[0m \u001b[0;34m\u001b[0m\u001b[0m\n\u001b[1;32m      9\u001b[0m     \u001b[0;32mdef\u001b[0m \u001b[0mon_train_begin\u001b[0m\u001b[0;34m(\u001b[0m\u001b[0mself\u001b[0m\u001b[0;34m)\u001b[0m\u001b[0;34m:\u001b[0m\u001b[0;34m\u001b[0m\u001b[0;34m\u001b[0m\u001b[0m\n",
      "\u001b[0;31mAssertionError\u001b[0m: log_dir already exists; try another one"
     ]
    }
   ],
   "source": [
    "cb_handler = CallbackHandler([\n",
    "    TensorboardCreator(log_dir=f'runs/{exp_name}/{trial}'),  # automatically mkdir\n",
    "    MetricLogger(metric_name='bce_loss', group='train', on_tensorboard=True)\n",
    "])\n",
    "fake_train(cb_handler)"
   ]
  },
  {
   "cell_type": "code",
   "execution_count": 329,
   "metadata": {
    "ExecuteTime": {
     "end_time": "2019-12-16T12:12:06.257095Z",
     "start_time": "2019-12-16T12:12:06.216525Z"
    }
   },
   "outputs": [],
   "source": [
    "\n"
   ]
  },
  {
   "cell_type": "code",
   "execution_count": null,
   "metadata": {},
   "outputs": [],
   "source": []
  },
  {
   "cell_type": "code",
   "execution_count": null,
   "metadata": {},
   "outputs": [],
   "source": []
  },
  {
   "cell_type": "code",
   "execution_count": null,
   "metadata": {},
   "outputs": [],
   "source": []
  },
  {
   "cell_type": "code",
   "execution_count": null,
   "metadata": {},
   "outputs": [],
   "source": []
  },
  {
   "cell_type": "code",
   "execution_count": null,
   "metadata": {},
   "outputs": [],
   "source": []
  },
  {
   "cell_type": "code",
   "execution_count": null,
   "metadata": {},
   "outputs": [],
   "source": []
  },
  {
   "cell_type": "code",
   "execution_count": null,
   "metadata": {},
   "outputs": [],
   "source": []
  },
  {
   "cell_type": "code",
   "execution_count": null,
   "metadata": {},
   "outputs": [],
   "source": []
  },
  {
   "cell_type": "code",
   "execution_count": null,
   "metadata": {},
   "outputs": [],
   "source": []
  },
  {
   "cell_type": "code",
   "execution_count": null,
   "metadata": {},
   "outputs": [],
   "source": []
  },
  {
   "cell_type": "code",
   "execution_count": null,
   "metadata": {},
   "outputs": [],
   "source": []
  }
 ],
 "metadata": {
  "kernelspec": {
   "display_name": "Python 3",
   "language": "python",
   "name": "python3"
  },
  "language_info": {
   "codemirror_mode": {
    "name": "ipython",
    "version": 3
   },
   "file_extension": ".py",
   "mimetype": "text/x-python",
   "name": "python",
   "nbconvert_exporter": "python",
   "pygments_lexer": "ipython3",
   "version": "3.6.9"
  },
  "toc": {
   "base_numbering": 1,
   "nav_menu": {},
   "number_sections": false,
   "sideBar": true,
   "skip_h1_title": false,
   "title_cell": "Table of Contents",
   "title_sidebar": "Contents",
   "toc_cell": false,
   "toc_position": {
    "height": "calc(100% - 180px)",
    "left": "10px",
    "top": "150px",
    "width": "284.444px"
   },
   "toc_section_display": true,
   "toc_window_display": true
  }
 },
 "nbformat": 4,
 "nbformat_minor": 2
}
