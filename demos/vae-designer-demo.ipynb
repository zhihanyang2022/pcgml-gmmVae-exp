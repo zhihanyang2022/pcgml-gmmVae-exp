{
 "cells": [
  {
   "cell_type": "markdown",
   "metadata": {},
   "source": [
    "The following two methods are adapted from `fastai.layers.simple_cnn`."
   ]
  },
  {
   "cell_type": "code",
   "execution_count": 1,
   "metadata": {
    "ExecuteTime": {
     "end_time": "2019-12-15T06:24:59.369907Z",
     "start_time": "2019-12-15T06:24:59.355919Z"
    }
   },
   "outputs": [],
   "source": [
    "#export\n",
    "from functools import partial\n",
    "from ipywidgets import interact"
   ]
  },
  {
   "cell_type": "code",
   "execution_count": 2,
   "metadata": {
    "ExecuteTime": {
     "end_time": "2019-12-15T06:24:59.388789Z",
     "start_time": "2019-12-15T06:24:59.378602Z"
    }
   },
   "outputs": [],
   "source": [
    "#export\n",
    "def ifnone(a, b): return a if (a is not None) else b"
   ]
  },
  {
   "cell_type": "code",
   "execution_count": 3,
   "metadata": {
    "ExecuteTime": {
     "end_time": "2019-12-15T06:24:59.396511Z",
     "start_time": "2019-12-15T06:24:59.392299Z"
    }
   },
   "outputs": [],
   "source": [
    "#export\n",
    "from IPython.display import clear_output\n",
    "from ipywidgets.widgets import *"
   ]
  },
  {
   "cell_type": "code",
   "execution_count": 4,
   "metadata": {
    "ExecuteTime": {
     "end_time": "2019-12-15T06:25:00.128705Z",
     "start_time": "2019-12-15T06:24:59.402020Z"
    }
   },
   "outputs": [],
   "source": [
    "%reload_ext autoreload\n",
    "%autoreload 2\n",
    "%matplotlib inline"
   ]
  },
  {
   "cell_type": "code",
   "execution_count": 5,
   "metadata": {
    "ExecuteTime": {
     "end_time": "2019-12-15T06:25:00.151297Z",
     "start_time": "2019-12-15T06:25:00.131775Z"
    }
   },
   "outputs": [],
   "source": [
    "#export\n",
    "def hbox(label:str=None, widgets:list=None):\n",
    "    if label is not None: return HBox([Label(label)])\n",
    "    else: return HBox(widgets)"
   ]
  },
  {
   "cell_type": "code",
   "execution_count": 6,
   "metadata": {
    "ExecuteTime": {
     "end_time": "2019-12-15T06:25:00.170866Z",
     "start_time": "2019-12-15T06:25:00.153577Z"
    }
   },
   "outputs": [],
   "source": [
    "#export\n",
    "def button(description:str, func) -> Button:\n",
    "    button = Button(description=description)\n",
    "    button.on_click(func)\n",
    "    return button"
   ]
  },
  {
   "cell_type": "code",
   "execution_count": 7,
   "metadata": {
    "ExecuteTime": {
     "end_time": "2019-12-15T06:25:00.191208Z",
     "start_time": "2019-12-15T06:25:00.172770Z"
    }
   },
   "outputs": [],
   "source": [
    "#export\n",
    "def intslider(default, max, orientation='vertical'):\n",
    "    w = IntSlider(\n",
    "        value=default,\n",
    "        min=0,\n",
    "        max=max,\n",
    "        step=1,\n",
    "        description='',\n",
    "        disabled=False,\n",
    "        continuous_update=False,\n",
    "        orientation=orientation,\n",
    "        readout=True,\n",
    "        readout_format='d',\n",
    "    )\n",
    "    w.layout.height='95%'\n",
    "    return w"
   ]
  },
  {
   "cell_type": "code",
   "execution_count": 8,
   "metadata": {
    "ExecuteTime": {
     "end_time": "2019-12-15T06:25:00.209307Z",
     "start_time": "2019-12-15T06:25:00.192649Z"
    }
   },
   "outputs": [],
   "source": [
    "#export\n",
    "def inttext(default, min, max):\n",
    "    return BoundedIntText(\n",
    "        value=default,\n",
    "        min=min,\n",
    "        max=max,\n",
    "        step=1,\n",
    "        description='',\n",
    "        disabled=False\n",
    "    )"
   ]
  },
  {
   "cell_type": "code",
   "execution_count": 9,
   "metadata": {
    "ExecuteTime": {
     "end_time": "2019-12-15T06:25:00.226842Z",
     "start_time": "2019-12-15T06:25:00.210863Z"
    }
   },
   "outputs": [],
   "source": [
    "#export\n",
    "def output(): \n",
    "    return Output() #layout={'border': '1px solid grey'})"
   ]
  },
  {
   "cell_type": "code",
   "execution_count": 10,
   "metadata": {
    "ExecuteTime": {
     "end_time": "2019-12-15T06:25:00.248286Z",
     "start_time": "2019-12-15T06:25:00.228618Z"
    }
   },
   "outputs": [],
   "source": [
    "#export\n",
    "import numpy as np"
   ]
  },
  {
   "cell_type": "code",
   "execution_count": 11,
   "metadata": {
    "ExecuteTime": {
     "end_time": "2019-12-15T06:25:00.271116Z",
     "start_time": "2019-12-15T06:25:00.250369Z"
    }
   },
   "outputs": [],
   "source": [
    "#export\n",
    "def fmap_shape_from_tuple(input_shape:tuple, out_channels:int, kernel_size:int, stride:int, padding:int, dilation:int=1, up_sample=False, output_padding=None) -> tuple:\n",
    "    \"\"\"\n",
    "    Compute the size of feature maps given the input size.\n",
    "\n",
    "    param: input_size: a tuple with format (c, h, w)\n",
    "    Reference:\n",
    "    * https://pytorch.org/docs/stable/nn.html#conv2d\n",
    "    * https://pytorch.org/docs/stable/nn.html#maxpool2d\n",
    "    \"\"\"\n",
    "    if not up_sample:\n",
    "        formula = lambda x : np.floor((x + 2 * padding - dilation * (kernel_size - 1) - 1) / stride + 1)\n",
    "    else:\n",
    "        formula = lambda x : np.ceil((x - 1) * stride - 2 * padding + kernel_size + output_padding)\n",
    "\n",
    "    h, w = input_shape[1], input_shape[2]\n",
    "    h_out, w_out = formula(h), formula(w)\n",
    "    shape_out = (int(out_channels), int(h_out), int(w_out))\n",
    "    return shape_out"
   ]
  },
  {
   "cell_type": "code",
   "execution_count": 36,
   "metadata": {
    "ExecuteTime": {
     "end_time": "2019-12-15T06:29:32.111033Z",
     "start_time": "2019-12-15T06:29:32.024938Z"
    },
    "code_folding": []
   },
   "outputs": [],
   "source": [
    "#export\n",
    "class VAEDesigner():\n",
    "\n",
    "    def __init__(self, num_layers:int=3, input_shape=(3, 28, 28), up_sample=False):\n",
    "        \n",
    "        self.num_layers = num_layers\n",
    "        self.input_shape = input_shape\n",
    "        self.up_sample = up_sample\n",
    "        \n",
    "        if self.up_sample: mode = 'DOWNSAMPLING'\n",
    "        else: mode = 'UPSAMPLING'\n",
    "        \n",
    "        # SET HYPERPARAMS\n",
    "        \n",
    "        # hboxs of titles\n",
    "        self.title_mode = hbox(label=f'{mode} MODE')\n",
    "        self.title_paddings = hbox(label='Padding')\n",
    "        self.title_nkernels  = hbox(label=f'Number of kernels')\n",
    "        self.title_skernels = hbox(label=f'Size of kernels')\n",
    "        self.title_strides  = hbox(label=f'Stride')\n",
    "        if self.up_sample: self.title_out_paddings = hbox(label='Output padding')\n",
    "        self.title_shapes   = hbox(label=f'Output shape')\n",
    "        \n",
    "        self.default_widgets = {\n",
    "            'nkernel' : partial(inttext, default=12, min=1, max=128),\n",
    "            'skernel' : partial(inttext, default=4, min=1, max=5),\n",
    "            'stride' : partial(inttext, default=2, min=1, max=3),\n",
    "            'padding' : partial(inttext, default=0, min=0, max=10),\n",
    "            'output_padding': partial(inttext, default=0, min=0, max=10),\n",
    "        }\n",
    "        \n",
    "        self.row_height = '40px'\n",
    "        \n",
    "        # CREATE WIDGETS\n",
    "        \n",
    "        # sliders\n",
    "        widgets_nkernels = [self.default_widgets['nkernel']() for _ in range(num_layers)]\n",
    "        widgets_skernels = [self.default_widgets['skernel']() for _ in range(num_layers)]\n",
    "        widgets_strides  = [self.default_widgets['stride']() for _ in range(num_layers)]\n",
    "        widgets_paddings  = [self.default_widgets['padding']() for _ in range(num_layers)]\n",
    "        widgets_output_paddings = [self.default_widgets['output_padding']() for _ in range(num_layers)]\n",
    "        \n",
    "        # hboxs of sliders\n",
    "        self.hbox_nkernels = hbox(widgets=widgets_nkernels)\n",
    "        self.hbox_skernels = hbox(widgets=widgets_skernels)\n",
    "        self.hbox_strides = hbox(widgets=widgets_strides)\n",
    "        self.hbox_paddings = hbox(widgets=widgets_paddings)\n",
    "        self.hbox_output_paddings = hbox(widgets=widgets_output_paddings)\n",
    "        \n",
    "        # buttons\n",
    "        button_add_layer     = button(description='ADD LAYER', func=self.add_layer)\n",
    "        button_remove_layer  = button(description='REMOVE LAYER', func=self.remove_layer)\n",
    "        button_update_shapes = button(description='UPDATE SHAPES', func=self.update_output_widgets)\n",
    "        self.hbox_buttons = hbox(widgets=[button_add_layer, button_remove_layer, button_update_shapes])\n",
    "        \n",
    "        self.hbox_shapes = hbox(widgets=[output() for i in range(self.num_layers)])\n",
    "    \n",
    "        self.update_layouts_for_hboxs()\n",
    "        self.refresh_interface()\n",
    "        \n",
    "            \n",
    "    # customizable functions\n",
    "            \n",
    "        \n",
    "    def update_layouts_for_hboxs(self) -> None:\n",
    "        hboxs = [self.hbox_paddings, self.hbox_nkernels, self.hbox_skernels,\\\n",
    "                 self.hbox_strides, self.hbox_shapes]\n",
    "        if self.up_sample: hboxs.append(self.hbox_output_paddings)\n",
    "        for hbox in hboxs: \n",
    "            self.set_layout_for_box(hbox, height=self.row_height, align_items='center', justify_content='space-around')\n",
    "\n",
    "            \n",
    "    def update_names_for_sliders(self):\n",
    "        def set_name(i, w): w.description = 'L' + str(i)\n",
    "        hbox_names = ['hbox_paddings', 'hbox_nkernels', 'hbox_skernels', 'hbox_strides']\n",
    "        if self.up_sample: hbox_names.append('hbox_output_paddings')\n",
    "        self.forpass(self.cloop_thru_hboxs(hbox_names, yield_per_step=False, func=set_name))\n",
    "        \n",
    "        \n",
    "    def clear_output_widgets(self):\n",
    "        for out in self.cloop_thru_hboxs(['hbox_shapes']): out.clear_output(wait=True)\n",
    "        \n",
    "\n",
    "    def update_output_widgets(self, b=None):\n",
    "        self.clear_output_widgets()\n",
    "        \n",
    "        input_shape = self.input_shape\n",
    "        hbox_names = ['hbox_shapes', 'hbox_paddings', 'hbox_nkernels', 'hbox_skernels', 'hbox_strides', 'hbox_output_paddings']\n",
    "        for i, (out, padding, num_kernels, kernel_size, stride, output_padding) in enumerate(self.cloop_thru_hboxs(hbox_names)):\n",
    "            output_shape =  fmap_shape_from_tuple(\n",
    "                input_shape=input_shape, \n",
    "                out_channels=num_kernels.value, \n",
    "                kernel_size=kernel_size.value, \n",
    "                stride=stride.value, \n",
    "                padding=padding.value, \n",
    "                up_sample=self.up_sample,\n",
    "                output_padding=output_padding.value\n",
    "            )\n",
    "            with out: print(output_shape)\n",
    "            input_shape = output_shape\n",
    "              \n",
    "            \n",
    "    # functions activated by buttons\n",
    "        \n",
    "        \n",
    "    def add_layer(self, b):\n",
    "        if not self.num_layers > 7:\n",
    "            self.hbox_paddings.children += (self.default_widgets['padding'](), )\n",
    "            self.hbox_nkernels.children += (self.default_widgets['nkernel'](), )\n",
    "            self.hbox_skernels.children += (self.default_widgets['skernel'](), )\n",
    "            self.hbox_strides.children += (self.default_widgets['stride'](), )\n",
    "            self.hbox_output_paddings.children += (self.default_widgets['output_padding'](), )\n",
    "            self.hbox_shapes.children += (output(), )\n",
    "            self.num_layers += 1\n",
    "            self.refresh_interface()\n",
    "        \n",
    "        \n",
    "    def remove_layer(self, b):\n",
    "        if self.num_layers > 1:\n",
    "            \n",
    "            hbox_paddings = list(self.hbox_paddings.children)\n",
    "            self.hbox_paddings = hbox(widgets=hbox_paddings[:-1])\n",
    "            \n",
    "            hbox_nkernels = list(self.hbox_nkernels.children)\n",
    "            self.hbox_nkernels = hbox(widgets=hbox_nkernels[:-1])\n",
    "            \n",
    "            hbox_skernels = list(self.hbox_skernels.children)\n",
    "            self.hbox_skernels = hbox(widgets=hbox_skernels[:-1])\n",
    "\n",
    "            hbox_strides = list(self.hbox_strides.children)\n",
    "            self.hbox_strides = hbox(widgets=hbox_strides[:-1])\n",
    "            \n",
    "            hbox_output_paddings = list(self.hbox_output_paddings.children)\n",
    "            self.hbox_output_paddings = hbox(widgets=hbox_output_paddings[:-1])\n",
    "            \n",
    "            hbox_shapes = list(self.hbox_shapes.children)\n",
    "            self.hbox_shapes = hbox(widgets=hbox_shapes[:-1])\n",
    "\n",
    "            self.update_layouts_for_hboxs()\n",
    "            \n",
    "            self.num_layers -= 1\n",
    "            self.refresh_interface()\n",
    "        \n",
    "        \n",
    "    def refresh_interface(self):\n",
    "        clear_output(wait=True)\n",
    "        self.update_names_for_sliders()\n",
    "        self.update_output_widgets()\n",
    "        # output paddings are kept track of even when self.up_sample is True; however, it is not shown\n",
    "        if not self.up_sample:\n",
    "            display(VBox([\n",
    "\n",
    "                    self.title_mode,\n",
    "                    self.hbox_buttons,\n",
    "\n",
    "                    self.title_paddings,\n",
    "                    self.hbox_paddings,\n",
    "\n",
    "                    self.title_nkernels, \n",
    "                    self.hbox_nkernels,\n",
    "\n",
    "                    self.title_skernels,\n",
    "                    self.hbox_skernels,\n",
    "\n",
    "                    self.title_strides,\n",
    "                    self.hbox_strides,\n",
    "\n",
    "                    self.title_shapes,\n",
    "                    self.hbox_shapes,\n",
    "\n",
    "            ]))\n",
    "        else:\n",
    "            display(VBox([\n",
    "\n",
    "                    self.title_mode,\n",
    "                    self.hbox_buttons,\n",
    "\n",
    "                    self.title_paddings,\n",
    "                    self.hbox_paddings,\n",
    "\n",
    "                    self.title_nkernels, \n",
    "                    self.hbox_nkernels,\n",
    "\n",
    "                    self.title_skernels,\n",
    "                    self.hbox_skernels,\n",
    "\n",
    "                    self.title_strides,\n",
    "                    self.hbox_strides,\n",
    "                \n",
    "                    self.title_out_paddings,\n",
    "                    self.hbox_output_paddings,\n",
    "\n",
    "                    self.title_shapes,\n",
    "                    self.hbox_shapes,\n",
    "\n",
    "            ]))\n",
    "            \n",
    "            \n",
    "    def cloop_thru_hboxs(self, hboxs_names:list, yield_per_step:bool=True, func=None):\n",
    "        \"\"\"\n",
    "        Loop through widgets in several HBox's concurrently (hence the name cloop).\n",
    "        \n",
    "        For example, looping through [1, 2, 3] and [4, 5, 6] concurrently means to return \n",
    "        the following tuples on at a time (1, 4), (2, 5) and (3, 6).\n",
    "        \n",
    "        param: hboxs_names: the list of HBox's to be looped through\n",
    "        param: yield_per_step: whether something need to be yielded at each iteration, default True\n",
    "        param: func: if passed in, something is done (inplace) at each iteration, default None\n",
    "        \"\"\"\n",
    "        \n",
    "        def identity(i, w): pass\n",
    "        func = ifnone(func, identity)\n",
    "\n",
    "        list_of_tuples_of_children = [getattr(self, name, None).children for name in hboxs_names]\n",
    "        assert None not in list_of_tuples_of_children, print('Children cannot be None.')\n",
    "\n",
    "        for i, batch in enumerate(zip(*list_of_tuples_of_children)):\n",
    "            if len(list_of_tuples_of_children) == 1: \n",
    "                func(i, batch[0])\n",
    "                yield batch[0]\n",
    "            else: \n",
    "                for w in batch: func(i, w) \n",
    "                yield batch\n",
    "                \n",
    "    @property     \n",
    "    def design(self):\n",
    "        design_dict = {\n",
    "            'in_channels': self.input_shape[0],\n",
    "            'layer_num': self.num_layers,\n",
    "            'kernel_nums': tuple([c.value for c in self.hbox_nkernels.children]),\n",
    "            'kernel_sizes': tuple([c.value for c in self.hbox_skernels.children]),\n",
    "            'strides': tuple([c.value for c in self.hbox_strides.children]),\n",
    "            'paddings': tuple([c.value for c in self.hbox_paddings.children]),\n",
    "        }\n",
    "        if self.up_sample: \n",
    "            design_dict.update({'up_sample': self.up_sample})\n",
    "            design_dict.update({'output_paddings': tuple([c.value for c in self.hbox_output_paddings.children])})\n",
    "        return design_dict\n",
    "                \n",
    "                \n",
    "    @staticmethod\n",
    "    def forpass(iterator): \n",
    "        \"\"\"Loop through any generator without receiving its outputs; useful for inplace operations.\"\"\"\n",
    "        for _ in iterator: pass\n",
    "                    \n",
    "            \n",
    "    @staticmethod\n",
    "    def set_layout_for_box(\n",
    "        box:HBox, \n",
    "        height:str=None, \n",
    "        align_items:str=None, \n",
    "        justify_content:str=None) -> None:\n",
    "        \"\"\"\n",
    "        Specify value for the `height`, `align_items` and `justify_items` attributes of a box.\n",
    "\n",
    "        param: box: the box whose attributes will be setted\n",
    "        param: height: the vertical height of the box in px, default None\n",
    "        param: align_items: the location of widgets with respect to the horizontal midline of the box\n",
    "        param: justify_content: the style by which widgets are organized horizontally\n",
    "        \"\"\"\n",
    "        if height          is not None: box.layout.height = height\n",
    "        if align_items     is not None: box.layout.align_items = align_items\n",
    "        if justify_content is not None: box.layout.justify_content = justify_content"
   ]
  },
  {
   "cell_type": "markdown",
   "metadata": {},
   "source": [
    "```python\n",
    "self.decoder = nn.Sequential(\n",
    "            UnFlatten(),\n",
    "            nn.ConvTranspose2d(h_dim, 128, kernel_size=4, stride=1),\n",
    "            nn.BatchNorm2d(128),\n",
    "            nn.ReLU(),\n",
    "            nn.ConvTranspose2d(128,64,kernel_size=4,stride=2, padding=1),\n",
    "            nn.BatchNorm2d(64),\n",
    "            nn.ReLU(),\n",
    "            nn.ConvTranspose2d(64, nc, kernel_size=4, stride=2, padding=1),\n",
    "            nn.Sigmoid()\n",
    "        )\n",
    "```"
   ]
  },
  {
   "cell_type": "code",
   "execution_count": null,
   "metadata": {},
   "outputs": [],
   "source": []
  },
  {
   "cell_type": "code",
   "execution_count": null,
   "metadata": {},
   "outputs": [],
   "source": []
  },
  {
   "cell_type": "code",
   "execution_count": null,
   "metadata": {},
   "outputs": [],
   "source": []
  },
  {
   "cell_type": "code",
   "execution_count": null,
   "metadata": {},
   "outputs": [],
   "source": []
  },
  {
   "cell_type": "code",
   "execution_count": null,
   "metadata": {},
   "outputs": [],
   "source": []
  },
  {
   "cell_type": "code",
   "execution_count": null,
   "metadata": {},
   "outputs": [],
   "source": []
  },
  {
   "cell_type": "code",
   "execution_count": null,
   "metadata": {},
   "outputs": [],
   "source": []
  },
  {
   "cell_type": "code",
   "execution_count": null,
   "metadata": {},
   "outputs": [],
   "source": []
  },
  {
   "cell_type": "code",
   "execution_count": null,
   "metadata": {},
   "outputs": [],
   "source": []
  },
  {
   "cell_type": "code",
   "execution_count": null,
   "metadata": {},
   "outputs": [],
   "source": []
  },
  {
   "cell_type": "code",
   "execution_count": null,
   "metadata": {},
   "outputs": [],
   "source": []
  },
  {
   "cell_type": "code",
   "execution_count": null,
   "metadata": {},
   "outputs": [],
   "source": []
  },
  {
   "cell_type": "code",
   "execution_count": null,
   "metadata": {},
   "outputs": [],
   "source": []
  },
  {
   "cell_type": "code",
   "execution_count": null,
   "metadata": {},
   "outputs": [],
   "source": []
  },
  {
   "cell_type": "code",
   "execution_count": null,
   "metadata": {},
   "outputs": [],
   "source": []
  },
  {
   "cell_type": "code",
   "execution_count": null,
   "metadata": {},
   "outputs": [],
   "source": []
  }
 ],
 "metadata": {
  "kernelspec": {
   "display_name": "Python 3",
   "language": "python",
   "name": "python3"
  },
  "language_info": {
   "codemirror_mode": {
    "name": "ipython",
    "version": 3
   },
   "file_extension": ".py",
   "mimetype": "text/x-python",
   "name": "python",
   "nbconvert_exporter": "python",
   "pygments_lexer": "ipython3",
   "version": "3.6.9"
  },
  "toc": {
   "base_numbering": 1,
   "nav_menu": {},
   "number_sections": true,
   "sideBar": true,
   "skip_h1_title": false,
   "title_cell": "Table of Contents",
   "title_sidebar": "Contents",
   "toc_cell": false,
   "toc_position": {},
   "toc_section_display": true,
   "toc_window_display": false
  }
 },
 "nbformat": 4,
 "nbformat_minor": 2
}
