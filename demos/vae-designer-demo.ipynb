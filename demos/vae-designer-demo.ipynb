{
 "cells": [
  {
   "cell_type": "code",
   "execution_count": 1,
   "metadata": {
    "ExecuteTime": {
     "end_time": "2019-12-13T00:23:28.732472Z",
     "start_time": "2019-12-13T00:23:22.772094Z"
    }
   },
   "outputs": [],
   "source": [
    "# export\n",
    "from dataclasses import dataclass\n",
    "import torch\n",
    "from torch import nn, optim\n",
    "from torch.utils.data import TensorDataset, DataLoader\n",
    "import torch.nn.functional as F\n",
    "from fastai.layers import conv_layer, NormType\n",
    "from typing import *"
   ]
  },
  {
   "cell_type": "code",
   "execution_count": 2,
   "metadata": {
    "ExecuteTime": {
     "end_time": "2019-12-13T00:23:28.742125Z",
     "start_time": "2019-12-13T00:23:28.735335Z"
    }
   },
   "outputs": [],
   "source": [
    "# export\n",
    "class Flatten(nn.Module):\n",
    "    def forward(self, input): return input.view(input.size(0), -1)\n",
    "\n",
    "class UnFlatten(nn.Module):\n",
    "    def forward(self, input): return input.view(input.size(0), 64, 3, 3)"
   ]
  },
  {
   "cell_type": "markdown",
   "metadata": {},
   "source": [
    "The following two methods are adapted from `fastai.layers.simple_cnn`."
   ]
  },
  {
   "cell_type": "code",
   "execution_count": 3,
   "metadata": {
    "ExecuteTime": {
     "end_time": "2019-12-13T00:23:28.752663Z",
     "start_time": "2019-12-13T00:23:28.745204Z"
    }
   },
   "outputs": [],
   "source": [
    "# export\n",
    "def ifnone(a, b): return a if (a is not None) else b"
   ]
  },
  {
   "cell_type": "code",
   "execution_count": 4,
   "metadata": {
    "ExecuteTime": {
     "end_time": "2019-12-13T00:23:28.821422Z",
     "start_time": "2019-12-13T00:23:28.756822Z"
    }
   },
   "outputs": [],
   "source": [
    "conv_layer?"
   ]
  },
  {
   "cell_type": "code",
   "execution_count": 5,
   "metadata": {
    "ExecuteTime": {
     "end_time": "2019-12-13T00:23:28.828355Z",
     "start_time": "2019-12-13T00:23:28.824189Z"
    }
   },
   "outputs": [],
   "source": [
    "def FeatureManipulator(): pass\n",
    "# - just output the proper network\n",
    "class Designer(): pass\n",
    "# think about how I usually design a VAE, this class is essentially a mental model\n",
    "# - shape of input data\n",
    "# - design the network\n",
    "#   - specify number of encoding dimensions\n",
    "#   - add a layer, remove a layer, output_padding add or remove\n",
    "#   - strides = 4, padding = 2 (for future updates)\n",
    "#   - wish: dynamic feedback on the input shape and the output shape (where human inspection is needed)\n",
    "#   - problem arises when: output of encoder is too small already, becomes zero or something like that\n",
    "# - output the network to be trained, in several moving parts, maybe create a dummy class for them\n",
    "# tools needed\n",
    "# - IPy widgets\n",
    "class Callback(): pass\n",
    "class CallbackHandler(Callback): pass\n",
    "class Trainer(CallbackHandler): pass"
   ]
  },
  {
   "cell_type": "code",
   "execution_count": 9,
   "metadata": {
    "ExecuteTime": {
     "end_time": "2019-12-13T00:23:40.554520Z",
     "start_time": "2019-12-13T00:23:40.545320Z"
    }
   },
   "outputs": [],
   "source": [
    "import ipywidgets as widgets\n",
    "from IPython.display import display, clear_output"
   ]
  },
  {
   "cell_type": "code",
   "execution_count": null,
   "metadata": {
    "ExecuteTime": {
     "end_time": "2019-12-13T00:23:28.870172Z",
     "start_time": "2019-12-13T00:23:22.794Z"
    }
   },
   "outputs": [],
   "source": [
    "clear_output?\n",
    "import time"
   ]
  },
  {
   "cell_type": "code",
   "execution_count": null,
   "metadata": {
    "ExecuteTime": {
     "end_time": "2019-12-13T00:23:28.871614Z",
     "start_time": "2019-12-13T00:23:22.797Z"
    }
   },
   "outputs": [],
   "source": [
    "a = [1, 2, 3]\n",
    "a.pop(-1)"
   ]
  },
  {
   "cell_type": "code",
   "execution_count": 10,
   "metadata": {
    "ExecuteTime": {
     "end_time": "2019-12-13T00:23:42.502790Z",
     "start_time": "2019-12-13T00:23:42.474290Z"
    }
   },
   "outputs": [
    {
     "data": {
      "application/vnd.jupyter.widget-view+json": {
       "model_id": "f3ef52930c924e16b7f7088605ee1d0c",
       "version_major": 2,
       "version_minor": 0
      },
      "text/plain": [
       "Button(description='Click Me!', style=ButtonStyle())"
      ]
     },
     "metadata": {},
     "output_type": "display_data"
    },
    {
     "data": {
      "application/vnd.jupyter.widget-view+json": {
       "model_id": "1d7c6b5d4a3540988aa443163ff3dd1a",
       "version_major": 2,
       "version_minor": 0
      },
      "text/plain": [
       "Output()"
      ]
     },
     "metadata": {},
     "output_type": "display_data"
    }
   ],
   "source": [
    "\n",
    "from IPython.display import display\n",
    "button = widgets.Button(description=\"Click Me!\")\n",
    "output = widgets.Output()\n",
    "\n",
    "display(button, output)\n",
    "\n",
    "def on_button_clicked(b):\n",
    "    with output:\n",
    "        print(\"Button clicked.\")\n",
    "\n",
    "button.on_click(on_button_clicked)"
   ]
  },
  {
   "cell_type": "code",
   "execution_count": 11,
   "metadata": {
    "ExecuteTime": {
     "end_time": "2019-12-13T00:23:42.774170Z",
     "start_time": "2019-12-13T00:23:42.760742Z"
    }
   },
   "outputs": [
    {
     "data": {
      "text/plain": [
       "3"
      ]
     },
     "execution_count": 11,
     "metadata": {},
     "output_type": "execute_result"
    }
   ],
   "source": [
    "len((1, 2, 3))"
   ]
  },
  {
   "cell_type": "code",
   "execution_count": 12,
   "metadata": {
    "ExecuteTime": {
     "end_time": "2019-12-13T00:23:43.104221Z",
     "start_time": "2019-12-13T00:23:43.076181Z"
    }
   },
   "outputs": [
    {
     "data": {
      "application/vnd.jupyter.widget-view+json": {
       "model_id": "69da8deda5a34dbdac174e3cf9386633",
       "version_major": 2,
       "version_minor": 0
      },
      "text/plain": [
       "Button(description='Click Me!', style=ButtonStyle())"
      ]
     },
     "metadata": {},
     "output_type": "display_data"
    },
    {
     "data": {
      "application/vnd.jupyter.widget-view+json": {
       "model_id": "c910559500334e56ae0fee036d645aca",
       "version_major": 2,
       "version_minor": 0
      },
      "text/plain": [
       "Output()"
      ]
     },
     "metadata": {},
     "output_type": "display_data"
    }
   ],
   "source": [
    "button = widgets.Button(description=\"Click Me!\")\n",
    "output = widgets.Output()\n",
    "\n",
    "\n",
    "\n",
    "def on_button_clicked(b):\n",
    "    with output:\n",
    "        print(\"Button clicked.\")\n",
    "        \n",
    "button.on_click(on_button_clicked)    \n",
    "display(button, output)"
   ]
  },
  {
   "cell_type": "code",
   "execution_count": 13,
   "metadata": {
    "ExecuteTime": {
     "end_time": "2019-12-13T00:23:43.788655Z",
     "start_time": "2019-12-13T00:23:43.784662Z"
    }
   },
   "outputs": [],
   "source": [
    "def autorefresh(f):\n",
    "    def inner():\n",
    "        f()\n",
    "        "
   ]
  },
  {
   "cell_type": "code",
   "execution_count": null,
   "metadata": {},
   "outputs": [],
   "source": []
  },
  {
   "cell_type": "code",
   "execution_count": 14,
   "metadata": {
    "ExecuteTime": {
     "end_time": "2019-12-13T00:23:44.116453Z",
     "start_time": "2019-12-13T00:23:44.089191Z"
    }
   },
   "outputs": [
    {
     "data": {
      "application/vnd.jupyter.widget-view+json": {
       "model_id": "accc0379e5ed47569f66c3c840174e95",
       "version_major": 2,
       "version_minor": 0
      },
      "text/plain": [
       "IntSlider(value=0, description='(50% width, 80px height) button', layout=Layout(height='80px', width='50%'), o…"
      ]
     },
     "metadata": {},
     "output_type": "display_data"
    }
   ],
   "source": [
    "widgets.IntSlider(description='(50% width, 80px height) button',\n",
    "           layout=widgets.Layout(width='50%', height='80px'), orientation='vertical')"
   ]
  },
  {
   "cell_type": "code",
   "execution_count": 15,
   "metadata": {
    "ExecuteTime": {
     "end_time": "2019-12-13T00:23:44.332378Z",
     "start_time": "2019-12-13T00:23:44.307055Z"
    }
   },
   "outputs": [
    {
     "data": {
      "text/plain": [
       "[(1, 4), (2, 5), (3, 6)]"
      ]
     },
     "execution_count": 15,
     "metadata": {},
     "output_type": "execute_result"
    }
   ],
   "source": [
    "list(zip(*[[1, 2, 3, ], [4, 5, 6]]))"
   ]
  },
  {
   "cell_type": "code",
   "execution_count": 16,
   "metadata": {
    "ExecuteTime": {
     "end_time": "2019-12-13T00:23:44.381230Z",
     "start_time": "2019-12-13T00:23:44.375420Z"
    }
   },
   "outputs": [
    {
     "ename": "SyntaxError",
     "evalue": "invalid syntax (<ipython-input-16-95dc100cc419>, line 1)",
     "output_type": "error",
     "traceback": [
      "\u001b[0;36m  File \u001b[0;32m\"<ipython-input-16-95dc100cc419>\"\u001b[0;36m, line \u001b[0;32m1\u001b[0m\n\u001b[0;31m    for (batch in zip(*[[1, 2, 3, ]]): print(batch)\u001b[0m\n\u001b[0m                                     ^\u001b[0m\n\u001b[0;31mSyntaxError\u001b[0m\u001b[0;31m:\u001b[0m invalid syntax\n"
     ]
    }
   ],
   "source": [
    "for (batch in zip(*[[1, 2, 3, ]]): print(batch)"
   ]
  },
  {
   "cell_type": "code",
   "execution_count": 17,
   "metadata": {
    "ExecuteTime": {
     "end_time": "2019-12-13T00:23:44.606003Z",
     "start_time": "2019-12-13T00:23:44.577611Z"
    }
   },
   "outputs": [],
   "source": [
    "class Obj(): pass"
   ]
  },
  {
   "cell_type": "code",
   "execution_count": 18,
   "metadata": {
    "ExecuteTime": {
     "end_time": "2019-12-13T00:23:46.712735Z",
     "start_time": "2019-12-13T00:23:46.709477Z"
    }
   },
   "outputs": [],
   "source": [
    "a = Obj()"
   ]
  },
  {
   "cell_type": "code",
   "execution_count": 19,
   "metadata": {
    "ExecuteTime": {
     "end_time": "2019-12-13T00:23:46.903168Z",
     "start_time": "2019-12-13T00:23:46.889852Z"
    }
   },
   "outputs": [
    {
     "data": {
      "text/plain": [
       "<__main__.Obj at 0x1a28545f28>"
      ]
     },
     "execution_count": 19,
     "metadata": {},
     "output_type": "execute_result"
    }
   ],
   "source": [
    "a"
   ]
  },
  {
   "cell_type": "code",
   "execution_count": 20,
   "metadata": {
    "ExecuteTime": {
     "end_time": "2019-12-13T00:23:47.129462Z",
     "start_time": "2019-12-13T00:23:47.102049Z"
    }
   },
   "outputs": [],
   "source": [
    "many_as = [a, a, a, a]\n",
    "many_as_2 = [a, a, a, a]\n",
    "\n",
    "def yield2(*args): yield args\n",
    "\n",
    "def loop_through(list1, list2, yes=True):\n",
    "    for i, j in zip(list1, list2): \n",
    "        if yes: yield2(i, j)\n",
    "        else: print(i, j)"
   ]
  },
  {
   "cell_type": "code",
   "execution_count": 21,
   "metadata": {
    "ExecuteTime": {
     "end_time": "2019-12-13T00:23:47.183138Z",
     "start_time": "2019-12-13T00:23:47.168714Z"
    }
   },
   "outputs": [
    {
     "ename": "TypeError",
     "evalue": "'NoneType' object is not iterable",
     "output_type": "error",
     "traceback": [
      "\u001b[0;31m---------------------------------------------------------------------------\u001b[0m",
      "\u001b[0;31mTypeError\u001b[0m                                 Traceback (most recent call last)",
      "\u001b[0;32m<ipython-input-21-92f04bc98b09>\u001b[0m in \u001b[0;36m<module>\u001b[0;34m\u001b[0m\n\u001b[0;32m----> 1\u001b[0;31m \u001b[0;32mfor\u001b[0m \u001b[0mi\u001b[0m\u001b[0;34m,\u001b[0m \u001b[0mj\u001b[0m \u001b[0;32min\u001b[0m \u001b[0mloop_through\u001b[0m\u001b[0;34m(\u001b[0m\u001b[0mmany_as\u001b[0m\u001b[0;34m,\u001b[0m \u001b[0mmany_as_2\u001b[0m\u001b[0;34m)\u001b[0m\u001b[0;34m:\u001b[0m\u001b[0;34m\u001b[0m\u001b[0;34m\u001b[0m\u001b[0m\n\u001b[0m\u001b[1;32m      2\u001b[0m     \u001b[0mprint\u001b[0m\u001b[0;34m(\u001b[0m\u001b[0mi\u001b[0m \u001b[0;34m==\u001b[0m \u001b[0ma\u001b[0m\u001b[0;34m)\u001b[0m\u001b[0;34m\u001b[0m\u001b[0;34m\u001b[0m\u001b[0m\n\u001b[1;32m      3\u001b[0m     \u001b[0mprint\u001b[0m\u001b[0;34m(\u001b[0m\u001b[0mj\u001b[0m \u001b[0;34m==\u001b[0m \u001b[0ma\u001b[0m\u001b[0;34m)\u001b[0m\u001b[0;34m\u001b[0m\u001b[0;34m\u001b[0m\u001b[0m\n",
      "\u001b[0;31mTypeError\u001b[0m: 'NoneType' object is not iterable"
     ]
    }
   ],
   "source": [
    "for i, j in loop_through(many_as, many_as_2):\n",
    "    print(i == a)\n",
    "    print(j == a)"
   ]
  },
  {
   "cell_type": "code",
   "execution_count": 22,
   "metadata": {
    "ExecuteTime": {
     "end_time": "2019-12-13T00:23:47.397745Z",
     "start_time": "2019-12-13T00:23:47.363457Z"
    }
   },
   "outputs": [
    {
     "name": "stdout",
     "output_type": "stream",
     "text": [
      "<__main__.Obj object at 0x1a28545f28> <__main__.Obj object at 0x1a28545f28>\n",
      "<__main__.Obj object at 0x1a28545f28> <__main__.Obj object at 0x1a28545f28>\n",
      "<__main__.Obj object at 0x1a28545f28> <__main__.Obj object at 0x1a28545f28>\n",
      "<__main__.Obj object at 0x1a28545f28> <__main__.Obj object at 0x1a28545f28>\n"
     ]
    },
    {
     "ename": "TypeError",
     "evalue": "'NoneType' object is not iterable",
     "output_type": "error",
     "traceback": [
      "\u001b[0;31m---------------------------------------------------------------------------\u001b[0m",
      "\u001b[0;31mTypeError\u001b[0m                                 Traceback (most recent call last)",
      "\u001b[0;32m<ipython-input-22-4a9737ea121f>\u001b[0m in \u001b[0;36m<module>\u001b[0;34m\u001b[0m\n\u001b[0;32m----> 1\u001b[0;31m \u001b[0;32mfor\u001b[0m \u001b[0m_\u001b[0m \u001b[0;32min\u001b[0m \u001b[0mloop_through\u001b[0m\u001b[0;34m(\u001b[0m\u001b[0mmany_as\u001b[0m\u001b[0;34m,\u001b[0m \u001b[0mmany_as_2\u001b[0m\u001b[0;34m,\u001b[0m \u001b[0myes\u001b[0m\u001b[0;34m=\u001b[0m\u001b[0;32mFalse\u001b[0m\u001b[0;34m)\u001b[0m\u001b[0;34m:\u001b[0m \u001b[0;32mpass\u001b[0m\u001b[0;34m\u001b[0m\u001b[0;34m\u001b[0m\u001b[0m\n\u001b[0m",
      "\u001b[0;31mTypeError\u001b[0m: 'NoneType' object is not iterable"
     ]
    }
   ],
   "source": [
    "for _ in loop_through(many_as, many_as_2, yes=False): pass"
   ]
  },
  {
   "cell_type": "code",
   "execution_count": 23,
   "metadata": {
    "ExecuteTime": {
     "end_time": "2019-12-13T00:23:47.950949Z",
     "start_time": "2019-12-13T00:23:47.947100Z"
    }
   },
   "outputs": [],
   "source": [
    "def print_1(a): print(a)"
   ]
  },
  {
   "cell_type": "code",
   "execution_count": 24,
   "metadata": {
    "ExecuteTime": {
     "end_time": "2019-12-13T00:23:48.488938Z",
     "start_time": "2019-12-13T00:23:48.485589Z"
    }
   },
   "outputs": [
    {
     "name": "stdout",
     "output_type": "stream",
     "text": [
      "<__main__.Obj object at 0x1a28545f28>\n"
     ]
    }
   ],
   "source": [
    "print_1(a)"
   ]
  },
  {
   "cell_type": "code",
   "execution_count": 25,
   "metadata": {
    "ExecuteTime": {
     "end_time": "2019-12-13T00:23:48.686346Z",
     "start_time": "2019-12-13T00:23:48.670918Z"
    }
   },
   "outputs": [],
   "source": [
    "layout = {\n",
    "    'hbox_kernels': {}\n",
    "}"
   ]
  },
  {
   "cell_type": "code",
   "execution_count": 26,
   "metadata": {
    "ExecuteTime": {
     "end_time": "2019-12-13T00:23:48.884640Z",
     "start_time": "2019-12-13T00:23:48.881137Z"
    }
   },
   "outputs": [],
   "source": [
    "from ipywidgets.widgets import *"
   ]
  },
  {
   "cell_type": "code",
   "execution_count": 27,
   "metadata": {
    "ExecuteTime": {
     "end_time": "2019-12-13T00:23:49.043113Z",
     "start_time": "2019-12-13T00:23:49.038322Z"
    }
   },
   "outputs": [],
   "source": [
    "def hbox(label:str=None, widgets:list=None):\n",
    "    if label is not None: return HBox([Label(label)])\n",
    "    else: return HBox(widgets)"
   ]
  },
  {
   "cell_type": "code",
   "execution_count": 28,
   "metadata": {
    "ExecuteTime": {
     "end_time": "2019-12-13T00:23:49.191194Z",
     "start_time": "2019-12-13T00:23:49.186856Z"
    }
   },
   "outputs": [],
   "source": [
    "def button(description:str, func) -> Button:\n",
    "    button = widgets.Button(description=description)\n",
    "    button.on_click(func)\n",
    "    return button"
   ]
  },
  {
   "cell_type": "code",
   "execution_count": 29,
   "metadata": {
    "ExecuteTime": {
     "end_time": "2019-12-13T00:23:49.349655Z",
     "start_time": "2019-12-13T00:23:49.342310Z"
    }
   },
   "outputs": [],
   "source": [
    "def intslider(default, max, orientation='vertical'):\n",
    "    w = widgets.IntSlider(\n",
    "        value=default,\n",
    "        min=0,\n",
    "        max=max,\n",
    "        step=1,\n",
    "        description='',\n",
    "        disabled=False,\n",
    "        continuous_update=False,\n",
    "        orientation=orientation,\n",
    "        readout=True,\n",
    "        readout_format='d',\n",
    "    )\n",
    "    w.layout.height='95%'\n",
    "    return w"
   ]
  },
  {
   "cell_type": "code",
   "execution_count": 159,
   "metadata": {
    "ExecuteTime": {
     "end_time": "2019-12-13T03:19:51.270159Z",
     "start_time": "2019-12-13T03:19:51.260436Z"
    }
   },
   "outputs": [],
   "source": [
    "def output(): return Output()#layout={'border': '1px solid grey'})"
   ]
  },
  {
   "cell_type": "code",
   "execution_count": 160,
   "metadata": {
    "ExecuteTime": {
     "end_time": "2019-12-13T03:19:51.480133Z",
     "start_time": "2019-12-13T03:19:51.475934Z"
    }
   },
   "outputs": [],
   "source": [
    "import numpy as np"
   ]
  },
  {
   "cell_type": "code",
   "execution_count": 161,
   "metadata": {
    "ExecuteTime": {
     "end_time": "2019-12-13T03:19:51.695904Z",
     "start_time": "2019-12-13T03:19:51.684728Z"
    }
   },
   "outputs": [],
   "source": [
    "def fmap_shape_from_tuple(input_shape:tuple, out_channels:int, kernel_size:int, stride:int, padding:int, dilation:int=1, downsize=True, output_padding=0) -> tuple:\n",
    "    \"\"\"\n",
    "    Compute the size of feature maps given the input size.\n",
    "\n",
    "    param: input_size: a tuple with format (c, h, w)\n",
    "    Reference:\n",
    "    * https://pytorch.org/docs/stable/nn.html#conv2d\n",
    "    * https://pytorch.org/docs/stable/nn.html#maxpool2d\n",
    "    \"\"\"\n",
    "    if downsize:\n",
    "        formula = lambda x : np.floor((x + 2 * padding - dilation * (kernel_size - 1) - 1) / stride + 1)\n",
    "    else:\n",
    "        formula = lambda x : np.ceil((x - 1) * stride - 2 * padding + kernel_size + output_padding)\n",
    "\n",
    "    h, w = input_shape[1], input_shape[2]\n",
    "    h_out, w_out = formula(h), formula(w)\n",
    "    shape_out = (int(out_channels), int(h_out), int(w_out))\n",
    "    return shape_out"
   ]
  },
  {
   "cell_type": "code",
   "execution_count": 170,
   "metadata": {
    "ExecuteTime": {
     "end_time": "2019-12-13T03:21:20.802956Z",
     "start_time": "2019-12-13T03:21:20.766965Z"
    },
    "code_folding": [
     2,
     48,
     78,
     83
    ]
   },
   "outputs": [],
   "source": [
    "class VAEDesigner():\n",
    "\n",
    "    def __init__(self, num_layers:int=3, input_shape=(3, 28, 28), downsize=True, paddings=None):\n",
    "        \n",
    "        self.num_layers = num_layers\n",
    "        self.input_shape = input_shape\n",
    "        self.downsize = downsize\n",
    "        self.paddings = paddings\n",
    "        \n",
    "        assert (self.downsize and self.paddings is None) or (not self.downsize and self.paddings is not None),\\\n",
    "        print('Padding is only applicable to an upsampling network')\n",
    "        \n",
    "        if self.downsize: mode = 'DOWNSAMPLING'\n",
    "        else: mode = 'UPSAMPLING'\n",
    "        \n",
    "        # hboxs of titles\n",
    "        self.title_kernels  = hbox(label=f'Number of kernels of each {mode} layer')\n",
    "        self.title_strides  = hbox(label=f'Size of strides of each {mode} layer')\n",
    "        self.title_padding = hbox(label='Size of paddings for input arrays')\n",
    "        self.title_shapes   = hbox(label=f'Output shape of each {mode} layer')        \n",
    "        \n",
    "        # sliders\n",
    "        sliders_nkernels = [intslider(default=12, max=128) for _ in range(3)]\n",
    "        sliders_skernels = [intslider(default=3, max=5) for _ in range(3)]\n",
    "        sliders_strides  = [intslider(default=2, max=10) for _ in range(3)]\n",
    "        sliders_paddings = [intslider(default=0, max=10, orientation='horizontal')]\n",
    "        \n",
    "        # hboxs of sliders\n",
    "        self.hbox_nkernels = hbox(widgets=sliders_nkernels)\n",
    "        self.hbox_skernels = hbox(widgets=sliders_skernels)\n",
    "        self.hbox_strides = hbox(widgets=sliders_strides)\n",
    "        self.hbox_padding = hbox(widgets=sliders_paddings)\n",
    "        \n",
    "        # buttons\n",
    "        button_add_layer     = button(description='ADD LAYER', func=self.add_layer)\n",
    "        button_remove_layer  = button(description='REMOVE LAYER', func=self.remove_layer)\n",
    "        button_update_shapes = button(description='UPDATE SHAPES', func=self.update_output_widgets)\n",
    "        self.hbox_buttons = hbox(widgets=[button_add_layer, button_remove_layer, button_update_shapes])\n",
    "        \n",
    "        self.hbox_shapes = hbox(widgets=[output() for i in range(self.num_layers)])\n",
    "    \n",
    "        self.update_layouts_for_hboxs()\n",
    "        self.refresh_interface()\n",
    "        \n",
    "\n",
    "    # fundamental functions\n",
    "    \n",
    "    \n",
    "    def cloop_thru_hboxs(self, \n",
    "                       hboxs_names:list, \n",
    "                       yield_per_step:bool=True, \n",
    "                       func=None):\n",
    "        \"\"\"\n",
    "        Loop through widgets in several HBox's concurrently (hence the name cloop).\n",
    "        \n",
    "        For example, looping through [1, 2, 3] and [4, 5, 6] concurrently means to return \n",
    "        the following tuples on at a time (1, 4), (2, 5) and (3, 6).\n",
    "        \n",
    "        param: hboxs_names: the list of HBox's to be looped through\n",
    "        param: yield_per_step: whether something need to be yielded at each iteration, default True\n",
    "        param: func: if passed in, something is done (inplace) at each iteration, default None\n",
    "        \"\"\"\n",
    "        \n",
    "        def identity(i, w): pass\n",
    "        func = ifnone(func, identity)\n",
    "\n",
    "        list_of_tuples_of_children = [getattr(self, name, None).children for name in hboxs_names]\n",
    "        assert None not in list_of_tuples_of_children, print('Children cannot be None.')\n",
    "\n",
    "        for i, batch in enumerate(zip(*list_of_tuples_of_children)):\n",
    "            if len(list_of_tuples_of_children) == 1: \n",
    "                func(i, batch[0])\n",
    "                yield batch[0]\n",
    "            else: \n",
    "                for w in batch: func(i, w) \n",
    "                yield batch\n",
    "                \n",
    "                \n",
    "    def forpass(self, iterator): \n",
    "        \"\"\"Loop through any generator without receiving its outputs; useful for inplace operations.\"\"\"\n",
    "        for _ in iterator: pass\n",
    "                        \n",
    "        \n",
    "    def set_layout_for_box(self, \n",
    "                           box:HBox, \n",
    "                           height:str=None, \n",
    "                           align_items:str=None, \n",
    "                           justify_content:str=None) -> None:\n",
    "        \"\"\"\n",
    "        Specify value for the `height`, `align_items` and `justify_items` attributes of a box.\n",
    "\n",
    "        param: box: the box whose attributes will be setted\n",
    "        param: height: the vertical height of the box in px, default None\n",
    "        param: align_items: the location of widgets with respect to the horizontal midline of the box\n",
    "        param: justify_content: the style by which widgets are organized horizontally\n",
    "        \"\"\"\n",
    "        if height          is not None: box.layout.height = height\n",
    "        if align_items     is not None: box.layout.align_items = align_items\n",
    "        if justify_content is not None: box.layout.justify_content = justify_content\n",
    "            \n",
    "            \n",
    "    # customizable functions\n",
    "            \n",
    "        \n",
    "    def update_layouts_for_hboxs(self) -> None:\n",
    "        for hbox in [self.hbox_nkernels, self.hbox_skernels, self.hbox_strides]: \n",
    "            self.set_layout_for_box(hbox, height='170px', align_items='center', justify_content='space-around')\n",
    "        for hbox in [self.hbox_padding, self.hbox_shapes]:\n",
    "            self.set_layout_for_box(hbox, height='30px', align_items='center', justify_content='space-around')\n",
    "\n",
    "            \n",
    "    def update_names_for_sliders(self):\n",
    "        def set_name(i, w): w.description = 'L' + str(i)\n",
    "        self.forpass(self.cloop_thru_hboxs(['hbox_nkernels', 'hbox_skernels', 'hbox_strides'], yield_per_step=False, func=set_name))\n",
    "        \n",
    "        \n",
    "    def clear_output_widgets(self):\n",
    "        for out in self.cloop_thru_hboxs(['hbox_shapes']): out.clear_output(wait=True)\n",
    "        \n",
    "        \n",
    "    def update_output_widgets(self, b=None):\n",
    "        self.clear_output_widgets()\n",
    "        \n",
    "        input_shape = self.input_shape\n",
    "        padding = self.hbox_padding.children[0].value\n",
    "        for i, (out, num_kernels, kernel_size, num_strides) in enumerate(self.cloop_thru_hboxs(['hbox_shapes', 'hbox_nkernels', 'hbox_skernels', 'hbox_strides'])):\n",
    "            output_shape =  fmap_shape_from_tuple(\n",
    "                input_shape=input_shape, \n",
    "                out_channels=num_kernels.value, \n",
    "                kernel_size=kernel_size.value, \n",
    "                stride=num_strides.value, \n",
    "                padding=0 if self.paddings is None else self.paddings[i], \n",
    "                downsize=self.downsize, \n",
    "            )\n",
    "            with out: print(output_shape)\n",
    "            input_shape = output_shape\n",
    "#             padding = 0\n",
    "              \n",
    "            \n",
    "    # functions activated by buttons\n",
    "        \n",
    "        \n",
    "    def add_layer(self, b):\n",
    "        if not self.num_layers > 7:\n",
    "            self.hbox_nkernels.children += (intslider(default=12, max=64), )\n",
    "            self.hbox_skernels.children += (intslider(default=2, max=5), )\n",
    "            self.hbox_strides.children += (intslider(default=2, max=10), )\n",
    "            self.hbox_shapes.children += (output(), )\n",
    "            self.num_layers += 1\n",
    "            self.refresh_interface()\n",
    "        \n",
    "        \n",
    "    def remove_layer(self, b):\n",
    "        if self.num_layers > 1:\n",
    "            \n",
    "            hbox_nkernels = list(self.hbox_nkernels.children)\n",
    "            self.hbox_nkernels = hbox(widgets=hbox_nkernels[:-1])\n",
    "            \n",
    "            hbox_skernels = list(self.hbox_skernels.children)\n",
    "            self.hbox_skernels = hbox(widgets=hbox_skernels[:-1])\n",
    "\n",
    "            hbox_strides = list(self.hbox_strides.children)\n",
    "            self.hbox_strides = hbox(widgets=hbox_strides[:-1])\n",
    "            \n",
    "            hbox_shapes = list(self.hbox_shapes.children)\n",
    "            self.hbox_shapes = hbox(widgets=hbox_shapes[:-1])\n",
    "\n",
    "            self.update_layouts_for_hboxs()\n",
    "            \n",
    "            self.num_layers -= 1\n",
    "            self.refresh_interface()\n",
    "        \n",
    "        \n",
    "    def refresh_interface(self):\n",
    "        clear_output(wait=True)\n",
    "        self.update_names_for_sliders()\n",
    "        self.update_output_widgets()\n",
    "        display(widgets.VBox([\n",
    "                self.hbox_buttons,\n",
    "                self.title_shapes,\n",
    "                self.hbox_shapes,\n",
    "#                 self.title_padding,\n",
    "#                 self.hbox_padding,\n",
    "                self.title_kernels, \n",
    "                self.hbox_nkernels,\n",
    "                self.hbox_skernels,\n",
    "                self.title_strides,\n",
    "                self.hbox_strides,\n",
    "        ]))"
   ]
  },
  {
   "cell_type": "markdown",
   "metadata": {},
   "source": [
    "```python\n",
    "self.decoder = nn.Sequential(\n",
    "            UnFlatten(),\n",
    "            nn.ConvTranspose2d(h_dim, 128, kernel_size=4, stride=1),\n",
    "            nn.BatchNorm2d(128),\n",
    "            nn.ReLU(),\n",
    "            nn.ConvTranspose2d(128,64,kernel_size=4,stride=2, padding=1),\n",
    "            nn.BatchNorm2d(64),\n",
    "            nn.ReLU(),\n",
    "            nn.ConvTranspose2d(64, nc, kernel_size=4, stride=2, padding=1),\n",
    "            nn.Sigmoid()\n",
    "        )\n",
    "```"
   ]
  },
  {
   "cell_type": "code",
   "execution_count": 178,
   "metadata": {
    "ExecuteTime": {
     "end_time": "2019-12-13T03:43:15.460504Z",
     "start_time": "2019-12-13T03:43:15.096101Z"
    }
   },
   "outputs": [
    {
     "data": {
      "application/vnd.jupyter.widget-view+json": {
       "model_id": "56c4158a474e495e8326d5d70005d409",
       "version_major": 2,
       "version_minor": 0
      },
      "text/plain": [
       "VBox(children=(HBox(children=(Button(description='ADD LAYER', style=ButtonStyle()), Button(description='REMOVE…"
      ]
     },
     "metadata": {},
     "output_type": "display_data"
    }
   ],
   "source": [
    "des = VAEDesigner(input_shape=(3, 28, 28), downsize=True)"
   ]
  },
  {
   "cell_type": "code",
   "execution_count": 176,
   "metadata": {
    "ExecuteTime": {
     "end_time": "2019-12-13T03:22:09.948195Z",
     "start_time": "2019-12-13T03:22:09.643018Z"
    }
   },
   "outputs": [
    {
     "data": {
      "application/vnd.jupyter.widget-view+json": {
       "model_id": "44de8342da5b4bcbb1155aac33eeafca",
       "version_major": 2,
       "version_minor": 0
      },
      "text/plain": [
       "VBox(children=(HBox(children=(Button(description='ADD LAYER', style=ButtonStyle()), Button(description='REMOVE…"
      ]
     },
     "metadata": {},
     "output_type": "display_data"
    }
   ],
   "source": [
    "des = VAEDesigner(input_shape=(64, 1, 1), downsize=False, paddings=(0, 1, 1))\n",
    "#todo: organize this notebook, remove redundant things, copy this nb, make a another version of typing boxes instead of int sliders"
   ]
  },
  {
   "cell_type": "code",
   "execution_count": null,
   "metadata": {},
   "outputs": [],
   "source": []
  },
  {
   "cell_type": "code",
   "execution_count": 148,
   "metadata": {
    "ExecuteTime": {
     "end_time": "2019-12-13T01:07:49.216620Z",
     "start_time": "2019-12-13T01:07:49.186059Z"
    }
   },
   "outputs": [],
   "source": [
    "def fmap_shape_from_tuple(input_shape:tuple, out_channels:int, kernel_size:int, stride:int, padding:int, dilation:int=1, downsize=True, output_padding=0) -> tuple:\n",
    "    \"\"\"\n",
    "    Compute the size of feature maps given the input size.\n",
    "\n",
    "    param: input_size: a tuple with format (c, h, w)\n",
    "    Reference:\n",
    "    * https://pytorch.org/docs/stable/nn.html#conv2d\n",
    "    * https://pytorch.org/docs/stable/nn.html#maxpool2d\n",
    "    \"\"\"\n",
    "    if downsize:\n",
    "        formula = lambda x : np.floor((x + 2 * padding - dilation * (kernel_size - 1) - 1) / stride + 1)\n",
    "    else:\n",
    "        formula = lambda x : np.ceil((x - 1) * stride - 2 * padding + kernel_size + output_padding)\n",
    "\n",
    "    h, w = input_shape[1], input_shape[2]\n",
    "    h_out, w_out = formula(h), formula(w)\n",
    "    shape_out = (int(out_channels), int(h_out), int(w_out))\n",
    "    return shape_out"
   ]
  },
  {
   "cell_type": "code",
   "execution_count": 136,
   "metadata": {
    "ExecuteTime": {
     "end_time": "2019-12-13T01:05:26.975637Z",
     "start_time": "2019-12-13T01:05:26.967628Z"
    }
   },
   "outputs": [
    {
     "data": {
      "text/plain": [
       "(64, 8, 8)"
      ]
     },
     "execution_count": 136,
     "metadata": {},
     "output_type": "execute_result"
    }
   ],
   "source": [
    "fmap_shape_from_tuple((12, 4, 4), 64, 4, 2, padding=1, downsize=False)"
   ]
  },
  {
   "cell_type": "code",
   "execution_count": 137,
   "metadata": {
    "ExecuteTime": {
     "end_time": "2019-12-13T01:05:31.183877Z",
     "start_time": "2019-12-13T01:05:31.177640Z"
    }
   },
   "outputs": [
    {
     "data": {
      "text/plain": [
       "(64, 16, 16)"
      ]
     },
     "execution_count": 137,
     "metadata": {},
     "output_type": "execute_result"
    }
   ],
   "source": [
    "fmap_shape_from_tuple((12, 8, 8), 64, 4, 2, padding=1, downsize=False)"
   ]
  },
  {
   "cell_type": "code",
   "execution_count": 120,
   "metadata": {
    "ExecuteTime": {
     "end_time": "2019-12-13T01:00:35.652991Z",
     "start_time": "2019-12-13T01:00:35.646866Z"
    }
   },
   "outputs": [
    {
     "data": {
      "text/plain": [
       "0.0"
      ]
     },
     "execution_count": 120,
     "metadata": {},
     "output_type": "execute_result"
    }
   ],
   "source": [
    " np.ceil((1 - 1) * 3)"
   ]
  },
  {
   "cell_type": "code",
   "execution_count": null,
   "metadata": {
    "ExecuteTime": {
     "end_time": "2019-11-26T00:06:12.022127Z",
     "start_time": "2019-11-26T00:06:12.015739Z"
    }
   },
   "outputs": [],
   "source": []
  },
  {
   "cell_type": "code",
   "execution_count": null,
   "metadata": {},
   "outputs": [],
   "source": []
  },
  {
   "cell_type": "code",
   "execution_count": null,
   "metadata": {},
   "outputs": [],
   "source": []
  },
  {
   "cell_type": "code",
   "execution_count": null,
   "metadata": {},
   "outputs": [],
   "source": []
  },
  {
   "cell_type": "code",
   "execution_count": null,
   "metadata": {},
   "outputs": [],
   "source": []
  },
  {
   "cell_type": "code",
   "execution_count": null,
   "metadata": {},
   "outputs": [],
   "source": []
  },
  {
   "cell_type": "code",
   "execution_count": null,
   "metadata": {},
   "outputs": [],
   "source": []
  },
  {
   "cell_type": "code",
   "execution_count": 610,
   "metadata": {
    "ExecuteTime": {
     "end_time": "2019-11-26T05:49:52.869304Z",
     "start_time": "2019-11-26T05:49:52.864565Z"
    }
   },
   "outputs": [
    {
     "name": "stdout",
     "output_type": "stream",
     "text": [
      "next action: add stride and padding, have sensible defaults, add design a tool to compute shape dynamically, using a parser method\n"
     ]
    }
   ],
   "source": [
    "print('next action: add stride and padding, have sensible defaults, add design a tool to compute shape dynamically, using a parser method')"
   ]
  },
  {
   "cell_type": "code",
   "execution_count": null,
   "metadata": {},
   "outputs": [],
   "source": []
  },
  {
   "cell_type": "code",
   "execution_count": 598,
   "metadata": {
    "ExecuteTime": {
     "end_time": "2019-11-26T02:30:02.693361Z",
     "start_time": "2019-11-26T02:30:02.684304Z"
    }
   },
   "outputs": [
    {
     "data": {
      "text/plain": [
       "<coroutine object main at 0x1a261e4af0>"
      ]
     },
     "execution_count": 598,
     "metadata": {},
     "output_type": "execute_result"
    }
   ],
   "source": [
    "import asyncio\n",
    "\n",
    "async def main():\n",
    "    print('Hello ...')\n",
    "    await asyncio.sleep(1)\n",
    "    print('... World!')\n",
    "\n",
    "main()"
   ]
  },
  {
   "cell_type": "code",
   "execution_count": null,
   "metadata": {},
   "outputs": [],
   "source": []
  },
  {
   "cell_type": "code",
   "execution_count": null,
   "metadata": {
    "ExecuteTime": {
     "start_time": "2019-11-26T05:50:06.691Z"
    },
    "code_folding": []
   },
   "outputs": [
    {
     "data": {
      "application/vnd.jupyter.widget-view+json": {
       "model_id": "5228ab950c0c4b14b242b6ada1204710",
       "version_major": 2,
       "version_minor": 0
      },
      "text/plain": [
       "VBox(children=(HBox(children=(Label(value='Design Interface for Convolutional VAE'),)), HBox(children=(IntSlid…"
      ]
     },
     "metadata": {},
     "output_type": "display_data"
    }
   ],
   "source": []
  },
  {
   "cell_type": "code",
   "execution_count": null,
   "metadata": {},
   "outputs": [],
   "source": []
  },
  {
   "cell_type": "code",
   "execution_count": null,
   "metadata": {},
   "outputs": [],
   "source": []
  },
  {
   "cell_type": "code",
   "execution_count": null,
   "metadata": {},
   "outputs": [],
   "source": []
  },
  {
   "cell_type": "code",
   "execution_count": null,
   "metadata": {},
   "outputs": [],
   "source": []
  },
  {
   "cell_type": "code",
   "execution_count": null,
   "metadata": {},
   "outputs": [],
   "source": []
  },
  {
   "cell_type": "code",
   "execution_count": null,
   "metadata": {},
   "outputs": [],
   "source": []
  },
  {
   "cell_type": "raw",
   "metadata": {},
   "source": []
  },
  {
   "cell_type": "raw",
   "metadata": {},
   "source": []
  },
  {
   "cell_type": "code",
   "execution_count": null,
   "metadata": {},
   "outputs": [],
   "source": []
  },
  {
   "cell_type": "code",
   "execution_count": null,
   "metadata": {},
   "outputs": [],
   "source": []
  },
  {
   "cell_type": "code",
   "execution_count": null,
   "metadata": {},
   "outputs": [],
   "source": [
    "a\n",
    "\n"
   ]
  },
  {
   "cell_type": "code",
   "execution_count": null,
   "metadata": {},
   "outputs": [],
   "source": []
  },
  {
   "cell_type": "code",
   "execution_count": 310,
   "metadata": {
    "ExecuteTime": {
     "end_time": "2019-11-25T22:58:58.513382Z",
     "start_time": "2019-11-25T22:58:58.497996Z"
    }
   },
   "outputs": [],
   "source": [
    "w2 = widgets.BoundedIntText(\n",
    "    value=7,\n",
    "    min=0,\n",
    "    max=10,\n",
    "    step=1,\n",
    "    description='L1 Kernels:',\n",
    "    disabled=False\n",
    ")"
   ]
  },
  {
   "cell_type": "code",
   "execution_count": 311,
   "metadata": {
    "ExecuteTime": {
     "end_time": "2019-11-25T22:58:59.601162Z",
     "start_time": "2019-11-25T22:58:59.583950Z"
    }
   },
   "outputs": [
    {
     "data": {
      "application/vnd.jupyter.widget-view+json": {
       "model_id": "43e96652a4674ffdbfa3273e184cd671",
       "version_major": 2,
       "version_minor": 0
      },
      "text/plain": [
       "IntSlider(value=5, continuous_update=False, description='L1 Kernels', max=5, orientation='vertical')"
      ]
     },
     "metadata": {},
     "output_type": "display_data"
    },
    {
     "data": {
      "application/vnd.jupyter.widget-view+json": {
       "model_id": "37ed16eb4f214aa68e78f9c3d9beed5e",
       "version_major": 2,
       "version_minor": 0
      },
      "text/plain": [
       "BoundedIntText(value=7, description='L1 Kernels:', max=10)"
      ]
     },
     "metadata": {},
     "output_type": "display_data"
    }
   ],
   "source": [
    "display(w1, w2)\n",
    "widgets.jslink((w1, 'value'), (w2, 'value'))"
   ]
  },
  {
   "cell_type": "code",
   "execution_count": 314,
   "metadata": {
    "ExecuteTime": {
     "end_time": "2019-11-25T23:01:26.448801Z",
     "start_time": "2019-11-25T23:01:26.435910Z"
    }
   },
   "outputs": [],
   "source": [
    "button = widgets.ToggleButton(\n",
    "    value=False,\n",
    "    description='Click me',\n",
    "    disabled=False,\n",
    "    button_style='', # 'success', 'info', 'warning', 'danger' or ''\n",
    "    tooltip='Description',\n",
    "    icon='check'\n",
    ")"
   ]
  },
  {
   "cell_type": "code",
   "execution_count": 315,
   "metadata": {
    "ExecuteTime": {
     "end_time": "2019-11-25T23:01:34.529305Z",
     "start_time": "2019-11-25T23:01:34.520141Z"
    }
   },
   "outputs": [
    {
     "data": {
      "application/vnd.jupyter.widget-view+json": {
       "model_id": "89193e671cc749edbfc705ee82f55877",
       "version_major": 2,
       "version_minor": 0
      },
      "text/plain": [
       "ToggleButton(value=False, description='Click me', icon='check', tooltip='Description')"
      ]
     },
     "metadata": {},
     "output_type": "display_data"
    }
   ],
   "source": [
    "display(button)"
   ]
  },
  {
   "cell_type": "code",
   "execution_count": 318,
   "metadata": {
    "ExecuteTime": {
     "end_time": "2019-11-25T23:01:43.214963Z",
     "start_time": "2019-11-25T23:01:43.208532Z"
    }
   },
   "outputs": [
    {
     "data": {
      "text/plain": [
       "False"
      ]
     },
     "execution_count": 318,
     "metadata": {},
     "output_type": "execute_result"
    }
   ],
   "source": [
    "button.value"
   ]
  },
  {
   "cell_type": "code",
   "execution_count": 313,
   "metadata": {
    "ExecuteTime": {
     "end_time": "2019-11-25T22:59:56.678342Z",
     "start_time": "2019-11-25T22:59:56.659540Z"
    }
   },
   "outputs": [
    {
     "data": {
      "application/vnd.jupyter.widget-view+json": {
       "model_id": "56e7df102e0646a4abfa72a982d65c63",
       "version_major": 2,
       "version_minor": 0
      },
      "text/plain": [
       "Checkbox(value=False, description='Check me')"
      ]
     },
     "metadata": {},
     "output_type": "display_data"
    }
   ],
   "source": [
    "widgets.Checkbox(\n",
    "    value=False,\n",
    "    description='Check me',\n",
    "    disabled=False\n",
    ")"
   ]
  },
  {
   "cell_type": "code",
   "execution_count": 319,
   "metadata": {
    "ExecuteTime": {
     "end_time": "2019-11-25T23:03:37.635775Z",
     "start_time": "2019-11-25T23:03:37.583022Z"
    }
   },
   "outputs": [
    {
     "data": {
      "application/vnd.jupyter.widget-view+json": {
       "model_id": "dc8a3ebda1bd4b07829bb46867f5adc2",
       "version_major": 2,
       "version_minor": 0
      },
      "text/plain": [
       "HBox(children=(Label(value='0'), Label(value='1'), Label(value='2'), Label(value='3')))"
      ]
     },
     "metadata": {},
     "output_type": "display_data"
    }
   ],
   "source": [
    "items = [widgets.Label(str(i)) for i in range(4)]\n",
    "widgets.HBox(items)"
   ]
  },
  {
   "cell_type": "code",
   "execution_count": 320,
   "metadata": {
    "ExecuteTime": {
     "end_time": "2019-11-25T23:03:37.838147Z",
     "start_time": "2019-11-25T23:03:37.756387Z"
    }
   },
   "outputs": [
    {
     "data": {
      "application/vnd.jupyter.widget-view+json": {
       "model_id": "5ad6e5d655b947a4b8177a7e7c161274",
       "version_major": 2,
       "version_minor": 0
      },
      "text/plain": [
       "HBox(children=(VBox(children=(Label(value='0'), Label(value='1'))), VBox(children=(Label(value='2'), Label(val…"
      ]
     },
     "metadata": {},
     "output_type": "display_data"
    }
   ],
   "source": [
    "items = [widgets.Label(str(i)) for i in range(4)]\n",
    "left_box = widgets.VBox([items[0], items[1]])\n",
    "right_box = widgets.VBox([items[2], items[3]])\n",
    "widgets.HBox([left_box, right_box])"
   ]
  },
  {
   "cell_type": "code",
   "execution_count": null,
   "metadata": {},
   "outputs": [],
   "source": []
  },
  {
   "cell_type": "code",
   "execution_count": null,
   "metadata": {},
   "outputs": [],
   "source": []
  },
  {
   "cell_type": "code",
   "execution_count": 287,
   "metadata": {
    "ExecuteTime": {
     "end_time": "2019-11-25T22:51:55.752077Z",
     "start_time": "2019-11-25T22:51:55.748657Z"
    }
   },
   "outputs": [],
   "source": [
    "w.value = 10990"
   ]
  },
  {
   "cell_type": "code",
   "execution_count": 289,
   "metadata": {
    "ExecuteTime": {
     "end_time": "2019-11-25T22:52:40.032774Z",
     "start_time": "2019-11-25T22:52:40.024619Z"
    }
   },
   "outputs": [
    {
     "data": {
      "text/plain": [
       "['_dom_classes',\n",
       " '_model_module',\n",
       " '_model_module_version',\n",
       " '_model_name',\n",
       " '_view_count',\n",
       " '_view_module',\n",
       " '_view_module_version',\n",
       " '_view_name',\n",
       " 'continuous_update',\n",
       " 'description',\n",
       " 'description_tooltip',\n",
       " 'disabled',\n",
       " 'layout',\n",
       " 'max',\n",
       " 'min',\n",
       " 'orientation',\n",
       " 'readout',\n",
       " 'readout_format',\n",
       " 'step',\n",
       " 'style',\n",
       " 'value']"
      ]
     },
     "execution_count": 289,
     "metadata": {},
     "output_type": "execute_result"
    }
   ],
   "source": [
    "w.keys"
   ]
  },
  {
   "cell_type": "code",
   "execution_count": 81,
   "metadata": {
    "ExecuteTime": {
     "end_time": "2019-11-29T15:57:59.726568Z",
     "start_time": "2019-11-29T15:57:59.709546Z"
    }
   },
   "outputs": [],
   "source": [
    "# export\n",
    "@dataclass\n",
    "class FeatureManipulator:\n",
    "    actns:Collection[int]\n",
    "    kernel_szs:Collection[int]=None\n",
    "    strides:Collection[int]=None\n",
    "    paddings:Collection[int]=None\n",
    "    bn:bool=True\n",
    "    decode:bool=False\n",
    "    \n",
    "    def __post_init__(self): self.seq = self._create()\n",
    "        \n",
    "    def _simplify_nested_sequential(self, seq:nn.Sequential) -> nn.Sequential:\n",
    "        layers = []\n",
    "        for child in seq.children():\n",
    "            for layer in child:\n",
    "                layers.append(layer)\n",
    "        return nn.Sequential(*layers)\n",
    "        \n",
    "    def _create(self):\n",
    "        nl = len(self.actns)-1\n",
    "        kernel_szs = ifnone(self.kernel_szs, [4]*nl)\n",
    "        strides    = ifnone(self.strides   , [2]*nl)\n",
    "        paddings   = ifnone(self.paddings  , [1]*nl)\n",
    "        if self.decode: kernel_szs, strides = map(lambda lst : list(reversed(lst)), [kernel_szs, strides])\n",
    "        layers = [\n",
    "            conv_layer(\n",
    "                self.actns[i], \n",
    "                self.actns[i+1], \n",
    "                kernel_szs[i], \n",
    "                stride=strides[i], \n",
    "                padding=paddings[i],\n",
    "                transpose=self.decode, \n",
    "                norm_type=(NormType.Batch if self.bn and i<(len(strides)-1) else None)) \n",
    "            for i in range(len(strides))\n",
    "        ]\n",
    "        # no adaptive average pooling here, since no predictions need to be made\n",
    "        return self._simplify_nested_sequential(nn.Sequential(*layers))\n",
    "    \n",
    "    def __call__(self, images): return self.seq(images)\n",
    "    \n",
    "    def set_output_padding(self):\n",
    "        assert self.decode, \"Output padding is only needed for ConvTranspose2d layers.\"\n",
    "        while True:\n",
    "            \n",
    "            print(fmap_shape_from_sequential(self.seq))\n",
    "            layer_index = input('Layer to add output padding: ')\n",
    "            self.seq[layer_index].output_padding = 1\n",
    "            print(fmap_shape_from_sequential(self.seq))\n",
    "            \n",
    "            next_action = input('Undo (y or n): ')\n",
    "            if next_action == 'y': self.seq[layer_index].output_padding = 0\n",
    "            \n",
    "            next_action = input('Continue (y or n): ')\n",
    "            if next_action == 'y': return"
   ]
  },
  {
   "cell_type": "code",
   "execution_count": 82,
   "metadata": {
    "ExecuteTime": {
     "end_time": "2019-11-29T15:57:59.978903Z",
     "start_time": "2019-11-29T15:57:59.949086Z"
    }
   },
   "outputs": [],
   "source": [
    "fm = FeatureManipulator((3, 12, 12, 64), decode=True)"
   ]
  },
  {
   "cell_type": "code",
   "execution_count": 83,
   "metadata": {
    "ExecuteTime": {
     "end_time": "2019-11-29T15:58:00.114771Z",
     "start_time": "2019-11-29T15:58:00.096665Z"
    }
   },
   "outputs": [
    {
     "ename": "NameError",
     "evalue": "name 'fmap_shape_from_sequential' is not defined",
     "output_type": "error",
     "traceback": [
      "\u001b[0;31m---------------------------------------------------------------------------\u001b[0m",
      "\u001b[0;31mNameError\u001b[0m                                 Traceback (most recent call last)",
      "\u001b[0;32m<ipython-input-83-0ebb93e4999f>\u001b[0m in \u001b[0;36m<module>\u001b[0;34m\u001b[0m\n\u001b[0;32m----> 1\u001b[0;31m \u001b[0mfm\u001b[0m\u001b[0;34m.\u001b[0m\u001b[0mset_output_padding\u001b[0m\u001b[0;34m(\u001b[0m\u001b[0;34m)\u001b[0m\u001b[0;34m\u001b[0m\u001b[0;34m\u001b[0m\u001b[0m\n\u001b[0m",
      "\u001b[0;32m<ipython-input-81-21f17c67bbe5>\u001b[0m in \u001b[0;36mset_output_padding\u001b[0;34m(self)\u001b[0m\n\u001b[1;32m     44\u001b[0m         \u001b[0;32mwhile\u001b[0m \u001b[0;32mTrue\u001b[0m\u001b[0;34m:\u001b[0m\u001b[0;34m\u001b[0m\u001b[0;34m\u001b[0m\u001b[0m\n\u001b[1;32m     45\u001b[0m \u001b[0;34m\u001b[0m\u001b[0m\n\u001b[0;32m---> 46\u001b[0;31m             \u001b[0mprint\u001b[0m\u001b[0;34m(\u001b[0m\u001b[0mfmap_shape_from_sequential\u001b[0m\u001b[0;34m(\u001b[0m\u001b[0mself\u001b[0m\u001b[0;34m.\u001b[0m\u001b[0mseq\u001b[0m\u001b[0;34m)\u001b[0m\u001b[0;34m)\u001b[0m\u001b[0;34m\u001b[0m\u001b[0;34m\u001b[0m\u001b[0m\n\u001b[0m\u001b[1;32m     47\u001b[0m             \u001b[0mlayer_index\u001b[0m \u001b[0;34m=\u001b[0m \u001b[0minput\u001b[0m\u001b[0;34m(\u001b[0m\u001b[0;34m'Layer to add output padding: '\u001b[0m\u001b[0;34m)\u001b[0m\u001b[0;34m\u001b[0m\u001b[0;34m\u001b[0m\u001b[0m\n\u001b[1;32m     48\u001b[0m             \u001b[0mself\u001b[0m\u001b[0;34m.\u001b[0m\u001b[0mseq\u001b[0m\u001b[0;34m[\u001b[0m\u001b[0mlayer_index\u001b[0m\u001b[0;34m]\u001b[0m\u001b[0;34m.\u001b[0m\u001b[0moutput_padding\u001b[0m \u001b[0;34m=\u001b[0m \u001b[0;36m1\u001b[0m\u001b[0;34m\u001b[0m\u001b[0;34m\u001b[0m\u001b[0m\n",
      "\u001b[0;31mNameError\u001b[0m: name 'fmap_shape_from_sequential' is not defined"
     ]
    }
   ],
   "source": [
    "fm.set_output_padding()"
   ]
  },
  {
   "cell_type": "code",
   "execution_count": 84,
   "metadata": {
    "ExecuteTime": {
     "end_time": "2019-11-29T15:58:00.490809Z",
     "start_time": "2019-11-29T15:58:00.475152Z"
    }
   },
   "outputs": [
    {
     "ename": "NameError",
     "evalue": "name 'feature_manipulator' is not defined",
     "output_type": "error",
     "traceback": [
      "\u001b[0;31m---------------------------------------------------------------------------\u001b[0m",
      "\u001b[0;31mNameError\u001b[0m                                 Traceback (most recent call last)",
      "\u001b[0;32m<ipython-input-84-688e4f56d893>\u001b[0m in \u001b[0;36m<module>\u001b[0;34m\u001b[0m\n\u001b[0;32m----> 1\u001b[0;31m \u001b[0mmanipulator\u001b[0m \u001b[0;34m=\u001b[0m \u001b[0mfeature_manipulator\u001b[0m\u001b[0;34m(\u001b[0m\u001b[0;34m(\u001b[0m\u001b[0;36m3\u001b[0m\u001b[0;34m,\u001b[0m \u001b[0;36m12\u001b[0m\u001b[0;34m,\u001b[0m \u001b[0;36m12\u001b[0m\u001b[0;34m,\u001b[0m \u001b[0;36m64\u001b[0m\u001b[0;34m)\u001b[0m\u001b[0;34m,\u001b[0m \u001b[0mdecode\u001b[0m\u001b[0;34m=\u001b[0m\u001b[0;32mFalse\u001b[0m\u001b[0;34m)\u001b[0m\u001b[0;34m\u001b[0m\u001b[0;34m\u001b[0m\u001b[0m\n\u001b[0m",
      "\u001b[0;31mNameError\u001b[0m: name 'feature_manipulator' is not defined"
     ]
    }
   ],
   "source": [
    "manipulator = feature_manipulator((3, 12, 12, 64), decode=False)"
   ]
  },
  {
   "cell_type": "code",
   "execution_count": 230,
   "metadata": {
    "ExecuteTime": {
     "end_time": "2019-11-25T21:51:01.818257Z",
     "start_time": "2019-11-25T21:51:01.804729Z"
    }
   },
   "outputs": [
    {
     "name": "stdout",
     "output_type": "stream",
     "text": [
      "* Input shape: (3, 28, 28) -> Conv2d -> Output shape:  (12, 14, 14)\n",
      "* Input shape: (12, 14, 14) -> Conv2d -> Output shape:  (12, 7, 7)\n",
      "* Input shape: (12, 7, 7) -> Conv2d -> Output shape:  (64, 3, 3)\n"
     ]
    },
    {
     "data": {
      "text/plain": [
       "(64, 3, 3)"
      ]
     },
     "execution_count": 230,
     "metadata": {},
     "output_type": "execute_result"
    }
   ],
   "source": [
    "fmap_shape_from_sequential(manipulator, (3, 28, 28))"
   ]
  },
  {
   "cell_type": "code",
   "execution_count": 221,
   "metadata": {
    "ExecuteTime": {
     "end_time": "2019-11-25T21:43:18.316115Z",
     "start_time": "2019-11-25T21:43:18.308300Z"
    }
   },
   "outputs": [],
   "source": [
    "manipulator = feature_manipulator((3, 12, 12, 64), decode=True)"
   ]
  },
  {
   "cell_type": "code",
   "execution_count": 222,
   "metadata": {
    "ExecuteTime": {
     "end_time": "2019-11-25T21:43:18.632170Z",
     "start_time": "2019-11-25T21:43:18.614854Z"
    }
   },
   "outputs": [
    {
     "name": "stdout",
     "output_type": "stream",
     "text": [
      "* Input shape: (64, 3, 3) -> ConvTranpose2d -> Output shape:  (12, 6, 6)\n",
      "* Input shape: (12, 6, 6) -> ConvTranpose2d -> Output shape:  (12, 12, 12)\n",
      "* Input shape: (12, 12, 12) -> ConvTranpose2d -> Output shape:  (64, 24, 24)\n"
     ]
    },
    {
     "data": {
      "text/plain": [
       "(64, 24, 24)"
      ]
     },
     "execution_count": 222,
     "metadata": {},
     "output_type": "execute_result"
    }
   ],
   "source": [
    "fmap_shape_from_sequential(manipulator, (64, 3, 3))"
   ]
  },
  {
   "cell_type": "code",
   "execution_count": 78,
   "metadata": {
    "ExecuteTime": {
     "end_time": "2019-11-25T21:23:08.678030Z",
     "start_time": "2019-11-25T21:23:08.665348Z"
    }
   },
   "outputs": [],
   "source": [
    "fmap_shape_from_sequential??"
   ]
  },
  {
   "cell_type": "code",
   "execution_count": 62,
   "metadata": {
    "ExecuteTime": {
     "end_time": "2019-11-25T18:42:18.275133Z",
     "start_time": "2019-11-25T18:42:18.271724Z"
    }
   },
   "outputs": [],
   "source": [
    "def simple_decoder():\n",
    "    pass"
   ]
  },
  {
   "cell_type": "code",
   "execution_count": 8,
   "metadata": {
    "ExecuteTime": {
     "end_time": "2019-11-25T21:09:27.645986Z",
     "start_time": "2019-11-25T21:09:27.637120Z"
    }
   },
   "outputs": [],
   "source": [
    "import sys\n",
    "sys.path.insert(0, '/Users/yangzhihan/code/python_modules/')\n",
    "from path_magic import path_magic"
   ]
  },
  {
   "cell_type": "code",
   "execution_count": 9,
   "metadata": {
    "ExecuteTime": {
     "end_time": "2019-11-25T21:09:28.067367Z",
     "start_time": "2019-11-25T21:09:28.056646Z"
    }
   },
   "outputs": [],
   "source": [
    "from torch_utils.cnn import fmap_shape_from_sequential"
   ]
  },
  {
   "cell_type": "code",
   "execution_count": null,
   "metadata": {},
   "outputs": [],
   "source": []
  },
  {
   "cell_type": "code",
   "execution_count": 66,
   "metadata": {
    "ExecuteTime": {
     "end_time": "2019-11-25T19:55:14.972928Z",
     "start_time": "2019-11-25T19:55:14.952026Z"
    }
   },
   "outputs": [],
   "source": [
    "@dataclass\n",
    "class Encoder(nn.Module):\n",
    "    actns: Collection[int]\n",
    "    num_encoding_dims: int\n",
    "    kernel_szs: Collection[int]=None\n",
    "    strides: Collection[int]=None\n",
    "    bn: bool=True\n",
    "    num_encoding_dims: int=64\n",
    "    \n",
    "    def __post_init__(self):\n",
    "        self.extract_features = feature_extractor()\n",
    "        self.get_means = nn.Linear(h_dim, num_encoding_dims)\n",
    "        self.get_logvars = nn.Linear(h_dim, num_encoding_dims)\n",
    "        \n",
    "    def forward(images):\n",
    "        features = self.extract_features(images)\n",
    "        return self.get_means(features), self.get_logvars(features)"
   ]
  },
  {
   "cell_type": "code",
   "execution_count": 67,
   "metadata": {
    "ExecuteTime": {
     "end_time": "2019-11-25T19:55:23.625322Z",
     "start_time": "2019-11-25T19:55:23.550550Z"
    }
   },
   "outputs": [],
   "source": [
    "Encoder?"
   ]
  },
  {
   "cell_type": "code",
   "execution_count": 16,
   "metadata": {
    "ExecuteTime": {
     "end_time": "2019-11-25T18:17:47.885311Z",
     "start_time": "2019-11-25T18:17:47.879991Z"
    }
   },
   "outputs": [],
   "source": [
    "class VAECallback():\n",
    "    pass"
   ]
  },
  {
   "cell_type": "code",
   "execution_count": 17,
   "metadata": {
    "ExecuteTime": {
     "end_time": "2019-11-25T18:17:48.150550Z",
     "start_time": "2019-11-25T18:17:48.141448Z"
    }
   },
   "outputs": [],
   "source": [
    "class VAECallbackHandler(VAECallback):\n",
    "    pass"
   ]
  },
  {
   "cell_type": "code",
   "execution_count": 19,
   "metadata": {
    "ExecuteTime": {
     "end_time": "2019-11-25T18:18:16.597926Z",
     "start_time": "2019-11-25T18:18:16.592334Z"
    }
   },
   "outputs": [],
   "source": [
    "class VAETrainer(VAECallbackHandler):\n",
    "    pass"
   ]
  },
  {
   "cell_type": "code",
   "execution_count": 14,
   "metadata": {
    "ExecuteTime": {
     "end_time": "2019-11-25T18:06:50.523835Z",
     "start_time": "2019-11-25T18:06:50.506983Z"
    }
   },
   "outputs": [
    {
     "data": {
      "text/plain": [
       "[3, 3, 3, 3, 3]"
      ]
     },
     "execution_count": 14,
     "metadata": {},
     "output_type": "execute_result"
    }
   ],
   "source": [
    "[3] * 5"
   ]
  },
  {
   "cell_type": "code",
   "execution_count": null,
   "metadata": {},
   "outputs": [],
   "source": []
  }
 ],
 "metadata": {
  "kernelspec": {
   "display_name": "Python 3",
   "language": "python",
   "name": "python3"
  },
  "language_info": {
   "codemirror_mode": {
    "name": "ipython",
    "version": 3
   },
   "file_extension": ".py",
   "mimetype": "text/x-python",
   "name": "python",
   "nbconvert_exporter": "python",
   "pygments_lexer": "ipython3",
   "version": "3.6.9"
  },
  "toc": {
   "base_numbering": 1,
   "nav_menu": {},
   "number_sections": true,
   "sideBar": true,
   "skip_h1_title": false,
   "title_cell": "Table of Contents",
   "title_sidebar": "Contents",
   "toc_cell": false,
   "toc_position": {},
   "toc_section_display": true,
   "toc_window_display": false
  }
 },
 "nbformat": 4,
 "nbformat_minor": 2
}
