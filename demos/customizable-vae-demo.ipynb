{
 "cells": [
  {
   "cell_type": "markdown",
   "metadata": {},
   "source": [
    "Log: 19/12/13, Zhihan Yang\n",
    "\n",
    "The purpose of this notebook:\n",
    "- With the help of `vae-designer-demo.ipynb`, I hope to construct arbitrary VAE architectures based on various model-level and layer-level parameters.\n",
    "- Specially, I use this notebook to write up a function that takes in these parameters and output the desired VAE for training."
   ]
  },
  {
   "cell_type": "markdown",
   "metadata": {},
   "source": [
    "Todos:\n",
    "- Remove `DataParallel` because I am agnostic towards how using multi-GPU training affects model convergence. (d)\n",
    "- Instead of building the VAE from one class, build two subclasses (Encoder and Decoder) and let VAE inherit from them - the benefit is that now we can use `super(self, VAE).__init__` to directly initialize the encoder and decoder network.\n",
    "    - within the init function of VAE, pytorch only collects parameters that are of certain pytorch types, which prevents me from setting attributes to instances of type Encoder and Decoder; instead, I will create two methods"
   ]
  },
  {
   "cell_type": "code",
   "execution_count": 1,
   "metadata": {
    "ExecuteTime": {
     "end_time": "2019-12-13T07:10:05.930131Z",
     "start_time": "2019-12-13T07:10:04.845116Z"
    }
   },
   "outputs": [],
   "source": [
    "%reload_ext autoreload\n",
    "%autoreload 2\n",
    "%matplotlib inline"
   ]
  },
  {
   "cell_type": "code",
   "execution_count": 12,
   "metadata": {
    "ExecuteTime": {
     "end_time": "2019-12-13T07:18:39.273829Z",
     "start_time": "2019-12-13T07:18:39.245523Z"
    }
   },
   "outputs": [],
   "source": [
    "import torch.nn as nn\n",
    "import torch.optim\n",
    "from collections import OrderedDict "
   ]
  },
  {
   "cell_type": "code",
   "execution_count": 3,
   "metadata": {
    "ExecuteTime": {
     "end_time": "2019-12-13T07:10:06.278453Z",
     "start_time": "2019-12-13T07:10:06.257780Z"
    }
   },
   "outputs": [],
   "source": [
    "class Flatten(nn.Module):\n",
    "    def forward(self, input):\n",
    "        return input.view(input.size(0), -1)  # view(batch_size, flattened_example)\n",
    "\n",
    "class UnFlatten(nn.Module):\n",
    "    def forward(self, input, size=512):\n",
    "        return input.view(input.size(0), size, 1, 1)"
   ]
  },
  {
   "cell_type": "code",
   "execution_count": 21,
   "metadata": {
    "ExecuteTime": {
     "end_time": "2019-12-13T07:20:01.764418Z",
     "start_time": "2019-12-13T07:20:01.718908Z"
    }
   },
   "outputs": [],
   "source": [
    "nn.Sequential??"
   ]
  },
  {
   "cell_type": "code",
   "execution_count": 19,
   "metadata": {
    "ExecuteTime": {
     "end_time": "2019-12-13T07:19:43.360887Z",
     "start_time": "2019-12-13T07:19:43.332044Z"
    }
   },
   "outputs": [
    {
     "data": {
      "text/plain": [
       "Sequential(\n",
       "  (block1-conv1): Conv2d(5, 64, kernel_size=(4, 4), stride=(2, 2))\n",
       ")"
      ]
     },
     "execution_count": 19,
     "metadata": {},
     "output_type": "execute_result"
    }
   ],
   "source": [
    "nn.Sequential(OrderedDict([\n",
    "    ('block1-conv1',nn.Conv2d(5, 64, kernel_size=4, stride=2))\n",
    "]))"
   ]
  },
  {
   "cell_type": "code",
   "execution_count": 92,
   "metadata": {
    "ExecuteTime": {
     "end_time": "2019-12-13T07:56:52.242739Z",
     "start_time": "2019-12-13T07:56:52.213005Z"
    }
   },
   "outputs": [],
   "source": [
    "def conv_sampler(\n",
    "    in_channels:int, \n",
    "    layer_num:int, \n",
    "    kernel_nums:tuple, \n",
    "    kernel_sizes:tuple, \n",
    "    strides:tuple, \n",
    "    paddings:tuple,\n",
    "    final_activation:nn.Module=None,\n",
    "    up_sample:bool=False,\n",
    ")->nn.Sequential:\n",
    "    \"\"\"\n",
    "    Return a convolutional sampler (nn.Sequential) with batch-normalizations and leaky ReLUs (for\n",
    "    down-samplers) or ReLUs (for up-samplers).\n",
    "    \n",
    "    The DCGAN paper recommends that kernel sizes should be greater than 3, that strides should be \n",
    "    greater than 1, and batch-normalization should be used to guarantee a healthy gradient-flow.\n",
    "    \n",
    "    :param up_sample: whether the returned sampler is a up-sampler (default: False)\n",
    "    \"\"\"\n",
    "    \n",
    "    HYPERPARAMS = {\n",
    "        'conv2d-bias':False,  # set to false because bn introduces biases\n",
    "        'lrelu-negslope':0.2\n",
    "    }\n",
    "    \n",
    "    # this insight comes from the dcgan paper\n",
    "    if up_sample: \n",
    "        core_layer = nn.ConvTranspose2d\n",
    "        core_layer_name = 'convtranpose2d'\n",
    "        activation = nn.ReLU()\n",
    "    else: \n",
    "        core_layer = nn.Conv2d\n",
    "        core_layer_name = 'conv2d'\n",
    "        activation = nn.LeakyReLU(HYPERPARAMS['lrelu-negslope'])\n",
    "        \n",
    "    layers = OrderedDict([])\n",
    "    for i in range(layer_num):\n",
    "        \n",
    "        layers[f'block{i}-{core_layer_name}'] = core_layer(\n",
    "            in_channels=in_channels, \n",
    "            out_channels=kernel_nums[i], \n",
    "            kernel_size=kernel_sizes[i], \n",
    "            stride=strides[i],\n",
    "            padding=paddings[i],\n",
    "            bias=HYPERPARAMS['conv2d-bias']\n",
    "        )\n",
    "        layers[f'block{i}-bn'] = nn.BatchNorm2d(kernel_nums[i])\n",
    "        if i == layer_num - 1:\n",
    "            if final_activation is not None:\n",
    "                layers[f'block{i}-lrelu'] = final_activation\n",
    "        else:\n",
    "            layers[f'block{i}-lrelu'] = activation\n",
    "        \n",
    "        in_channels = kernel_nums[i]\n",
    "        \n",
    "    return nn.Sequential(layers)"
   ]
  },
  {
   "cell_type": "code",
   "execution_count": 93,
   "metadata": {
    "ExecuteTime": {
     "end_time": "2019-12-13T07:56:52.738202Z",
     "start_time": "2019-12-13T07:56:52.711614Z"
    }
   },
   "outputs": [],
   "source": [
    "down_sampler = conv_sampler(\n",
    "    in_channels=17, \n",
    "    layer_num=2, \n",
    "    kernel_nums=(64, 128), \n",
    "    kernel_sizes=(4, 4), \n",
    "    strides=(2, 2), \n",
    "    paddings=(0, 0),\n",
    "    final_activation=nn.LeakyReLU(0.2),\n",
    "    up_sample=False\n",
    ")"
   ]
  },
  {
   "cell_type": "code",
   "execution_count": 94,
   "metadata": {
    "ExecuteTime": {
     "end_time": "2019-12-13T07:56:53.101147Z",
     "start_time": "2019-12-13T07:56:53.066955Z"
    }
   },
   "outputs": [],
   "source": [
    "up_sampler = conv_sampler(\n",
    "    in_channels=64, \n",
    "    layer_num=3, \n",
    "    kernel_nums=(128, 64, 17), \n",
    "    kernel_sizes=(4, 4, 4), \n",
    "    strides=(1, 2, 2), \n",
    "    paddings=(0, 1, 1),\n",
    "    final_activation=nn.Sigmoid(),\n",
    "    up_sample=True\n",
    ")"
   ]
  },
  {
   "cell_type": "code",
   "execution_count": 5,
   "metadata": {
    "ExecuteTime": {
     "end_time": "2019-12-13T07:10:09.217119Z",
     "start_time": "2019-12-13T07:10:09.168938Z"
    }
   },
   "outputs": [],
   "source": [
    "class VAE(nn.Module):\n",
    "    def __init__(self, dev, nc=17, h_dim=512, z_dim=64):\n",
    "        super(VAE, self).__init__()\n",
    "        self.dev = dev\n",
    "        \n",
    "        self.encoder = nn.Sequential(\n",
    "            # input shape: n, 17, 16, 16\n",
    "            nn.Conv2d(nc, 64, kernel_size=4, stride=2),\n",
    "            nn.BatchNorm2d(64),\n",
    "            nn.LeakyReLU(0.2),\n",
    "            # output shape: n, 64, 7, 7\n",
    "            \n",
    "            # input shape: n, 64, 7, 7\n",
    "            nn.Conv2d(64, 128, kernel_size=4, stride=2),\n",
    "            nn.BatchNorm2d(128),\n",
    "            nn.LeakyReLU(0.2),\n",
    "            # output shape: n, 128, 2, 2\n",
    "            \n",
    "            # input shape: n, 128, 2, 2\n",
    "            Flatten()\n",
    "            # output shape: n, 128 * 2 * 2 = 512\n",
    "        )\n",
    "\n",
    "        self.fc1 = nn.Linear(h_dim, z_dim)  # get means\n",
    "        self.fc2 = nn.Linear(h_dim, z_dim)  # get logvars\n",
    "        \n",
    "        self.fc3 = nn.Linear(z_dim, h_dim)  # process the samples\n",
    "\n",
    "        # similar to generator in DCGAN\n",
    "        self.decoder = nn.Sequential(\n",
    "            UnFlatten(),\n",
    "            nn.ConvTranspose2d(h_dim, 128, kernel_size=4, stride=1),\n",
    "            nn.BatchNorm2d(128),\n",
    "            nn.ReLU(),\n",
    "            nn.ConvTranspose2d(128,64,kernel_size=4,stride=2, padding=1),\n",
    "            nn.BatchNorm2d(64),\n",
    "            nn.ReLU(),\n",
    "            nn.ConvTranspose2d(64, nc, kernel_size=4, stride=2, padding=1),\n",
    "            nn.Sigmoid()\n",
    "        )\n",
    "\n",
    "    def reparametrize(self, mu, logvar):\n",
    "        std = logvar.mul(0.5).exp_()\n",
    "        esp = torch.randn(*mu.size())\n",
    "        z = mu + std * esp.to(self.dev).double()\n",
    "        return z\n",
    "\n",
    "    def bottleneck(self, h):\n",
    "        mu, logvar = self.fc1(h), self.fc2(h)\n",
    "        z = self.reparametrize(mu, logvar)\n",
    "        return z, mu, logvar\n",
    "\n",
    "    def encode(self, x):\n",
    "        h = self.encoder(x)\n",
    "        z, mu, logvar = self.bottleneck(h)\n",
    "        return z, mu, logvar\n",
    "\n",
    "    def decode(self, z):\n",
    "        z = self.fc3(z)\n",
    "        z = self.decoder(z)\n",
    "        return z\n",
    "\n",
    "    def forward(self, x):\n",
    "        z, mu, logvar = self.encode(x)\n",
    "        z = self.decode(z)\n",
    "        return z, mu, logvar"
   ]
  },
  {
   "cell_type": "code",
   "execution_count": 6,
   "metadata": {
    "ExecuteTime": {
     "end_time": "2019-12-13T07:10:10.396112Z",
     "start_time": "2019-12-13T07:10:10.365038Z"
    }
   },
   "outputs": [],
   "source": [
    "def get_model(dev, z_dim, nc):\n",
    "    vae = VAE(dev=dev, z_dim=z_dim, nc=nc)\n",
    "    vae = vae.to(dev).double()\n",
    "    opt = torch.optim.Adam(vae.parameters(), lr=1e-3)\n",
    "    return vae, opt\n",
    "\n",
    "def load_model(path, nc, dev=torch.device('cpu')):\n",
    "    vae = VAE(nc=nc, dev=dev).double().to(dev)\n",
    "    vae.load_state_dict(torch.load(path, map_location=dev))\n",
    "    return vae"
   ]
  },
  {
   "cell_type": "code",
   "execution_count": null,
   "metadata": {},
   "outputs": [],
   "source": []
  }
 ],
 "metadata": {
  "kernelspec": {
   "display_name": "Python 3",
   "language": "python",
   "name": "python3"
  },
  "language_info": {
   "codemirror_mode": {
    "name": "ipython",
    "version": 3
   },
   "file_extension": ".py",
   "mimetype": "text/x-python",
   "name": "python",
   "nbconvert_exporter": "python",
   "pygments_lexer": "ipython3",
   "version": "3.6.9"
  },
  "toc": {
   "base_numbering": 1,
   "nav_menu": {},
   "number_sections": true,
   "sideBar": true,
   "skip_h1_title": false,
   "title_cell": "Table of Contents",
   "title_sidebar": "Contents",
   "toc_cell": false,
   "toc_position": {},
   "toc_section_display": true,
   "toc_window_display": false
  }
 },
 "nbformat": 4,
 "nbformat_minor": 2
}
