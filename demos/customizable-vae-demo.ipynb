{
 "cells": [
  {
   "cell_type": "markdown",
   "metadata": {},
   "source": [
    "Log: 19/12/13, Zhihan Yang\n",
    "\n",
    "The purpose of this notebook:\n",
    "- With the help of `vae-designer-demo.ipynb`, I hope to construct arbitrary VAE architectures based on various model-level and layer-level parameters.\n",
    "- Specially, I use this notebook to write up a function that takes in these parameters and output the desired VAE for training."
   ]
  },
  {
   "cell_type": "markdown",
   "metadata": {},
   "source": [
    "Todos:\n",
    "- Remove `DataParallel` because I am agnostic towards how using multi-GPU training affects model convergence. (d)\n",
    "- Instead of building the VAE from one class, build two subclasses (Encoder and Decoder) and let VAE inherit from them - the benefit is that now we can use `super(self, VAE).__init__` to directly initialize the encoder and decoder network."
   ]
  },
  {
   "cell_type": "code",
   "execution_count": 1,
   "metadata": {
    "ExecuteTime": {
     "end_time": "2019-12-13T07:10:05.930131Z",
     "start_time": "2019-12-13T07:10:04.845116Z"
    }
   },
   "outputs": [],
   "source": [
    "%reload_ext autoreload\n",
    "%autoreload 2\n",
    "%matplotlib inline"
   ]
  },
  {
   "cell_type": "code",
   "execution_count": 2,
   "metadata": {
    "ExecuteTime": {
     "end_time": "2019-12-13T07:10:06.255904Z",
     "start_time": "2019-12-13T07:10:05.932756Z"
    }
   },
   "outputs": [],
   "source": [
    "import torch.nn as nn\n",
    "import torch.optim"
   ]
  },
  {
   "cell_type": "code",
   "execution_count": 3,
   "metadata": {
    "ExecuteTime": {
     "end_time": "2019-12-13T07:10:06.278453Z",
     "start_time": "2019-12-13T07:10:06.257780Z"
    }
   },
   "outputs": [],
   "source": [
    "class Flatten(nn.Module):\n",
    "    def forward(self, input):\n",
    "        return input.view(input.size(0), -1)  # view(batch_size, flattened_example)\n",
    "\n",
    "class UnFlatten(nn.Module):\n",
    "    def forward(self, input, size=512):\n",
    "        return input.view(input.size(0), size, 1, 1)"
   ]
  },
  {
   "cell_type": "code",
   "execution_count": null,
   "metadata": {},
   "outputs": [],
   "source": []
  },
  {
   "cell_type": "code",
   "execution_count": 5,
   "metadata": {
    "ExecuteTime": {
     "end_time": "2019-12-13T07:10:09.217119Z",
     "start_time": "2019-12-13T07:10:09.168938Z"
    }
   },
   "outputs": [],
   "source": [
    "class VAE(nn.Module):\n",
    "    def __init__(self, dev, nc=17, h_dim=512, z_dim=64):\n",
    "        super(VAE, self).__init__()\n",
    "        self.dev = dev\n",
    "        \n",
    "        self.encoder = nn.Sequential(\n",
    "            # input shape: n, 17, 16, 16\n",
    "            nn.Conv2d(nc, 64, kernel_size=4, stride=2),\n",
    "            nn.BatchNorm2d(64),\n",
    "            nn.LeakyReLU(0.2),\n",
    "            # output shape: n, 64, 7, 7\n",
    "            \n",
    "            # input shape: n, 64, 7, 7\n",
    "            nn.Conv2d(64, 128, kernel_size=4, stride=2),\n",
    "            nn.BatchNorm2d(128),\n",
    "            nn.LeakyReLU(0.2),\n",
    "            # output shape: n, 128, 2, 2\n",
    "            \n",
    "            # input shape: n, 128, 2, 2\n",
    "            Flatten()\n",
    "            # output shape: n, 128 * 2 * 2 = 512\n",
    "        )\n",
    "\n",
    "        self.fc1 = nn.Linear(h_dim, z_dim)  # get means\n",
    "        self.fc2 = nn.Linear(h_dim, z_dim)  # get logvars\n",
    "        \n",
    "        self.fc3 = nn.Linear(z_dim, h_dim)  # process the samples\n",
    "\n",
    "        # similar to generator in DCGAN\n",
    "        self.decoder = nn.Sequential(\n",
    "            UnFlatten(),\n",
    "            nn.ConvTranspose2d(h_dim, 128, kernel_size=4, stride=1),\n",
    "            nn.BatchNorm2d(128),\n",
    "            nn.ReLU(),\n",
    "            nn.ConvTranspose2d(128,64,kernel_size=4,stride=2, padding=1),\n",
    "            nn.BatchNorm2d(64),\n",
    "            nn.ReLU(),\n",
    "            nn.ConvTranspose2d(64, nc, kernel_size=4, stride=2, padding=1),\n",
    "            nn.Sigmoid()\n",
    "        )\n",
    "\n",
    "    def reparametrize(self, mu, logvar):\n",
    "        std = logvar.mul(0.5).exp_()\n",
    "        esp = torch.randn(*mu.size())\n",
    "        z = mu + std * esp.to(self.dev).double()\n",
    "        return z\n",
    "\n",
    "    def bottleneck(self, h):\n",
    "        mu, logvar = self.fc1(h), self.fc2(h)\n",
    "        z = self.reparametrize(mu, logvar)\n",
    "        return z, mu, logvar\n",
    "\n",
    "    def encode(self, x):\n",
    "        h = self.encoder(x)\n",
    "        z, mu, logvar = self.bottleneck(h)\n",
    "        return z, mu, logvar\n",
    "\n",
    "    def decode(self, z):\n",
    "        z = self.fc3(z)\n",
    "        z = self.decoder(z)\n",
    "        return z\n",
    "\n",
    "    def forward(self, x):\n",
    "        z, mu, logvar = self.encode(x)\n",
    "        z = self.decode(z)\n",
    "        return z, mu, logvar"
   ]
  },
  {
   "cell_type": "code",
   "execution_count": 6,
   "metadata": {
    "ExecuteTime": {
     "end_time": "2019-12-13T07:10:10.396112Z",
     "start_time": "2019-12-13T07:10:10.365038Z"
    }
   },
   "outputs": [],
   "source": [
    "def get_model(dev, z_dim, nc):\n",
    "    vae = VAE(dev=dev, z_dim=z_dim, nc=nc)\n",
    "    vae = vae.to(dev).double()\n",
    "    opt = torch.optim.Adam(vae.parameters(), lr=1e-3)\n",
    "    return vae, opt\n",
    "\n",
    "def load_model(path, nc, dev=torch.device('cpu')):\n",
    "    vae = VAE(nc=nc, dev=dev).double().to(dev)\n",
    "    vae.load_state_dict(torch.load(path, map_location=dev))\n",
    "    return vae"
   ]
  },
  {
   "cell_type": "code",
   "execution_count": null,
   "metadata": {},
   "outputs": [],
   "source": []
  }
 ],
 "metadata": {
  "kernelspec": {
   "display_name": "Python 3",
   "language": "python",
   "name": "python3"
  },
  "language_info": {
   "codemirror_mode": {
    "name": "ipython",
    "version": 3
   },
   "file_extension": ".py",
   "mimetype": "text/x-python",
   "name": "python",
   "nbconvert_exporter": "python",
   "pygments_lexer": "ipython3",
   "version": "3.6.9"
  },
  "toc": {
   "base_numbering": 1,
   "nav_menu": {},
   "number_sections": true,
   "sideBar": true,
   "skip_h1_title": false,
   "title_cell": "Table of Contents",
   "title_sidebar": "Contents",
   "toc_cell": false,
   "toc_position": {},
   "toc_section_display": true,
   "toc_window_display": false
  }
 },
 "nbformat": 4,
 "nbformat_minor": 2
}
