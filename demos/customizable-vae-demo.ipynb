{
 "cells": [
  {
   "cell_type": "markdown",
   "metadata": {},
   "source": [
    "# Customizable VAE demo"
   ]
  },
  {
   "cell_type": "markdown",
   "metadata": {},
   "source": [
    "Author: Zhihan Yang, inspired by code written by Anurag Sarkar\n",
    "\n",
    "Date: 19/12/13\n",
    "\n",
    "The purpose of this notebook:\n",
    "- With the help of `vae-designer-demo.ipynb`, I hope to construct arbitrary VAE architectures based on various model-level and layer-level parameters.\n",
    "- Specially, I use this notebook to write up a function that takes in these parameters and output the desired VAE for training."
   ]
  },
  {
   "cell_type": "markdown",
   "metadata": {},
   "source": [
    "Todos:\n",
    "- Remove `DataParallel` because I am agnostic towards how using multi-GPU training affects model convergence. (d)\n",
    "- Instead of building the VAE from one class, build two subclasses (Encoder and Decoder) and let VAE inherit from them - the benefit is that now we can use `super(self, VAE).__init__` to directly initialize the encoder and decoder network. (d)\n",
    "    - within the init function of VAE, pytorch only collects parameters that are of certain pytorch types, which prevents me from setting attributes to instances of type Encoder and Decoder; instead, I will create two methods\n",
    "- Run nb2py on this notebook.\n",
    "- Use the resulting script to help train a VAE for MNIST in `vae_fast_train_demo.ipynb`"
   ]
  },
  {
   "cell_type": "code",
   "execution_count": 2,
   "metadata": {
    "ExecuteTime": {
     "end_time": "2019-12-17T03:39:24.452123Z",
     "start_time": "2019-12-17T03:39:23.394496Z"
    }
   },
   "outputs": [],
   "source": [
    "%reload_ext autoreload\n",
    "%autoreload 2\n",
    "%matplotlib inline"
   ]
  },
  {
   "cell_type": "code",
   "execution_count": 3,
   "metadata": {
    "ExecuteTime": {
     "end_time": "2019-12-17T03:39:25.033550Z",
     "start_time": "2019-12-17T03:39:24.456588Z"
    }
   },
   "outputs": [],
   "source": [
    "#export\n",
    "import os\n",
    "import json\n",
    "import torch.nn as nn\n",
    "import torch.optim\n",
    "from collections import OrderedDict "
   ]
  },
  {
   "cell_type": "markdown",
   "metadata": {},
   "source": [
    "## Ideal workflow for creating a trainable VAE"
   ]
  },
  {
   "cell_type": "markdown",
   "metadata": {},
   "source": [
    "*vae-designer -(hyperparameters and values)-> design-dict -> methods for users*\n",
    "- design a vae using **vae-designer**, take note of all the hyper-parameters and their values\n",
    "- capture these values of all those parameters in a **design dict**\n",
    "- pass the design dict to **methods for users** to get vae and optimizer"
   ]
  },
  {
   "cell_type": "markdown",
   "metadata": {},
   "source": [
    "## Convolutional Sampler"
   ]
  },
  {
   "cell_type": "code",
   "execution_count": 4,
   "metadata": {
    "ExecuteTime": {
     "end_time": "2019-12-17T03:39:25.066854Z",
     "start_time": "2019-12-17T03:39:25.036479Z"
    },
    "code_folding": []
   },
   "outputs": [],
   "source": [
    "#export\n",
    "def conv_sampler(\n",
    "    in_channels:int, \n",
    "    layer_num:int, \n",
    "    kernel_nums:tuple, \n",
    "    kernel_sizes:tuple, \n",
    "    strides:tuple, \n",
    "    paddings:tuple,\n",
    "    final_activation:str=None,\n",
    "    up_sample:bool=False,\n",
    "    output_paddings:tuple=None,\n",
    "    output_type:str='OrderedDict'\n",
    ")->OrderedDict:\n",
    "    \"\"\"\n",
    "    Return a convolutional sampler (nn.Sequential) with batch-normalizations and leaky ReLUs (for\n",
    "    down-samplers) or ReLUs (for up-samplers).\n",
    "    \n",
    "    The DCGAN paper recommends that kernel sizes should be greater than 3, that strides should be \n",
    "    greater than 1, and batch-normalization should be used to guarantee a healthy gradient-flow.\n",
    "    \n",
    "    :param up_sample: whether the returned sampler is a up-sampler (default: False)\n",
    "    \"\"\"\n",
    "    \n",
    "    assert (up_sample and output_paddings is not None) or (not up_sample and output_paddings is None), \\\n",
    "    AssertionError('output_paddings cannot be None when up_sample is True.')\n",
    "    \n",
    "    HYPERPARAMS = {\n",
    "        'conv2d-bias':False,  # set to false because bn introduces biases\n",
    "        'lrelu-negslope':0.2\n",
    "    }\n",
    "    \n",
    "    # this insight comes from the dcgan paper\n",
    "    if up_sample: \n",
    "        core_layer = nn.ConvTranspose2d\n",
    "        core_layer_name = 'convtranpose2d'\n",
    "        activation_name = 'relu'\n",
    "        activation = nn.ReLU()\n",
    "    else: \n",
    "        core_layer = nn.Conv2d\n",
    "        core_layer_name = 'conv2d'\n",
    "        activation_name = 'lrelu'\n",
    "        activation = nn.LeakyReLU(HYPERPARAMS['lrelu-negslope'])\n",
    "        \n",
    "    layers = OrderedDict([])\n",
    "    for i in range(layer_num):\n",
    "        \n",
    "        if not up_sample:\n",
    "            layers[f'block{i}-{core_layer_name}'] = core_layer(\n",
    "                in_channels=in_channels, \n",
    "                out_channels=kernel_nums[i], \n",
    "                kernel_size=kernel_sizes[i], \n",
    "                stride=strides[i],\n",
    "                padding=paddings[i],\n",
    "                bias=HYPERPARAMS['conv2d-bias']\n",
    "            )\n",
    "        else:\n",
    "            layers[f'block{i}-{core_layer_name}'] = core_layer(\n",
    "                in_channels=in_channels, \n",
    "                out_channels=kernel_nums[i], \n",
    "                kernel_size=kernel_sizes[i], \n",
    "                stride=strides[i],\n",
    "                padding=paddings[i],\n",
    "                bias=HYPERPARAMS['conv2d-bias'],\n",
    "                output_padding=output_paddings[i]\n",
    "            )\n",
    "            \n",
    "        layers[f'block{i}-bn'] = nn.BatchNorm2d(kernel_nums[i])\n",
    "        if i == layer_num - 1:\n",
    "            if final_activation is not None:\n",
    "                if final_activation == 'sigmoid':\n",
    "                    layers[f'block{i}-{final_activation}'] = nn.Sigmoid()\n",
    "                elif final_activation == 'relu':\n",
    "                    layers[f'block{i}-{final_activation}'] = nn.ReLU()\n",
    "        else:\n",
    "            layers[f'block{i}-{activation_name}'] = activation\n",
    "        \n",
    "        in_channels = kernel_nums[i]\n",
    "        \n",
    "#     if output_type == 'nn.Sequential':\n",
    "#         return nn.Sequential(layers)\n",
    "#     elif output_type == 'OrderedDict':\n",
    "    return layers  # useful for adding extra layers"
   ]
  },
  {
   "cell_type": "markdown",
   "metadata": {},
   "source": [
    "## VAEDesign (inspired by Learner)"
   ]
  },
  {
   "cell_type": "code",
   "execution_count": 5,
   "metadata": {
    "ExecuteTime": {
     "end_time": "2019-12-17T03:39:25.094620Z",
     "start_time": "2019-12-17T03:39:25.069986Z"
    }
   },
   "outputs": [],
   "source": [
    "#export\n",
    "class VAEDesign():\n",
    "    \n",
    "    def __init__(self, down_sampler_design:dict, up_sampler_design:dict, h_dim:int, z_dim:int, unflatten_out_shape:tuple):\n",
    "        self.down_sampler_design = down_sampler_design\n",
    "        self.up_sampler_design = up_sampler_design\n",
    "        self.h_dim = h_dim\n",
    "        self.z_dim = z_dim\n",
    "        self.unflatten_out_shape = unflatten_out_shape\n",
    "            \n",
    "    def save_as_json(self, json_fpath:str):\n",
    "        fdir = os.makedirs(''.join(json_fpath.split('/')[:-1]), exist_ok=True)\n",
    "        with open(json_fpath, 'w') as json_f:\n",
    "            # https://stackoverflow.com/questions/9170288/pretty-print-json-data-to-a-file-using-python\n",
    "            json.dump(self.design_dict, json_f, indent=4)\n",
    "                    \n",
    "    @property\n",
    "    def design_dict(self):\n",
    "        return {\n",
    "            'down_sampler_design':self.down_sampler_design,\n",
    "            'up_sampler_design':self.up_sampler_design,\n",
    "            'h_dim':self.h_dim,\n",
    "            'z_dim':self.z_dim,\n",
    "            'unflatten_out_shape':self.unflatten_out_shape\n",
    "        }\n",
    "    \n",
    "    @classmethod\n",
    "    def from_json(cls, json_fpath:str):\n",
    "        with open(json_fpath, 'r') as json_f:\n",
    "            design_dict = json.load(json_f)\n",
    "        return cls(**design_dict)"
   ]
  },
  {
   "cell_type": "markdown",
   "metadata": {},
   "source": [
    "## Custom layers"
   ]
  },
  {
   "cell_type": "code",
   "execution_count": 2,
   "metadata": {
    "ExecuteTime": {
     "end_time": "2019-12-17T03:39:25.120091Z",
     "start_time": "2019-12-17T03:39:25.097950Z"
    }
   },
   "outputs": [
    {
     "ename": "NameError",
     "evalue": "name 'nn' is not defined",
     "output_type": "error",
     "traceback": [
      "\u001b[0;31m---------------------------------------------------------------------------\u001b[0m",
      "\u001b[0;31mNameError\u001b[0m                                 Traceback (most recent call last)",
      "\u001b[0;32m<ipython-input-2-8f1c973ff2db>\u001b[0m in \u001b[0;36m<module>\u001b[0;34m\u001b[0m\n\u001b[1;32m      1\u001b[0m \u001b[0;31m#export\u001b[0m\u001b[0;34m\u001b[0m\u001b[0;34m\u001b[0m\u001b[0;34m\u001b[0m\u001b[0m\n\u001b[0;32m----> 2\u001b[0;31m \u001b[0;32mclass\u001b[0m \u001b[0mFlatten\u001b[0m\u001b[0;34m(\u001b[0m\u001b[0mnn\u001b[0m\u001b[0;34m.\u001b[0m\u001b[0mModule\u001b[0m\u001b[0;34m)\u001b[0m\u001b[0;34m:\u001b[0m\u001b[0;34m\u001b[0m\u001b[0;34m\u001b[0m\u001b[0m\n\u001b[0m\u001b[1;32m      3\u001b[0m     \u001b[0;32mdef\u001b[0m \u001b[0mforward\u001b[0m\u001b[0;34m(\u001b[0m\u001b[0mself\u001b[0m\u001b[0;34m,\u001b[0m \u001b[0minput\u001b[0m\u001b[0;34m)\u001b[0m\u001b[0;34m:\u001b[0m\u001b[0;34m\u001b[0m\u001b[0;34m\u001b[0m\u001b[0m\n\u001b[1;32m      4\u001b[0m         \u001b[0;32mreturn\u001b[0m \u001b[0minput\u001b[0m\u001b[0;34m.\u001b[0m\u001b[0mview\u001b[0m\u001b[0;34m(\u001b[0m\u001b[0minput\u001b[0m\u001b[0;34m.\u001b[0m\u001b[0msize\u001b[0m\u001b[0;34m(\u001b[0m\u001b[0;36m0\u001b[0m\u001b[0;34m)\u001b[0m\u001b[0;34m,\u001b[0m \u001b[0;34m-\u001b[0m\u001b[0;36m1\u001b[0m\u001b[0;34m)\u001b[0m  \u001b[0;31m# view(batch_size, flattened_example)\u001b[0m\u001b[0;34m\u001b[0m\u001b[0;34m\u001b[0m\u001b[0m\n\u001b[1;32m      5\u001b[0m \u001b[0;34m\u001b[0m\u001b[0m\n",
      "\u001b[0;31mNameError\u001b[0m: name 'nn' is not defined"
     ]
    }
   ],
   "source": [
    "#export\n",
    "class Flatten(nn.Module):\n",
    "    def forward(self, input):\n",
    "        return input.view(input.size(0), -1)  # view(batch_size, flattened_example)\n",
    "\n",
    "class UnFlatten(nn.Module):\n",
    "    \n",
    "    def __init__(self, out_shape:tuple):\n",
    "        super().__init__()\n",
    "        self.out_shape = out_shape\n",
    "    \n",
    "    def forward(self, input):\n",
    "        return input.view(input.size(0), *self.out_shape)"
   ]
  },
  {
   "cell_type": "markdown",
   "metadata": {},
   "source": [
    "## VAE class (design_dict, dev)"
   ]
  },
  {
   "cell_type": "code",
   "execution_count": 7,
   "metadata": {
    "ExecuteTime": {
     "end_time": "2019-12-17T03:39:25.154189Z",
     "start_time": "2019-12-17T03:39:25.122003Z"
    }
   },
   "outputs": [],
   "source": [
    "#export\n",
    "class VAE(nn.Module):\n",
    "    \"\"\"Trainable variational auto-encoder implemented in PyTorch.\"\"\"\n",
    "    \n",
    "    def __init__(self, design:VAEDesign, dev:str):\n",
    "        super(VAE, self).__init__()\n",
    "        self.dev = dev\n",
    "        \n",
    "        # the down-sampler is an OrderedDict of layers\n",
    "        down_sampler_od = conv_sampler(**design.down_sampler_design)\n",
    "        down_sampler_od['flatten'] = Flatten()  # append a new layer at the end\n",
    "        self.encoder = nn.Sequential(down_sampler_od)\n",
    "\n",
    "        h_dim, z_dim = design.h_dim, design.z_dim\n",
    "        self.z_dim = z_dim  # used for the self.generate method\n",
    "        self.fc1 = nn.Linear(h_dim, z_dim)  # get means\n",
    "        self.fc2 = nn.Linear(h_dim, z_dim)  # get logvars\n",
    "        self.fc3 = nn.Linear(z_dim, h_dim)  # process the samples for the up_sampler\n",
    "        \n",
    "        # the up-sampler is also an OrderedDict of layers\n",
    "        up_sampler_od = conv_sampler(**design.up_sampler_design)\n",
    "        up_sampler_od['unflatten'] = UnFlatten(out_shape=design.unflatten_out_shape)\n",
    "        up_sampler_od.move_to_end('unflatten', last=False)  # append a new layer at the front\n",
    "        self.decoder = nn.Sequential(up_sampler_od)\n",
    "\n",
    "    def reparametrize(self, mu:torch.Tensor, logvar:torch.Tensor)->torch.Tensor:\n",
    "        \"\"\"Helper method to self.bottleneck\"\"\"\n",
    "        std = logvar.mul(0.5).exp_()  # logvar to std\n",
    "        esp = torch.randn(*mu.size())  # number of std\n",
    "        z = mu + std * esp.to(self.dev).double()  # sample latent vectors\n",
    "        return z\n",
    "\n",
    "    def bottleneck(self, h:torch.Tensor)->tuple:\n",
    "        \"\"\"Helper method to self.encode\"\"\"\n",
    "        mu, logvar = self.fc1(h), self.fc2(h)\n",
    "        z = self.reparametrize(mu, logvar)\n",
    "        return z, mu, logvar\n",
    "\n",
    "    def encode(self, x:torch.Tensor)->tuple:\n",
    "        \"\"\"Helper method to self.forward\"\"\"\n",
    "        h = self.encoder(x)\n",
    "        z, mu, logvar = self.bottleneck(h)\n",
    "        return z, mu, logvar\n",
    "\n",
    "    def decode(self, z:torch.Tensor)->torch.Tensor:\n",
    "        \"\"\"Helper method to self.forward\"\"\"\n",
    "        z = self.fc3(z)\n",
    "        z = self.decoder(z)\n",
    "        return z\n",
    "\n",
    "    def forward(self, x:torch.Tensor)->tuple:\n",
    "        z, mu, logvar = self.encode(x)\n",
    "        z = self.decode(z)\n",
    "        return z, mu, logvar\n",
    "    \n",
    "    def generate(self, n:int)->torch.Tensor:\n",
    "        zs = torch.randn((n, self.z_dim)).double().to(self.dev)\n",
    "        with torch.no_grad():\n",
    "            gens = self.decoder(self.fc3(zs))\n",
    "        return gens"
   ]
  },
  {
   "cell_type": "markdown",
   "metadata": {},
   "source": [
    "## Methods for users"
   ]
  },
  {
   "cell_type": "code",
   "execution_count": 8,
   "metadata": {
    "ExecuteTime": {
     "end_time": "2019-12-17T03:39:25.179404Z",
     "start_time": "2019-12-17T03:39:25.156158Z"
    }
   },
   "outputs": [],
   "source": [
    "#export\n",
    "def get_vae_and_opt(design_json_fpath:str, dev:str):\n",
    "    \"\"\"Get a trainable VAE and its optimizer.\"\"\"\n",
    "    vae = VAE(design=VAEDesign.from_json(design_json_fpath), dev=dev)  # this dev is used in the VAE.reparameterize and VAE.generate method\n",
    "    vae = vae.to(dev).double()  # this dev decides where model parameters are loaded\n",
    "    opt = torch.optim.Adam(vae.parameters(), lr=1e-3)\n",
    "    return vae, opt\n",
    "\n",
    "def load_vae(path:str, design_json_fpath:str, dev:str='cpu'):\n",
    "    \"\"\"\n",
    "    Load trained weights into a VAE architecture.\n",
    "    \n",
    "    :param path: the path to the trained weights\n",
    "    :param design_dict: the Design object of a VAE architecture\n",
    "    :param dev: where the resulting model would exist (options: 'cpu', 'cuda') (default: 'cpu')\n",
    "    \"\"\"\n",
    "    vae = VAE(design=VAEDesign.from_json(design_json_fpath), dev=dev)\n",
    "    vae = vae.to(dev).double()\n",
    "    vae.load_state_dict(torch.load(path, map_location=dev))\n",
    "    return vae"
   ]
  },
  {
   "cell_type": "code",
   "execution_count": null,
   "metadata": {},
   "outputs": [],
   "source": []
  },
  {
   "cell_type": "code",
   "execution_count": null,
   "metadata": {},
   "outputs": [],
   "source": []
  },
  {
   "cell_type": "code",
   "execution_count": null,
   "metadata": {},
   "outputs": [],
   "source": []
  },
  {
   "cell_type": "code",
   "execution_count": null,
   "metadata": {},
   "outputs": [],
   "source": []
  },
  {
   "cell_type": "code",
   "execution_count": null,
   "metadata": {},
   "outputs": [],
   "source": []
  }
 ],
 "metadata": {
  "kernelspec": {
   "display_name": "Python 3",
   "language": "python",
   "name": "python3"
  },
  "language_info": {
   "codemirror_mode": {
    "name": "ipython",
    "version": 3
   },
   "file_extension": ".py",
   "mimetype": "text/x-python",
   "name": "python",
   "nbconvert_exporter": "python",
   "pygments_lexer": "ipython3",
   "version": "3.7.3"
  },
  "toc": {
   "base_numbering": 1,
   "nav_menu": {},
   "number_sections": false,
   "sideBar": true,
   "skip_h1_title": false,
   "title_cell": "Table of Contents",
   "title_sidebar": "Contents",
   "toc_cell": false,
   "toc_position": {},
   "toc_section_display": true,
   "toc_window_display": false
  },
  "varInspector": {
   "cols": {
    "lenName": 16,
    "lenType": 16,
    "lenVar": 40
   },
   "kernels_config": {
    "python": {
     "delete_cmd_postfix": "",
     "delete_cmd_prefix": "del ",
     "library": "var_list.py",
     "varRefreshCmd": "print(var_dic_list())"
    },
    "r": {
     "delete_cmd_postfix": ") ",
     "delete_cmd_prefix": "rm(",
     "library": "var_list.r",
     "varRefreshCmd": "cat(var_dic_list()) "
    }
   },
   "types_to_exclude": [
    "module",
    "function",
    "builtin_function_or_method",
    "instance",
    "_Feature"
   ],
   "window_display": false
  }
 },
 "nbformat": 4,
 "nbformat_minor": 2
}
