{
 "cells": [
  {
   "cell_type": "code",
   "execution_count": 1,
   "metadata": {
    "ExecuteTime": {
     "end_time": "2019-12-15T11:53:01.387051Z",
     "start_time": "2019-12-15T11:53:00.457612Z"
    }
   },
   "outputs": [],
   "source": [
    "import torch.nn as nn\n",
    "\n",
    "import sys\n",
    "sys.path.append('../modules')\n",
    "\n",
    "from vae_designer import VAEDesigner\n",
    "from custom_vae import VAEDesign, get_vae_and_opt"
   ]
  },
  {
   "cell_type": "code",
   "execution_count": 6,
   "metadata": {
    "ExecuteTime": {
     "end_time": "2019-12-16T09:57:27.294311Z",
     "start_time": "2019-12-16T09:57:26.834715Z"
    }
   },
   "outputs": [],
   "source": [
    "%reload_ext autoreload\n",
    "%autoreload 2\n",
    "%matplotlib inline"
   ]
  },
  {
   "cell_type": "markdown",
   "metadata": {},
   "source": [
    "## phase 0: prepare data\n",
    "using `vae_fast_train`"
   ]
  },
  {
   "cell_type": "markdown",
   "metadata": {},
   "source": [
    "## phase 1: design a vae and stores its design as json\n",
    "using `VAEDesigner` and `VAEDesign.save_as_json`"
   ]
  },
  {
   "cell_type": "markdown",
   "metadata": {},
   "source": [
    "Step 1. Design encoder and decoder using VAEDesigner"
   ]
  },
  {
   "cell_type": "code",
   "execution_count": 3,
   "metadata": {
    "ExecuteTime": {
     "end_time": "2019-12-15T11:53:02.290234Z",
     "start_time": "2019-12-15T11:53:02.016494Z"
    }
   },
   "outputs": [
    {
     "data": {
      "application/vnd.jupyter.widget-view+json": {
       "model_id": "4f55a7597c9044559791a728e4d548b6",
       "version_major": 2,
       "version_minor": 0
      },
      "text/plain": [
       "VBox(children=(HBox(children=(Label(value='UPSAMPLING MODE'),)), HBox(children=(Button(description='ADD LAYER'…"
      ]
     },
     "metadata": {},
     "output_type": "display_data"
    }
   ],
   "source": [
    "enc_des = VAEDesigner(input_shape=(17, 16, 16), num_layers=2, up_sample=False)"
   ]
  },
  {
   "cell_type": "code",
   "execution_count": 9,
   "metadata": {
    "ExecuteTime": {
     "end_time": "2019-12-15T11:53:37.691909Z",
     "start_time": "2019-12-15T11:53:37.379158Z"
    }
   },
   "outputs": [
    {
     "data": {
      "application/vnd.jupyter.widget-view+json": {
       "model_id": "d37a737bf89c474f82d6c6407225a4c9",
       "version_major": 2,
       "version_minor": 0
      },
      "text/plain": [
       "VBox(children=(HBox(children=(Label(value='DOWNSAMPLING MODE'),)), HBox(children=(Button(description='ADD LAYE…"
      ]
     },
     "metadata": {},
     "output_type": "display_data"
    }
   ],
   "source": [
    "dec_designer = VAEDesigner(input_shape=(128, 2, 2), num_layers=2, up_sample=True)"
   ]
  },
  {
   "cell_type": "markdown",
   "metadata": {
    "ExecuteTime": {
     "end_time": "2019-12-15T11:44:48.527463Z",
     "start_time": "2019-12-15T11:44:48.519161Z"
    }
   },
   "source": [
    "Step 2. Add any other information to encoder design / decoder design.m"
   ]
  },
  {
   "cell_type": "code",
   "execution_count": 20,
   "metadata": {
    "ExecuteTime": {
     "end_time": "2019-12-16T09:46:35.951162Z",
     "start_time": "2019-12-16T09:46:35.921659Z"
    }
   },
   "outputs": [],
   "source": [
    "decoder_design = dec_designer.design\n",
    "decoder_design.update({'final_activation':'sigmoid'})"
   ]
  },
  {
   "cell_type": "markdown",
   "metadata": {},
   "source": [
    "Step 3. Create design and save as json. This step ensures that you can check on that design later without using the vae-designer widget."
   ]
  },
  {
   "cell_type": "code",
   "execution_count": 14,
   "metadata": {
    "ExecuteTime": {
     "end_time": "2019-12-15T11:55:29.506376Z",
     "start_time": "2019-12-15T11:55:29.471693Z"
    }
   },
   "outputs": [],
   "source": [
    "vae_design = VAEDesign(enc_des.design, decoder_design, h_dim=512, z_dim=64, unflatten_out_shape=(128, 2, 2))\n",
    "vae_design.save_as_json('designs/pcgml_vae_v1_design.json')"
   ]
  },
  {
   "cell_type": "markdown",
   "metadata": {},
   "source": [
    "## phase 2: create vae and its optimizer\n",
    "using `get_vae_and_opt` from the design json"
   ]
  },
  {
   "cell_type": "markdown",
   "metadata": {},
   "source": [
    "Step 4. Create a new trainable vae using the saved design json (don't have to create the VAEDesign object next time) and device."
   ]
  },
  {
   "cell_type": "code",
   "execution_count": 17,
   "metadata": {
    "ExecuteTime": {
     "end_time": "2019-12-15T11:55:34.499002Z",
     "start_time": "2019-12-15T11:55:34.457720Z"
    }
   },
   "outputs": [],
   "source": [
    "vae, opt = get_vae_and_opt(design_json_fpath='designs/pcgml_vae_v1_design.json', dev='cpu')"
   ]
  },
  {
   "cell_type": "code",
   "execution_count": 18,
   "metadata": {
    "ExecuteTime": {
     "end_time": "2019-12-15T11:58:25.152852Z",
     "start_time": "2019-12-15T11:58:25.117862Z"
    }
   },
   "outputs": [
    {
     "data": {
      "text/plain": [
       "(VAE(\n",
       "   (encoder): Sequential(\n",
       "     (block0-conv2d): Conv2d(17, 64, kernel_size=(4, 4), stride=(2, 2), bias=False)\n",
       "     (block0-bn): BatchNorm2d(64, eps=1e-05, momentum=0.1, affine=True, track_running_stats=True)\n",
       "     (block0-lrelu): LeakyReLU(negative_slope=0.2)\n",
       "     (block1-conv2d): Conv2d(64, 128, kernel_size=(4, 4), stride=(2, 2), bias=False)\n",
       "     (block1-bn): BatchNorm2d(128, eps=1e-05, momentum=0.1, affine=True, track_running_stats=True)\n",
       "     (flatten): Flatten()\n",
       "   )\n",
       "   (fc1): Linear(in_features=512, out_features=64, bias=True)\n",
       "   (fc2): Linear(in_features=512, out_features=64, bias=True)\n",
       "   (fc3): Linear(in_features=64, out_features=512, bias=True)\n",
       "   (decoder): Sequential(\n",
       "     (unflatten): UnFlatten()\n",
       "     (block0-convtranpose2d): ConvTranspose2d(128, 64, kernel_size=(4, 4), stride=(2, 2), output_padding=(1, 1), bias=False)\n",
       "     (block0-bn): BatchNorm2d(64, eps=1e-05, momentum=0.1, affine=True, track_running_stats=True)\n",
       "     (block0-relu): ReLU()\n",
       "     (block1-convtranpose2d): ConvTranspose2d(64, 17, kernel_size=(4, 4), stride=(2, 2), bias=False)\n",
       "     (block1-bn): BatchNorm2d(17, eps=1e-05, momentum=0.1, affine=True, track_running_stats=True)\n",
       "     (block1-sigmoid): Sigmoid()\n",
       "   )\n",
       " ), Adam (\n",
       " Parameter Group 0\n",
       "     amsgrad: False\n",
       "     betas: (0.9, 0.999)\n",
       "     eps: 1e-08\n",
       "     lr: 0.001\n",
       "     weight_decay: 0\n",
       " ))"
      ]
     },
     "execution_count": 18,
     "metadata": {},
     "output_type": "execute_result"
    }
   ],
   "source": [
    "vae, opt"
   ]
  },
  {
   "cell_type": "markdown",
   "metadata": {},
   "source": [
    "## phase 3: train vae and visualize training progress\n",
    "using `vae_fast_train` (callbacks, tensorboard)"
   ]
  },
  {
   "cell_type": "markdown",
   "metadata": {},
   "source": []
  },
  {
   "cell_type": "code",
   "execution_count": 1,
   "metadata": {
    "ExecuteTime": {
     "end_time": "2019-12-16T10:02:39.621432Z",
     "start_time": "2019-12-16T10:02:37.502443Z"
    }
   },
   "outputs": [],
   "source": []
  },
  {
   "cell_type": "code",
   "execution_count": 2,
   "metadata": {
    "ExecuteTime": {
     "end_time": "2019-12-16T09:59:37.361237Z",
     "start_time": "2019-12-16T09:59:31.368609Z"
    }
   },
   "outputs": [],
   "source": []
  },
  {
   "cell_type": "code",
   "execution_count": 25,
   "metadata": {
    "ExecuteTime": {
     "end_time": "2019-12-16T09:49:36.151934Z",
     "start_time": "2019-12-16T09:49:36.130093Z"
    }
   },
   "outputs": [],
   "source": [
    "import torch"
   ]
  },
  {
   "cell_type": "code",
   "execution_count": 30,
   "metadata": {
    "ExecuteTime": {
     "end_time": "2019-12-16T09:50:20.406346Z",
     "start_time": "2019-12-16T09:50:20.380723Z"
    }
   },
   "outputs": [
    {
     "data": {
      "text/plain": [
       "<module 'torch.utils' from '/Users/yangzhihan/anaconda/envs/deeplearning_googlecloud/lib/python3.6/site-packages/torch/utils/__init__.py'>"
      ]
     },
     "execution_count": 30,
     "metadata": {},
     "output_type": "execute_result"
    }
   ],
   "source": [
    "torch.utils"
   ]
  },
  {
   "cell_type": "code",
   "execution_count": 6,
   "metadata": {
    "ExecuteTime": {
     "end_time": "2019-12-16T10:04:39.707769Z",
     "start_time": "2019-12-16T10:04:39.566623Z"
    }
   },
   "outputs": [],
   "source": [
    "import numpy as np\n",
    "\n",
    "writer = SummaryWriter()\n",
    "\n",
    "for n_iter in range(100):\n",
    "    writer.add_scalar('Loss/train', np.random.random(), n_iter)\n",
    "    writer.add_scalar('Loss/test', np.random.random(), n_iter)\n",
    "    writer.add_scalar('Accuracy/train', np.random.random(), n_iter)\n",
    "    writer.add_scalar('Accuracy/test', np.random.random(), n_iter)\n",
    "    writer.add_image('Generations/1', torch.from_numpy(np.random.random((3, 5, 5))))"
   ]
  },
  {
   "cell_type": "code",
   "execution_count": null,
   "metadata": {},
   "outputs": [],
   "source": []
  },
  {
   "cell_type": "code",
   "execution_count": null,
   "metadata": {},
   "outputs": [],
   "source": []
  },
  {
   "cell_type": "code",
   "execution_count": null,
   "metadata": {},
   "outputs": [],
   "source": []
  },
  {
   "cell_type": "code",
   "execution_count": null,
   "metadata": {},
   "outputs": [],
   "source": []
  },
  {
   "cell_type": "code",
   "execution_count": null,
   "metadata": {},
   "outputs": [],
   "source": []
  },
  {
   "cell_type": "code",
   "execution_count": null,
   "metadata": {},
   "outputs": [],
   "source": []
  },
  {
   "cell_type": "code",
   "execution_count": null,
   "metadata": {},
   "outputs": [],
   "source": []
  },
  {
   "cell_type": "code",
   "execution_count": null,
   "metadata": {},
   "outputs": [],
   "source": []
  }
 ],
 "metadata": {
  "kernelspec": {
   "display_name": "Python 3",
   "language": "python",
   "name": "python3"
  },
  "language_info": {
   "codemirror_mode": {
    "name": "ipython",
    "version": 3
   },
   "file_extension": ".py",
   "mimetype": "text/x-python",
   "name": "python",
   "nbconvert_exporter": "python",
   "pygments_lexer": "ipython3",
   "version": "3.6.9"
  },
  "toc": {
   "base_numbering": 1,
   "nav_menu": {},
   "number_sections": false,
   "sideBar": true,
   "skip_h1_title": false,
   "title_cell": "Table of Contents",
   "title_sidebar": "Contents",
   "toc_cell": false,
   "toc_position": {},
   "toc_section_display": true,
   "toc_window_display": false
  }
 },
 "nbformat": 4,
 "nbformat_minor": 2
}
