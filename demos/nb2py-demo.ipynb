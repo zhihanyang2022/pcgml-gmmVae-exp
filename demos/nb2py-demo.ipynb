{
 "cells": [
  {
   "cell_type": "code",
   "execution_count": 6,
   "metadata": {
    "ExecuteTime": {
     "end_time": "2019-12-17T04:57:34.990863Z",
     "start_time": "2019-12-17T04:57:34.986847Z"
    }
   },
   "outputs": [],
   "source": [
    "#export\n",
    "import json\n",
    "import argparse"
   ]
  },
  {
   "cell_type": "markdown",
   "metadata": {},
   "source": [
    "do not use command `args = parser.parse_args()` inside a jupyter notebook"
   ]
  },
  {
   "cell_type": "code",
   "execution_count": 4,
   "metadata": {
    "ExecuteTime": {
     "end_time": "2019-12-17T04:57:31.887013Z",
     "start_time": "2019-12-17T04:57:31.872434Z"
    }
   },
   "outputs": [
    {
     "name": "stderr",
     "output_type": "stream",
     "text": [
      "usage: ipykernel_launcher.py [-h] path_to_nb path_to_py\n",
      "ipykernel_launcher.py: error: the following arguments are required: path_to_py\n"
     ]
    },
    {
     "ename": "SystemExit",
     "evalue": "2",
     "output_type": "error",
     "traceback": [
      "An exception has occurred, use %tb to see the full traceback.\n",
      "\u001b[0;31mSystemExit\u001b[0m\u001b[0;31m:\u001b[0m 2\n"
     ]
    },
    {
     "name": "stderr",
     "output_type": "stream",
     "text": [
      "/Users/yangzhihan/anaconda/envs/deeplearning_googlecloud/lib/python3.6/site-packages/IPython/core/interactiveshell.py:3273: UserWarning: To exit: use 'exit', 'quit', or Ctrl-D.\n",
      "  warn(\"To exit: use 'exit', 'quit', or Ctrl-D.\", stacklevel=1)\n"
     ]
    }
   ],
   "source": [
    "#export\n",
    "parser = argparse.ArgumentParser()\n",
    "parser.add_argument(\"path_to_nb\", help=\"path to the to-be-converted notebook\")\n",
    "parser.add_argument(\"path_to_py\", help=\"path to the exported python script\")\n",
    "args = parser.parse_args()"
   ]
  },
  {
   "cell_type": "code",
   "execution_count": 7,
   "metadata": {
    "ExecuteTime": {
     "end_time": "2019-12-17T04:57:36.979086Z",
     "start_time": "2019-12-17T04:57:36.973346Z"
    }
   },
   "outputs": [],
   "source": [
    "#export\n",
    "def not_empty(cell): return len(cell['source']) != 0\n",
    "\n",
    "def is_code(cell): return cell['cell_type'] == 'code'\n",
    "\n",
    "def to_be_exported(cell): return cell['source'][0].startswith('#export')"
   ]
  },
  {
   "cell_type": "code",
   "execution_count": 8,
   "metadata": {
    "ExecuteTime": {
     "end_time": "2019-12-17T04:57:37.190858Z",
     "start_time": "2019-12-17T04:57:37.183632Z"
    }
   },
   "outputs": [],
   "source": [
    "#export\n",
    "def load_json_from_nb(nb_path):\n",
    "    with open(nb_path, 'r') as nb_f:\n",
    "        json_dict = json.load(nb_f)\n",
    "    return json_dict"
   ]
  },
  {
   "cell_type": "code",
   "execution_count": 9,
   "metadata": {
    "ExecuteTime": {
     "end_time": "2019-12-17T04:57:37.342363Z",
     "start_time": "2019-12-17T04:57:37.303409Z"
    }
   },
   "outputs": [],
   "source": [
    "#export\n",
    "def nb2py(nb_path:str, py_path:str):\n",
    "    \n",
    "    nb = load_json_from_nb(nb_path)\n",
    "        \n",
    "    module_level_comments = []\n",
    "    import_cells = []\n",
    "    generic_cells = []\n",
    "    classes = {}  # map classes to a list of static methods that fall under them\n",
    "    static_methods2classes = {}  # map static methods to the classes under which they fall\n",
    "    \n",
    "    for cell in nb['cells']:  # loop over cells\n",
    "        if not_empty(cell) and is_code(cell):  # only process the non-empty code cells\n",
    "            \n",
    "            if to_be_exported(cell):  # do not move this line to its parent if statement\n",
    "                \n",
    "                tags_string = cell['source'][0]\n",
    "                cell_without_export_tag = cell['source'][1:]\n",
    "                \n",
    "                tags = tags_string.split(' ')\n",
    "                tags.pop(0)  # remove the preceding \"#export\"\n",
    "                if len(tags) > 0:  # if tags actually contain arguments\n",
    "                    \n",
    "                    for tag in tags:  # loop over tags\n",
    "                        \n",
    "                        tag = tag[1:]  # remove the preceding \"-\"\n",
    "                        tag_type, arg_value = tag.split(':')  # parse a argument-value pair\n",
    "                        if arg_value[-1] == '\\n': arg_value = arg_value[:-1]  # preprocess the last argument-value pair\n",
    "                        \n",
    "                        if tag_type == 'class':\n",
    "                            \n",
    "                            class_name = arg_value\n",
    "                            \n",
    "                            if class_name not in classes.keys(): \n",
    "                                classes[class_name] = [cell_without_export_tag]\n",
    "                            else:\n",
    "                                classes[class_name].append(cell_without_export_tag)\n",
    "                            \n",
    "                            method_name = cell_without_export_tag[0].split('(')[0][4:]\n",
    "                            static_methods2classes[method_name] = class_name \n",
    "                                \n",
    "                else:  # if tags do not contain arguments\n",
    "                    \n",
    "                    if cell['source'][1:][0] == '\"\"\"\\n':\n",
    "                        module_level_comments.append(cell_without_export_tag)\n",
    "                    elif cell['source'][1:][0].split(' ')[0] in ('import', 'from'):\n",
    "                        import_cells.append(cell_without_export_tag)\n",
    "                    else:\n",
    "                        generic_cells.append(cell_without_export_tag) \n",
    "    \n",
    "    with open(py_path, 'w') as py_f:\n",
    "        \n",
    "        for cell in module_level_comments:\n",
    "            for line in cell:\n",
    "                py_f.write(line)\n",
    "            py_f.write('\\n\\n')\n",
    "        \n",
    "        for cell in import_cells:\n",
    "            for line in cell:\n",
    "                py_f.write(line)\n",
    "            py_f.write('\\n\\n')\n",
    "        \n",
    "        for class_name, static_methods in classes.items():\n",
    "            py_f.write(f\"class {class_name}():\\n\\n\")\n",
    "            for method in static_methods:\n",
    "                py_f.write('    @staticmethod\\n')\n",
    "                for line in method:\n",
    "                    for m, c in static_methods2classes.items():\n",
    "                        if ('def ' + m not in line) and ((m + '(' in line) or ('=' + m in line)):\n",
    "                            index = line.index(m)\n",
    "                            line = line[:index] + c + '.' + line[index:]\n",
    "                    py_f.write(f'    {line}')\n",
    "                py_f.write('\\n\\n')\n",
    "        \n",
    "        for cell in generic_cells:\n",
    "            for line in cell:\n",
    "                py_f.write(line)  # write a single line of code\n",
    "            py_f.write('\\n\\n')  # last line of a cell does not have the newline character, so two is needed here"
   ]
  },
  {
   "cell_type": "code",
   "execution_count": 10,
   "metadata": {
    "ExecuteTime": {
     "end_time": "2019-12-17T04:57:38.521061Z",
     "start_time": "2019-12-17T04:57:38.510478Z"
    }
   },
   "outputs": [
    {
     "ename": "NameError",
     "evalue": "name 'args' is not defined",
     "output_type": "error",
     "traceback": [
      "\u001b[0;31m--------------------------------------------------------------------\u001b[0m",
      "\u001b[0;31mNameError\u001b[0m                          Traceback (most recent call last)",
      "\u001b[0;32m<ipython-input-10-4315c88c1c6e>\u001b[0m in \u001b[0;36m<module>\u001b[0;34m\u001b[0m\n\u001b[1;32m      1\u001b[0m \u001b[0;31m#export\u001b[0m\u001b[0;34m\u001b[0m\u001b[0;34m\u001b[0m\u001b[0;34m\u001b[0m\u001b[0m\n\u001b[0;32m----> 2\u001b[0;31m \u001b[0mnb2py\u001b[0m\u001b[0;34m(\u001b[0m\u001b[0margs\u001b[0m\u001b[0;34m.\u001b[0m\u001b[0mpath_to_nb\u001b[0m\u001b[0;34m,\u001b[0m \u001b[0margs\u001b[0m\u001b[0;34m.\u001b[0m\u001b[0mpath_to_py\u001b[0m\u001b[0;34m)\u001b[0m\u001b[0;34m\u001b[0m\u001b[0;34m\u001b[0m\u001b[0m\n\u001b[0m",
      "\u001b[0;31mNameError\u001b[0m: name 'args' is not defined"
     ]
    }
   ],
   "source": [
    "#export\n",
    "nb2py(args.path_to_nb, args.path_to_py)"
   ]
  },
  {
   "cell_type": "code",
   "execution_count": 11,
   "metadata": {
    "ExecuteTime": {
     "end_time": "2019-12-17T04:57:40.178226Z",
     "start_time": "2019-12-17T04:57:40.172331Z"
    }
   },
   "outputs": [],
   "source": [
    "nb2py('nb2py-demo.ipynb', '../modules/nb2py.py')"
   ]
  },
  {
   "cell_type": "code",
   "execution_count": 5,
   "metadata": {
    "ExecuteTime": {
     "end_time": "2019-12-17T04:57:32.014390Z",
     "start_time": "2019-12-17T04:57:32.002774Z"
    }
   },
   "outputs": [
    {
     "ename": "NameError",
     "evalue": "name 'nb2py' is not defined",
     "output_type": "error",
     "traceback": [
      "\u001b[0;31m--------------------------------------------------------------------\u001b[0m",
      "\u001b[0;31mNameError\u001b[0m                          Traceback (most recent call last)",
      "\u001b[0;32m<ipython-input-5-a596e3e547f8>\u001b[0m in \u001b[0;36m<module>\u001b[0;34m\u001b[0m\n\u001b[0;32m----> 1\u001b[0;31m \u001b[0mnb2py\u001b[0m\u001b[0;34m(\u001b[0m\u001b[0;34m'vae-fast-train-demos.ipynb'\u001b[0m\u001b[0;34m,\u001b[0m \u001b[0;34m'../modules/fast_train.py'\u001b[0m\u001b[0;34m)\u001b[0m\u001b[0;34m\u001b[0m\u001b[0;34m\u001b[0m\u001b[0m\n\u001b[0m",
      "\u001b[0;31mNameError\u001b[0m: name 'nb2py' is not defined"
     ]
    }
   ],
   "source": [
    "nb2py('vae-fast-train-demos.ipynb', '../modules/fast_train.py')"
   ]
  },
  {
   "cell_type": "code",
   "execution_count": null,
   "metadata": {
    "ExecuteTime": {
     "end_time": "2019-12-17T04:57:32.019784Z",
     "start_time": "2019-12-17T04:57:31.884Z"
    }
   },
   "outputs": [],
   "source": [
    "for i in '#export -class:DataPipeline'.split(' ')[1:]:\n",
    "    a, b = i[1:].split(':')\n",
    "    print(a, b)\n",
    "    # create a class called classname\n",
    "    # make sure everything in the cell gets pasted under that class with proper indentation"
   ]
  },
  {
   "cell_type": "code",
   "execution_count": null,
   "metadata": {
    "ExecuteTime": {
     "end_time": "2019-12-17T04:57:32.021494Z",
     "start_time": "2019-12-17T04:57:31.886Z"
    }
   },
   "outputs": [],
   "source": [
    "'#export'.split(' ')"
   ]
  },
  {
   "cell_type": "code",
   "execution_count": null,
   "metadata": {
    "ExecuteTime": {
     "end_time": "2019-12-17T04:57:32.023161Z",
     "start_time": "2019-12-17T04:57:31.888Z"
    }
   },
   "outputs": [],
   "source": [
    "'\\n'[0]"
   ]
  },
  {
   "cell_type": "code",
   "execution_count": null,
   "metadata": {
    "ExecuteTime": {
     "end_time": "2019-12-17T04:57:32.025672Z",
     "start_time": "2019-12-17T04:57:31.891Z"
    }
   },
   "outputs": [],
   "source": [
    "\"def method_name():\""
   ]
  },
  {
   "cell_type": "code",
   "execution_count": null,
   "metadata": {
    "ExecuteTime": {
     "end_time": "2019-12-17T04:57:32.027347Z",
     "start_time": "2019-12-17T04:57:31.893Z"
    }
   },
   "outputs": [],
   "source": [
    "\"method1.\" in \"method1.()\""
   ]
  },
  {
   "cell_type": "code",
   "execution_count": null,
   "metadata": {
    "ExecuteTime": {
     "end_time": "2019-12-17T04:57:32.029336Z",
     "start_time": "2019-12-17T04:57:31.895Z"
    }
   },
   "outputs": [],
   "source": [
    "'method1.()'.index(\"method1\")"
   ]
  },
  {
   "cell_type": "code",
   "execution_count": null,
   "metadata": {
    "ExecuteTime": {
     "end_time": "2019-12-17T04:57:32.031667Z",
     "start_time": "2019-12-17T04:57:31.899Z"
    }
   },
   "outputs": [],
   "source": [
    "'method1.()'[:0] + 'CLASS.' + 'method1.()'[0:]"
   ]
  },
  {
   "cell_type": "code",
   "execution_count": null,
   "metadata": {
    "ExecuteTime": {
     "end_time": "2019-12-17T04:57:32.036778Z",
     "start_time": "2019-12-17T04:57:31.901Z"
    }
   },
   "outputs": [],
   "source": [
    "import sys\n",
    "sys.path.append('../modules')"
   ]
  },
  {
   "cell_type": "code",
   "execution_count": null,
   "metadata": {
    "ExecuteTime": {
     "end_time": "2019-12-17T04:57:32.039535Z",
     "start_time": "2019-12-17T04:57:31.905Z"
    }
   },
   "outputs": [],
   "source": [
    "from fast_train import DataPipeline"
   ]
  },
  {
   "cell_type": "code",
   "execution_count": null,
   "metadata": {},
   "outputs": [],
   "source": []
  }
 ],
 "metadata": {
  "kernelspec": {
   "display_name": "Python 3",
   "language": "python",
   "name": "python3"
  },
  "language_info": {
   "codemirror_mode": {
    "name": "ipython",
    "version": 3
   },
   "file_extension": ".py",
   "mimetype": "text/x-python",
   "name": "python",
   "nbconvert_exporter": "python",
   "pygments_lexer": "ipython3",
   "version": "3.6.9"
  },
  "toc": {
   "base_numbering": 1,
   "nav_menu": {},
   "number_sections": true,
   "sideBar": true,
   "skip_h1_title": false,
   "title_cell": "Table of Contents",
   "title_sidebar": "Contents",
   "toc_cell": false,
   "toc_position": {},
   "toc_section_display": true,
   "toc_window_display": false
  }
 },
 "nbformat": 4,
 "nbformat_minor": 2
}
