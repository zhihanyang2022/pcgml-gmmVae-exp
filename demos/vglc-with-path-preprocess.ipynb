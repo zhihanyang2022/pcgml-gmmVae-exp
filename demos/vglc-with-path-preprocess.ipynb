{
 "cells": [
  {
   "cell_type": "markdown",
   "metadata": {},
   "source": [
    "# Preprocess SMB and KI levels into chunks\n",
    "\n",
    "- Project: PCGML, VAE\n",
    "- Date: 2019/08/14"
   ]
  },
  {
   "cell_type": "code",
   "execution_count": 136,
   "metadata": {
    "ExecuteTime": {
     "end_time": "2019-12-19T08:24:07.179587Z",
     "start_time": "2019-12-19T08:24:07.165739Z"
    },
    "init_cell": true
   },
   "outputs": [],
   "source": [
    "import os\n",
    "import numpy as np\n",
    "import json\n",
    "import matplotlib.pyplot as plt"
   ]
  },
  {
   "cell_type": "code",
   "execution_count": 137,
   "metadata": {
    "ExecuteTime": {
     "end_time": "2019-12-19T08:24:07.510531Z",
     "start_time": "2019-12-19T08:24:07.503154Z"
    }
   },
   "outputs": [],
   "source": [
    "import sys\n",
    "sys.path.append('../modules')"
   ]
  },
  {
   "cell_type": "markdown",
   "metadata": {},
   "source": [
    "## Encoding scheme"
   ]
  },
  {
   "cell_type": "code",
   "execution_count": 138,
   "metadata": {
    "ExecuteTime": {
     "end_time": "2019-12-19T08:24:08.380071Z",
     "start_time": "2019-12-19T08:24:08.375423Z"
    },
    "init_cell": true
   },
   "outputs": [],
   "source": [
    "from vglc_with_path_encodings import Encoding, array_from_json, array_to_image"
   ]
  },
  {
   "cell_type": "markdown",
   "metadata": {},
   "source": [
    "## Hyper-parameters"
   ]
  },
  {
   "cell_type": "markdown",
   "metadata": {},
   "source": [
    "Run this cell before running the \"Preprocess pipeline\" to get chunks from **all SMB levels**:"
   ]
  },
  {
   "cell_type": "code",
   "execution_count": 143,
   "metadata": {
    "ExecuteTime": {
     "end_time": "2019-12-19T12:02:19.090489Z",
     "start_time": "2019-12-19T12:02:19.052193Z"
    }
   },
   "outputs": [],
   "source": [
    "txt_folder_path = '../data/vglc-smb-with-path-levels'\n",
    "game = 'SMB'\n",
    "json_name = '../data/smbWithPath-allLevels-chunks-int'"
   ]
  },
  {
   "cell_type": "markdown",
   "metadata": {
    "ExecuteTime": {
     "end_time": "2019-08-16T18:45:12.373548Z",
     "start_time": "2019-08-16T18:45:12.311745Z"
    }
   },
   "source": [
    "Run this cell before running the \"Preprocess pipeline\" to get chunks from **all KI levels**:"
   ]
  },
  {
   "cell_type": "code",
   "execution_count": 139,
   "metadata": {
    "ExecuteTime": {
     "end_time": "2019-12-19T08:24:10.140199Z",
     "start_time": "2019-12-19T08:24:10.136482Z"
    }
   },
   "outputs": [],
   "source": [
    "txt_folder_path = '../data/vglc-ki-with-path-levels'\n",
    "game = 'KI'\n",
    "json_name = '../data/kiWithPath-allLevels-chunks-int'"
   ]
  },
  {
   "cell_type": "markdown",
   "metadata": {},
   "source": [
    "## Preprocess pipeline"
   ]
  },
  {
   "cell_type": "code",
   "execution_count": 144,
   "metadata": {
    "ExecuteTime": {
     "end_time": "2019-12-19T12:02:20.333440Z",
     "start_time": "2019-12-19T12:02:20.204059Z"
    },
    "scrolled": true
   },
   "outputs": [
    {
     "name": "stdout",
     "output_type": "stream",
     "text": [
      "(187, 16, 16)\n",
      "(143, 16, 16)\n",
      "(135, 16, 16)\n",
      "(182, 16, 16)\n",
      "(182, 16, 16)\n",
      "(134, 16, 16)\n",
      "(207, 16, 16)\n",
      "(172, 16, 16)\n",
      "(183, 16, 16)\n",
      "(135, 16, 16)\n",
      "(169, 16, 16)\n",
      "(200, 16, 16)\n",
      "(150, 16, 16)\n",
      "(161, 16, 16)\n",
      "(358, 16, 16)\n",
      "[ 0  1  2  3  4  5  6  7  8  9 10 11]\n"
     ]
    }
   ],
   "source": [
    "chunks_by_level = []\n",
    "txt_fnames = sorted([fname for fname in os.listdir(txt_folder_path) if fname.split('.')[-1] == 'txt'])\n",
    "\n",
    "for fname in txt_fnames:  # process one file at a time\n",
    "    \n",
    "    # 1: load a txt file into a string\n",
    "    with open(os.path.join(txt_folder_path, fname)) as f:\n",
    "        string = f.read()\n",
    "        \n",
    "    # 2: split the string into lines at newline characters\n",
    "    rows = string.split('\\n')  \n",
    "\n",
    "    if game == 'SMB' or game == 'KI':\n",
    "        rows = rows[:-1]  \n",
    "        # for both SMBA and KIA levels, last row is an empty string\n",
    "        # if this step is not done, it would prevent the arrays of characters to be converted into np array\n",
    "\n",
    "    # 3: split each line into separate characters\n",
    "    rows = [list(row) for row in rows]  \n",
    "\n",
    "    # remove invalid characters\n",
    "    rows = np.array(rows)\n",
    "    for invalid_char in ['B', 'b']:\n",
    "        rows[rows == invalid_char] = '-'\n",
    "        \n",
    "    # re-encode background tiles for KI levels\n",
    "    if game == 'KI':\n",
    "        rows[rows == '-'] = '*'\n",
    "\n",
    "    # step 4: encode characters with integers using a specificed encoding scheme\n",
    "    if game == 'SMB':\n",
    "        level_int = [[Encoding.char2int_smb[item] for item in row] for row in rows]  \n",
    "    elif game == 'KI':\n",
    "        level_int = [[Encoding.char2int_ki[item] for item in row] for row in rows]\n",
    "        \n",
    "    # step 5: move a 16-by-16 window over the level, obtain chunks\n",
    "    \n",
    "    level_int = np.array(level_int)\n",
    "    \n",
    "    if game == 'SMB':\n",
    "#         level_int = np.vstack([np.zeros((2, level_int.shape[1]))+2, level_int])\n",
    "        array_width = level_int.shape[1] + 1\n",
    "        chunks_int = [level_int[:,left:left+16] for left in range(0, array_width-16)]\n",
    "        print(np.array(chunks_int).shape)\n",
    "        chunks_by_level.extend(chunks_int)\n",
    "\n",
    "    elif game == 'KI':\n",
    "        array_height = level_int.shape[0] + 1\n",
    "        chunks_int = [level_int[top:top+16,:] for top in range(0, array_height-16)]\n",
    "        print(np.array(chunks_int).shape)\n",
    "        chunks_by_level.extend(chunks_int)\n",
    "            \n",
    "chunks_int = np.array(chunks_by_level, dtype='int')\n",
    "print(np.unique(chunks_int))\n",
    "\n",
    "# no onehot encoding, because saving onehot encoded chunks makes the resulting json file too big\n",
    "# onehot = np.eye(17)\n",
    "# chunks_onehot = onehot[chunks_int]\n",
    "# chunks_onehot = np.rollaxis(chunks_onehot, 3, 1)"
   ]
  },
  {
   "cell_type": "markdown",
   "metadata": {},
   "source": [
    "## Check array shape and save chunks as json"
   ]
  },
  {
   "cell_type": "code",
   "execution_count": 141,
   "metadata": {
    "ExecuteTime": {
     "end_time": "2019-12-19T08:24:12.274305Z",
     "start_time": "2019-12-19T08:24:12.263464Z"
    }
   },
   "outputs": [
    {
     "name": "stdout",
     "output_type": "stream",
     "text": [
      "(1297, 16, 16)\n"
     ]
    }
   ],
   "source": [
    "print(chunks_int.shape)"
   ]
  },
  {
   "cell_type": "code",
   "execution_count": 142,
   "metadata": {
    "ExecuteTime": {
     "end_time": "2019-12-19T08:24:13.902604Z",
     "start_time": "2019-12-19T08:24:12.804696Z"
    }
   },
   "outputs": [
    {
     "data": {
      "image/png": "[encoded data removed]",
      "text/plain": [
       "<Figure size 1080x1080 with 25 Axes>"
      ]
     },
     "metadata": {
      "needs_background": "light"
     },
     "output_type": "display_data"
    }
   ],
   "source": [
    "fig = plt.figure(figsize=(15, 15))\n",
    "nrows, ncols = 5, 5\n",
    "start = 10\n",
    "for i in range(nrows * ncols):\n",
    "    ax = fig.add_subplot(nrows, ncols, i+1)\n",
    "    ax.imshow(array_to_image([chunks_int[i+start]], game=game.lower()))\n",
    "    ax.axis('off')"
   ]
  },
  {
   "cell_type": "code",
   "execution_count": 135,
   "metadata": {
    "ExecuteTime": {
     "end_time": "2019-12-19T02:28:47.732660Z",
     "start_time": "2019-12-19T02:28:46.621611Z"
    }
   },
   "outputs": [],
   "source": [
    "with open(f'{json_name}.json', 'w+') as f:\n",
    "    json.dump(chunks_int.tolist(), f)"
   ]
  },
  {
   "cell_type": "markdown",
   "metadata": {},
   "source": [
    "## Generate labels for SMB chunks (with pipe or not)"
   ]
  },
  {
   "cell_type": "code",
   "execution_count": 46,
   "metadata": {
    "ExecuteTime": {
     "end_time": "2019-08-23T10:07:37.025769Z",
     "start_time": "2019-08-23T10:07:36.975840Z"
    }
   },
   "outputs": [],
   "source": [
    "labels = []\n",
    "for chunk in chunks_int:\n",
    "    if (6 in chunk) or (7 in chunk) or (8 in chunk) or (9 in chunk):\n",
    "        labels.append(1)\n",
    "    else:\n",
    "        labels.append(0)\n",
    "labels = np.array(labels)"
   ]
  },
  {
   "cell_type": "code",
   "execution_count": 47,
   "metadata": {
    "ExecuteTime": {
     "end_time": "2019-08-23T10:07:37.047297Z",
     "start_time": "2019-08-23T10:07:37.033513Z"
    }
   },
   "outputs": [],
   "source": [
    "with open(f'smb_labels_pipe.json', 'w+') as f:\n",
    "    json.dump(labels.tolist(), f)"
   ]
  },
  {
   "cell_type": "code",
   "execution_count": null,
   "metadata": {},
   "outputs": [],
   "source": []
  },
  {
   "cell_type": "code",
   "execution_count": null,
   "metadata": {},
   "outputs": [],
   "source": []
  },
  {
   "cell_type": "code",
   "execution_count": null,
   "metadata": {},
   "outputs": [],
   "source": []
  },
  {
   "cell_type": "code",
   "execution_count": null,
   "metadata": {},
   "outputs": [],
   "source": []
  }
 ],
 "metadata": {
  "celltoolbar": "Raw Cell Format",
  "kernelspec": {
   "display_name": "Python 3",
   "language": "python",
   "name": "python3"
  },
  "language_info": {
   "codemirror_mode": {
    "name": "ipython",
    "version": 3
   },
   "file_extension": ".py",
   "mimetype": "text/x-python",
   "name": "python",
   "nbconvert_exporter": "python",
   "pygments_lexer": "ipython3",
   "version": "3.6.9"
  },
  "toc": {
   "base_numbering": 1,
   "nav_menu": {},
   "number_sections": false,
   "sideBar": true,
   "skip_h1_title": false,
   "title_cell": "Table of Contents",
   "title_sidebar": "Contents",
   "toc_cell": false,
   "toc_position": {},
   "toc_section_display": true,
   "toc_window_display": false
  }
 },
 "nbformat": 4,
 "nbformat_minor": 2
}
