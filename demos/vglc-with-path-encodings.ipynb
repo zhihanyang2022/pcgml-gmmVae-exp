{
 "cells": [
  {
   "cell_type": "code",
   "execution_count": 40,
   "metadata": {
    "ExecuteTime": {
     "end_time": "2019-12-19T11:09:54.955876Z",
     "start_time": "2019-12-19T11:09:54.234826Z"
    }
   },
   "outputs": [],
   "source": [
    "#export\n",
    "import numpy as np\n",
    "import json\n",
    "from PIL import Image"
   ]
  },
  {
   "cell_type": "code",
   "execution_count": 7,
   "metadata": {
    "ExecuteTime": {
     "end_time": "2019-12-19T00:51:41.424534Z",
     "start_time": "2019-12-19T00:51:41.417919Z"
    }
   },
   "outputs": [],
   "source": [
    "#export\n",
    "tiles_path = '../data/tiles'"
   ]
  },
  {
   "cell_type": "markdown",
   "metadata": {},
   "source": [
    "## Mappings"
   ]
  },
  {
   "cell_type": "markdown",
   "metadata": {},
   "source": [
    "Two char-to-int encodings, one for smb, one for ki."
   ]
  },
  {
   "cell_type": "code",
   "execution_count": 33,
   "metadata": {
    "ExecuteTime": {
     "end_time": "2019-12-19T01:32:16.866232Z",
     "start_time": "2019-12-19T01:32:16.857728Z"
    },
    "code_folding": []
   },
   "outputs": [],
   "source": [
    "#export\n",
    "char2int_smb = { \n",
    "    \"X\": 0,\n",
    "    \"S\": 1,\n",
    "    \"-\": 2,\n",
    "    \"?\": 3,\n",
    "    \"Q\": 4,\n",
    "    \"E\": 5,\n",
    "    \"<\": 6,\n",
    "    \">\": 7,\n",
    "    \"[\": 8,\n",
    "    \"]\": 9,\n",
    "    \"o\": 10,\n",
    "    \"P\": 11,  # for smb path (from Anurag's email)\n",
    "}\n",
    "\n",
    "char2int_ki = {\n",
    "    \"T\": 0,\n",
    "    \"M\": 1,\n",
    "    \"D\": 2,\n",
    "    \"#\": 3,\n",
    "    \"H\": 4,\n",
    "    \"*\": 5,  # for ki background, different from vglc (from Anurag's email)\n",
    "    \"P\": 6,  # for ki path (from Anurag's email)\n",
    "}\n",
    "\n",
    "int2char_smb = {v:k for k, v in char2int_smb.items()}\n",
    "int2char_ki = {v:k for k, v in char2int_ki.items()}"
   ]
  },
  {
   "cell_type": "markdown",
   "metadata": {},
   "source": [
    "Two char-to-png encodings."
   ]
  },
  {
   "cell_type": "code",
   "execution_count": 32,
   "metadata": {
    "ExecuteTime": {
     "end_time": "2019-12-19T01:31:52.691117Z",
     "start_time": "2019-12-19T01:31:52.669712Z"
    }
   },
   "outputs": [],
   "source": [
    "#export\n",
    "chars2pngs_smb = {    \n",
    "    \"-\": Image.open(f'{tiles_path}/smb-background.png'),\n",
    "    \"X\": Image.open(f'{tiles_path}/smb-unpassable.png'),\n",
    "    \"S\": Image.open(f'{tiles_path}/smb-breakable.png'),\n",
    "    \"?\": Image.open(f'{tiles_path}/smb-question.png'),\n",
    "    \"Q\": Image.open(f'{tiles_path}/smb-question.png'),\n",
    "    \"o\": Image.open(f'{tiles_path}/smb-coin.png'),\n",
    "    \"E\": Image.open(f'{tiles_path}/smb-enemy.png'),\n",
    "    \"<\": Image.open(f'{tiles_path}/smb-tube-top-left.png'),\n",
    "    \">\": Image.open(f'{tiles_path}/smb-tube-top-right.png'),\n",
    "    \"[\": Image.open(f'{tiles_path}/smb-tube-lower-left.png'),\n",
    "    \"]\": Image.open(f'{tiles_path}/smb-tube-lower-right.png'),\n",
    "    \"P\": Image.open(f'{tiles_path}/smb-path.png')  # self-created\n",
    "}\n",
    "\n",
    "chars2pngs_ki = {\n",
    "    \"#\": Image.open(f'{tiles_path}/ki-unpassable.png'),\n",
    "    \"T\": Image.open(f'{tiles_path}/ki-passable.png'),\n",
    "    \"M\": Image.open(f'{tiles_path}/ki-moving-platform.png'),\n",
    "    \"H\": Image.open(f'{tiles_path}/ki-hazard.png'),\n",
    "    \"*\": Image.open(f'{tiles_path}/ki-background.png'),\n",
    "    \"D\": Image.open(f'{tiles_path}/ki-door.png'),\n",
    "    \"P\": Image.open(f'{tiles_path}/ki-path.png')  # self-created\n",
    "}"
   ]
  },
  {
   "cell_type": "code",
   "execution_count": 38,
   "metadata": {
    "ExecuteTime": {
     "end_time": "2019-12-19T01:35:13.781584Z",
     "start_time": "2019-12-19T01:35:13.776843Z"
    }
   },
   "outputs": [],
   "source": [
    "#export\n",
    "class Encoding():\n",
    "    char2int_smb = char2int_smb\n",
    "    char2int_ki = char2int_ki\n",
    "    int2char_smb = int2char_smb\n",
    "    int2char_ki = int2char_ki\n",
    "    chars2pngs_smb = chars2pngs_smb\n",
    "    chars2pngs_ki = chars2pngs_ki"
   ]
  },
  {
   "cell_type": "markdown",
   "metadata": {},
   "source": [
    "## Functions"
   ]
  },
  {
   "cell_type": "code",
   "execution_count": 28,
   "metadata": {
    "ExecuteTime": {
     "end_time": "2019-12-19T01:27:20.643528Z",
     "start_time": "2019-12-19T01:27:20.637383Z"
    }
   },
   "outputs": [],
   "source": [
    "#export\n",
    "def array_from_json(path:str):\n",
    "    with open(path) as f:\n",
    "        chunks = np.array(json.load(f))\n",
    "    print(f'{len(chunks)} chunks loaded from {path}.')\n",
    "    return chunks"
   ]
  },
  {
   "cell_type": "code",
   "execution_count": 39,
   "metadata": {
    "ExecuteTime": {
     "end_time": "2019-12-19T02:01:51.870859Z",
     "start_time": "2019-12-19T02:01:51.858492Z"
    }
   },
   "outputs": [],
   "source": [
    "#export\n",
    "def array_to_image(array, game):\n",
    "    \"\"\"\n",
    "    Convert a 16-by-16 array of integers into a PIL.Image object\n",
    "    param: array: a 16-by-16 array of integers\n",
    "    \"\"\"\n",
    "    images = []\n",
    "    for i in array:\n",
    "        image = Image.new('RGB',(16 * 16, 16 * 16))\n",
    "        for row, seg in enumerate(i):\n",
    "            for col, tile in enumerate(seg):\n",
    "                if game == 'smb':\n",
    "                    image.paste(chars2pngs_smb[int2char_smb[tile]], (col * 16, row * 16))\n",
    "                elif game == 'ki':\n",
    "                    image.paste(chars2pngs_ki[int2char_ki[tile]], (col * 16, row * 16))\n",
    "        images.append(image)\n",
    "    return images"
   ]
  },
  {
   "cell_type": "code",
   "execution_count": null,
   "metadata": {},
   "outputs": [],
   "source": []
  }
 ],
 "metadata": {
  "kernelspec": {
   "display_name": "Python 3",
   "language": "python",
   "name": "python3"
  },
  "language_info": {
   "codemirror_mode": {
    "name": "ipython",
    "version": 3
   },
   "file_extension": ".py",
   "mimetype": "text/x-python",
   "name": "python",
   "nbconvert_exporter": "python",
   "pygments_lexer": "ipython3",
   "version": "3.6.9"
  },
  "toc": {
   "base_numbering": 1,
   "nav_menu": {},
   "number_sections": false,
   "sideBar": true,
   "skip_h1_title": false,
   "title_cell": "Table of Contents",
   "title_sidebar": "Contents",
   "toc_cell": false,
   "toc_position": {
    "height": "calc(100% - 180px)",
    "left": "10px",
    "top": "150px",
    "width": "177.205px"
   },
   "toc_section_display": true,
   "toc_window_display": true
  }
 },
 "nbformat": 4,
 "nbformat_minor": 2
}
